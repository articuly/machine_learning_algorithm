{
 "cells": [
  {
   "cell_type": "code",
   "execution_count": 1,
   "metadata": {},
   "outputs": [],
   "source": [
    "import seaborn as sns\n",
    "import pandas as pd\n",
    "sns.set(font_scale=1.5)\n",
    "import matplotlib.pyplot as plt\n",
    "import numpy as np\n",
    "from sklearn import linear_model\n",
    "from sklearn.linear_model import LinearRegression\n",
    "\n",
    "from sklearn.metrics import mean_squared_error\n",
    "from sklearn.metrics import mean_absolute_error\n",
    "from sklearn.pipeline import Pipeline\n",
    "from sklearn.preprocessing import PolynomialFeatures"
   ]
  },
  {
   "cell_type": "markdown",
   "metadata": {},
   "source": [
    "### P1: Understanding Alpha"
   ]
  },
  {
   "cell_type": "markdown",
   "metadata": {},
   "source": [
    "#### P1A: Using Ridge instead of LinearRegression"
   ]
  },
  {
   "cell_type": "markdown",
   "metadata": {},
   "source": [
    "In HW3, we had you fit a model to predict the x-y relationship given below."
   ]
  },
  {
   "cell_type": "code",
   "execution_count": 2,
   "metadata": {},
   "outputs": [],
   "source": [
    "file1=r'D:\\Programing\\python_projects\\machine_learning_algorithm\\data_set\\p1.csv'\n",
    "p1_data = pd.read_csv(file1)"
   ]
  },
  {
   "cell_type": "code",
   "execution_count": 3,
   "metadata": {},
   "outputs": [
    {
     "data": {
      "text/plain": [
       "[<matplotlib.lines.Line2D at 0x28f6976d188>]"
      ]
     },
     "execution_count": 3,
     "metadata": {},
     "output_type": "execute_result"
    },
    {
     "data": {
      "image/png": "[encoded data removed]",
      "text/plain": [
       "<Figure size 432x288 with 1 Axes>"
      ]
     },
     "metadata": {},
     "output_type": "display_data"
    }
   ],
   "source": [
    "plt.plot(p1_data[\"x\"], p1_data[\"y\"])"
   ]
  },
  {
   "cell_type": "markdown",
   "metadata": {},
   "source": [
    "In particular, we had you create a new dataframe with 3 features: x, sin(x) and sin(5x)"
   ]
  },
  {
   "cell_type": "code",
   "execution_count": 4,
   "metadata": {},
   "outputs": [],
   "source": [
    "featurized_p1_data = pd.DataFrame({\n",
    "    \"phi1\": p1_data[\"x\"],\n",
    "    \"phi2\": np.sin(p1_data[\"x\"]),\n",
    "    \"phi3\": np.sin(5*p1_data[\"x\"])\n",
    "})"
   ]
  },
  {
   "cell_type": "markdown",
   "metadata": {},
   "source": [
    "To understand how regularization works, let's now try using the `Ridge` module instead of `LinearRegression`. Recall that `Ridge` takes an `alpha` parameter that lets us control the complexity of our model.\n",
    "\n",
    "Let's start by using `alpha = 0`, which will make our model work exactly like `LinearRegression`."
   ]
  },
  {
   "cell_type": "code",
   "execution_count": 5,
   "metadata": {},
   "outputs": [
    {
     "data": {
      "text/plain": [
       "Ridge(alpha=0, copy_X=True, fit_intercept=True, max_iter=None,\n",
       "   normalize=False, random_state=None, solver='auto', tol=0.001)"
      ]
     },
     "execution_count": 5,
     "metadata": {},
     "output_type": "execute_result"
    }
   ],
   "source": [
    "p1_model_alpha0 = linear_model.Ridge(alpha = 0)\n",
    "p1_model_alpha0.fit(featurized_p1_data, p1_data[\"y\"])"
   ]
  },
  {
   "cell_type": "code",
   "execution_count": 6,
   "metadata": {},
   "outputs": [
    {
     "data": {
      "text/plain": [
       "array([2. , 3. , 0.5])"
      ]
     },
     "execution_count": 6,
     "metadata": {},
     "output_type": "execute_result"
    }
   ],
   "source": [
    "p1_model_alpha0.coef_"
   ]
  },
  {
   "cell_type": "markdown",
   "metadata": {},
   "source": [
    "Observe above that the coefficients are exactly the same that we found in hw3.\n",
    "\n",
    "Below:\n",
    "1. Fit a model `p1_model_alpha100` that has an alpha value of 100. \n",
    "2. Print out the coefficients of the model and compare them to the coefficients for `p1_model`\n",
    "3. Make a plot of the predictions made by `p1_model_alpha100` and compare them to the original data.\n",
    "\n",
    "You should see that the coefficients are slightly smaller and the fit is not quite as good."
   ]
  },
  {
   "cell_type": "code",
   "execution_count": 7,
   "metadata": {},
   "outputs": [
    {
     "data": {
      "text/plain": [
       "Ridge(alpha=100, copy_X=True, fit_intercept=True, max_iter=None,\n",
       "   normalize=False, random_state=None, solver='auto', tol=0.001)"
      ]
     },
     "execution_count": 7,
     "metadata": {},
     "output_type": "execute_result"
    }
   ],
   "source": [
    "p1_model_alpha100 = linear_model.Ridge(alpha=100)\n",
    "p1_model_alpha100.fit(featurized_p1_data, p1_data['y'])"
   ]
  },
  {
   "cell_type": "code",
   "execution_count": 8,
   "metadata": {},
   "outputs": [
    {
     "data": {
      "text/plain": [
       "array([2.008366  , 2.09787207, 0.35873337])"
      ]
     },
     "execution_count": 8,
     "metadata": {},
     "output_type": "execute_result"
    }
   ],
   "source": [
    "p1_model_alpha100.coef_"
   ]
  },
  {
   "cell_type": "code",
   "execution_count": 9,
   "metadata": {},
   "outputs": [
    {
     "data": {
      "text/plain": [
       "[<matplotlib.lines.Line2D at 0x28f6b56bb08>]"
      ]
     },
     "execution_count": 9,
     "metadata": {},
     "output_type": "execute_result"
    },
    {
     "data": {
      "image/png": "[encoded data removed]",
      "text/plain": [
       "<Figure size 432x288 with 1 Axes>"
      ]
     },
     "metadata": {},
     "output_type": "display_data"
    }
   ],
   "source": [
    "plt.plot(p1_data[\"x\"], p1_data[\"y\"])\n",
    "plt.plot(p1_data[\"x\"], p1_model_alpha100.predict(featurized_p1_data))"
   ]
  },
  {
   "cell_type": "markdown",
   "metadata": {},
   "source": [
    "Now repeat the same exercise with alpha = 1000."
   ]
  },
  {
   "cell_type": "code",
   "execution_count": 10,
   "metadata": {},
   "outputs": [
    {
     "data": {
      "text/plain": [
       "Ridge(alpha=1000, copy_X=True, fit_intercept=True, max_iter=None,\n",
       "   normalize=False, random_state=None, solver='auto', tol=0.001)"
      ]
     },
     "execution_count": 10,
     "metadata": {},
     "output_type": "execute_result"
    }
   ],
   "source": [
    "p1_model_alpha1000 = linear_model.Ridge(alpha=1000)\n",
    "p1_model_alpha1000.fit(featurized_p1_data, p1_data['y'])"
   ]
  },
  {
   "cell_type": "code",
   "execution_count": 11,
   "metadata": {},
   "outputs": [
    {
     "data": {
      "text/plain": [
       "array([1.93820735, 0.59244613, 0.09695011])"
      ]
     },
     "execution_count": 11,
     "metadata": {},
     "output_type": "execute_result"
    }
   ],
   "source": [
    "p1_model_alpha1000.coef_"
   ]
  },
  {
   "cell_type": "code",
   "execution_count": 12,
   "metadata": {},
   "outputs": [
    {
     "data": {
      "text/plain": [
       "[<matplotlib.lines.Line2D at 0x28f6ba29388>]"
      ]
     },
     "execution_count": 12,
     "metadata": {},
     "output_type": "execute_result"
    },
    {
     "data": {
      "image/png": "[encoded data removed]",
      "text/plain": [
       "<Figure size 432x288 with 1 Axes>"
      ]
     },
     "metadata": {},
     "output_type": "display_data"
    }
   ],
   "source": [
    "plt.plot(p1_data[\"x\"], p1_data[\"y\"])\n",
    "plt.plot(p1_data[\"x\"], p1_model_alpha100.predict(featurized_p1_data))\n",
    "plt.plot(p1_data[\"x\"], p1_model_alpha1000.predict(featurized_p1_data))"
   ]
  },
  {
   "cell_type": "markdown",
   "metadata": {},
   "source": [
    "You should see that the model has to spend much more of its \"budget\" on the linear coefficient, and isn't able to really capture much of the oscillating behavior."
   ]
  },
  {
   "cell_type": "markdown",
   "metadata": {},
   "source": [
    "#### P1B: Understanding Objective Functions"
   ]
  },
  {
   "cell_type": "markdown",
   "metadata": {},
   "source": [
    "To get a better understanding for how $\\alpha$ forces our parameters to be smaller, let's revisit the definition of our regularizaed model."
   ]
  },
  {
   "cell_type": "markdown",
   "metadata": {},
   "source": [
    "Recall that `Ridge` tries to minimize the sum of the mean squared error plus the squares of all the coefficients times alpha, i.e. $\\text{MSE} + \\alpha \\sum_{i=1}^n \\theta_i$."
   ]
  },
  {
   "cell_type": "markdown",
   "metadata": {},
   "source": [
    "For example, if our coefficients are `[2, 3, 0.5]`, then the MSE is effectively zero. That is, you should get a value that is something like 10 to the -29th power."
   ]
  },
  {
   "cell_type": "code",
   "execution_count": 13,
   "metadata": {},
   "outputs": [
    {
     "data": {
      "text/plain": [
       "1.3979176456502124e-29"
      ]
     },
     "execution_count": 13,
     "metadata": {},
     "output_type": "execute_result"
    }
   ],
   "source": [
    "mean_squared_error(p1_model_alpha0.predict(featurized_p1_data), p1_data[\"y\"])"
   ]
  },
  {
   "cell_type": "markdown",
   "metadata": {},
   "source": [
    "If our coefficients are `[2, 3, 0.5]` and `alpha = 100`, then the objective function is $0 + 100 \\times (2^2 + 3^2 + 0.5^2) = 0$"
   ]
  },
  {
   "cell_type": "code",
   "execution_count": 14,
   "metadata": {},
   "outputs": [
    {
     "data": {
      "text/plain": [
       "1325.0"
      ]
     },
     "execution_count": 14,
     "metadata": {},
     "output_type": "execute_result"
    }
   ],
   "source": [
    "np.sum(100 * [2 * 2 + 3 * 3 + 0.5 * 0.5])"
   ]
  },
  {
   "cell_type": "markdown",
   "metadata": {},
   "source": [
    "Or using `p1_model_alpha0` directly:"
   ]
  },
  {
   "cell_type": "code",
   "execution_count": 15,
   "metadata": {},
   "outputs": [
    {
     "data": {
      "text/plain": [
       "1324.9999999999986"
      ]
     },
     "execution_count": 15,
     "metadata": {},
     "output_type": "execute_result"
    }
   ],
   "source": [
    "np.sum(100 * p1_model_alpha0.coef_**2)"
   ]
  },
  {
   "cell_type": "markdown",
   "metadata": {},
   "source": [
    "Below, compute the value of the objective function for alpha = 100 for `p1_model_alpha100`. Hint: The result should be approximately 856."
   ]
  },
  {
   "cell_type": "code",
   "execution_count": 16,
   "metadata": {},
   "outputs": [
    {
     "data": {
      "text/plain": [
       "856.3290835576983"
      ]
     },
     "execution_count": 16,
     "metadata": {},
     "output_type": "execute_result"
    }
   ],
   "source": [
    "np.sum(100*p1_model_alpha100.coef_**2)"
   ]
  },
  {
   "cell_type": "markdown",
   "metadata": {},
   "source": [
    "The gives us some insight into how `alpha` works. When we tell `p1_model_alpha100` to `fit` itself to the data, it has to minimize two things at once: The MSE and $\\alpha \\sum_{i=1}^n \\theta_i$. So when faced with a choice between `[2, 3, 0.5]` and `[2, 2.1, 0.36]`, it picks `[2, 2.1, 0.36]`. Even though `[2, 2.1, 0.36]` has worse MSE, it has better $\\alpha \\sum_{i=1}^n \\theta_i$."
   ]
  },
  {
   "cell_type": "markdown",
   "metadata": {},
   "source": [
    "Lastly, compute the value of the objective function for `p1_model_alpha1000` and `alpha = 1000`. You should get a value that is a little more than 4000."
   ]
  },
  {
   "cell_type": "code",
   "execution_count": 17,
   "metadata": {},
   "outputs": [
    {
     "data": {
      "text/plain": [
       "4120.209862847307"
      ]
     },
     "execution_count": 17,
     "metadata": {},
     "output_type": "execute_result"
    }
   ],
   "source": [
    "mean_squared_error(p1_model_alpha1000.predict(featurized_p1_data), p1_data['y'])+np.sum(1000*p1_model_alpha1000.coef_**2)"
   ]
  },
  {
   "cell_type": "markdown",
   "metadata": {},
   "source": [
    "### P2: Pipelines, Scaling, Regularization"
   ]
  },
  {
   "cell_type": "markdown",
   "metadata": {},
   "source": [
    "In this problem, we'll explore how to use pipelines, scaling, and regularization."
   ]
  },
  {
   "cell_type": "markdown",
   "metadata": {},
   "source": [
    "#### P2A: Understanding and Fitting Our Data"
   ]
  },
  {
   "cell_type": "markdown",
   "metadata": {},
   "source": [
    "In this homework, we'll be trying to fit Seattle house prices from 2014 and 2015. I originally got this data from Kaggle (https://www.kaggle.com/harlfoxem/housesalesprediction), but did some processing to remove some errors in the data (e.g. one house was incorrectly claimed to have 33 bedrooms)."
   ]
  },
  {
   "cell_type": "code",
   "execution_count": 18,
   "metadata": {},
   "outputs": [],
   "source": [
    "file2=r'D:\\Programing\\python_projects\\machine_learning_algorithm\\data_set\\seattle_housing.csv'\n",
    "houses = pd.read_csv(file2)"
   ]
  },
  {
   "cell_type": "code",
   "execution_count": 19,
   "metadata": {},
   "outputs": [
    {
     "data": {
      "text/html": [
       "<div>\n",
       "<style scoped>\n",
       "    .dataframe tbody tr th:only-of-type {\n",
       "        vertical-align: middle;\n",
       "    }\n",
       "\n",
       "    .dataframe tbody tr th {\n",
       "        vertical-align: top;\n",
       "    }\n",
       "\n",
       "    .dataframe thead th {\n",
       "        text-align: right;\n",
       "    }\n",
       "</style>\n",
       "<table border=\"1\" class=\"dataframe\">\n",
       "  <thead>\n",
       "    <tr style=\"text-align: right;\">\n",
       "      <th></th>\n",
       "      <th>id</th>\n",
       "      <th>date</th>\n",
       "      <th>price</th>\n",
       "      <th>bedrooms</th>\n",
       "      <th>bathrooms</th>\n",
       "      <th>sqft_living</th>\n",
       "      <th>sqft_lot</th>\n",
       "      <th>floors</th>\n",
       "      <th>waterfront</th>\n",
       "      <th>view</th>\n",
       "      <th>...</th>\n",
       "      <th>grade</th>\n",
       "      <th>sqft_above</th>\n",
       "      <th>sqft_basement</th>\n",
       "      <th>yr_built</th>\n",
       "      <th>yr_renovated</th>\n",
       "      <th>zipcode</th>\n",
       "      <th>lat</th>\n",
       "      <th>long</th>\n",
       "      <th>sqft_living15</th>\n",
       "      <th>sqft_lot15</th>\n",
       "    </tr>\n",
       "  </thead>\n",
       "  <tbody>\n",
       "    <tr>\n",
       "      <th>0</th>\n",
       "      <td>7129300520</td>\n",
       "      <td>20141013T000000</td>\n",
       "      <td>221900</td>\n",
       "      <td>3</td>\n",
       "      <td>1.00</td>\n",
       "      <td>1180</td>\n",
       "      <td>5650</td>\n",
       "      <td>1.0</td>\n",
       "      <td>0</td>\n",
       "      <td>0</td>\n",
       "      <td>...</td>\n",
       "      <td>7</td>\n",
       "      <td>1180</td>\n",
       "      <td>0</td>\n",
       "      <td>1955</td>\n",
       "      <td>0</td>\n",
       "      <td>98178</td>\n",
       "      <td>47.5112</td>\n",
       "      <td>-122.257</td>\n",
       "      <td>1340</td>\n",
       "      <td>5650</td>\n",
       "    </tr>\n",
       "    <tr>\n",
       "      <th>1</th>\n",
       "      <td>6414100192</td>\n",
       "      <td>20141209T000000</td>\n",
       "      <td>538000</td>\n",
       "      <td>3</td>\n",
       "      <td>2.25</td>\n",
       "      <td>2570</td>\n",
       "      <td>7242</td>\n",
       "      <td>2.0</td>\n",
       "      <td>0</td>\n",
       "      <td>0</td>\n",
       "      <td>...</td>\n",
       "      <td>7</td>\n",
       "      <td>2170</td>\n",
       "      <td>400</td>\n",
       "      <td>1951</td>\n",
       "      <td>1991</td>\n",
       "      <td>98125</td>\n",
       "      <td>47.7210</td>\n",
       "      <td>-122.319</td>\n",
       "      <td>1690</td>\n",
       "      <td>7639</td>\n",
       "    </tr>\n",
       "    <tr>\n",
       "      <th>2</th>\n",
       "      <td>5631500400</td>\n",
       "      <td>20150225T000000</td>\n",
       "      <td>180000</td>\n",
       "      <td>2</td>\n",
       "      <td>1.00</td>\n",
       "      <td>770</td>\n",
       "      <td>10000</td>\n",
       "      <td>1.0</td>\n",
       "      <td>0</td>\n",
       "      <td>0</td>\n",
       "      <td>...</td>\n",
       "      <td>6</td>\n",
       "      <td>770</td>\n",
       "      <td>0</td>\n",
       "      <td>1933</td>\n",
       "      <td>0</td>\n",
       "      <td>98028</td>\n",
       "      <td>47.7379</td>\n",
       "      <td>-122.233</td>\n",
       "      <td>2720</td>\n",
       "      <td>8062</td>\n",
       "    </tr>\n",
       "    <tr>\n",
       "      <th>3</th>\n",
       "      <td>2487200875</td>\n",
       "      <td>20141209T000000</td>\n",
       "      <td>604000</td>\n",
       "      <td>4</td>\n",
       "      <td>3.00</td>\n",
       "      <td>1960</td>\n",
       "      <td>5000</td>\n",
       "      <td>1.0</td>\n",
       "      <td>0</td>\n",
       "      <td>0</td>\n",
       "      <td>...</td>\n",
       "      <td>7</td>\n",
       "      <td>1050</td>\n",
       "      <td>910</td>\n",
       "      <td>1965</td>\n",
       "      <td>0</td>\n",
       "      <td>98136</td>\n",
       "      <td>47.5208</td>\n",
       "      <td>-122.393</td>\n",
       "      <td>1360</td>\n",
       "      <td>5000</td>\n",
       "    </tr>\n",
       "    <tr>\n",
       "      <th>4</th>\n",
       "      <td>1954400510</td>\n",
       "      <td>20150218T000000</td>\n",
       "      <td>510000</td>\n",
       "      <td>3</td>\n",
       "      <td>2.00</td>\n",
       "      <td>1680</td>\n",
       "      <td>8080</td>\n",
       "      <td>1.0</td>\n",
       "      <td>0</td>\n",
       "      <td>0</td>\n",
       "      <td>...</td>\n",
       "      <td>8</td>\n",
       "      <td>1680</td>\n",
       "      <td>0</td>\n",
       "      <td>1987</td>\n",
       "      <td>0</td>\n",
       "      <td>98074</td>\n",
       "      <td>47.6168</td>\n",
       "      <td>-122.045</td>\n",
       "      <td>1800</td>\n",
       "      <td>7503</td>\n",
       "    </tr>\n",
       "  </tbody>\n",
       "</table>\n",
       "<p>5 rows × 21 columns</p>\n",
       "</div>"
      ],
      "text/plain": [
       "           id             date   price  bedrooms  bathrooms  sqft_living  \\\n",
       "0  7129300520  20141013T000000  221900         3       1.00         1180   \n",
       "1  6414100192  20141209T000000  538000         3       2.25         2570   \n",
       "2  5631500400  20150225T000000  180000         2       1.00          770   \n",
       "3  2487200875  20141209T000000  604000         4       3.00         1960   \n",
       "4  1954400510  20150218T000000  510000         3       2.00         1680   \n",
       "\n",
       "   sqft_lot  floors  waterfront  view  ...  grade  sqft_above  sqft_basement  \\\n",
       "0      5650     1.0           0     0  ...      7        1180              0   \n",
       "1      7242     2.0           0     0  ...      7        2170            400   \n",
       "2     10000     1.0           0     0  ...      6         770              0   \n",
       "3      5000     1.0           0     0  ...      7        1050            910   \n",
       "4      8080     1.0           0     0  ...      8        1680              0   \n",
       "\n",
       "   yr_built  yr_renovated  zipcode      lat     long  sqft_living15  \\\n",
       "0      1955             0    98178  47.5112 -122.257           1340   \n",
       "1      1951          1991    98125  47.7210 -122.319           1690   \n",
       "2      1933             0    98028  47.7379 -122.233           2720   \n",
       "3      1965             0    98136  47.5208 -122.393           1360   \n",
       "4      1987             0    98074  47.6168 -122.045           1800   \n",
       "\n",
       "   sqft_lot15  \n",
       "0        5650  \n",
       "1        7639  \n",
       "2        8062  \n",
       "3        5000  \n",
       "4        7503  \n",
       "\n",
       "[5 rows x 21 columns]"
      ]
     },
     "execution_count": 19,
     "metadata": {},
     "output_type": "execute_result"
    }
   ],
   "source": [
    "houses.head(5)"
   ]
  },
  {
   "cell_type": "markdown",
   "metadata": {},
   "source": [
    "For example, the fourth house sold for 604,000 U.S. Dollars, has 3 bathrooms, and 1,960 square feet of living space (182 square meters)."
   ]
  },
  {
   "cell_type": "markdown",
   "metadata": {},
   "source": [
    "We see that there are a number of different features we could use to predict the house price."
   ]
  },
  {
   "cell_type": "code",
   "execution_count": 20,
   "metadata": {},
   "outputs": [
    {
     "data": {
      "text/plain": [
       "Index(['id', 'date', 'price', 'bedrooms', 'bathrooms', 'sqft_living',\n",
       "       'sqft_lot', 'floors', 'waterfront', 'view', 'condition', 'grade',\n",
       "       'sqft_above', 'sqft_basement', 'yr_built', 'yr_renovated', 'zipcode',\n",
       "       'lat', 'long', 'sqft_living15', 'sqft_lot15'],\n",
       "      dtype='object')"
      ]
     },
     "execution_count": 20,
     "metadata": {},
     "output_type": "execute_result"
    }
   ],
   "source": [
    "houses.columns"
   ]
  },
  {
   "cell_type": "markdown",
   "metadata": {},
   "source": [
    "In this problem, we will use the number of bedrooms, bathrooms, square feet of living space, square foot of the lot size, condition, and grade of the house. "
   ]
  },
  {
   "cell_type": "code",
   "execution_count": 21,
   "metadata": {},
   "outputs": [],
   "source": [
    "p2_features = ['bedrooms', 'bathrooms', 'sqft_living', 'sqft_lot', 'condition', 'grade']"
   ]
  },
  {
   "cell_type": "markdown",
   "metadata": {},
   "source": [
    "\n",
    "We do not take into account other important information like the part of the city in which the town is located. For example, houses near the city center are more likely to fetch a higher value. As a bonus exercise, you can try to include this additional information after completing this entier assignment."
   ]
  },
  {
   "cell_type": "markdown",
   "metadata": {},
   "source": [
    "Using what you know, fit a linear regression model called `p2a_model` to the entire available dataset. Use the `LinearRegression` module, not the `Ridge` module."
   ]
  },
  {
   "cell_type": "code",
   "execution_count": 22,
   "metadata": {},
   "outputs": [
    {
     "data": {
      "text/plain": [
       "LinearRegression(copy_X=True, fit_intercept=True, n_jobs=1, normalize=False)"
      ]
     },
     "execution_count": 22,
     "metadata": {},
     "output_type": "execute_result"
    }
   ],
   "source": [
    "p2a_model = linear_model.LinearRegression()\n",
    "p2a_model.fit(houses[p2_features], houses['price'])"
   ]
  },
  {
   "cell_type": "markdown",
   "metadata": {},
   "source": [
    "Now compute the predicted price of each house:"
   ]
  },
  {
   "cell_type": "code",
   "execution_count": 23,
   "metadata": {},
   "outputs": [],
   "source": [
    "price_predictions = p2a_model.predict(houses[p2_features])"
   ]
  },
  {
   "cell_type": "markdown",
   "metadata": {},
   "source": [
    "Below, we compute the root mean squared error (RMSE), which is just the square root of the mean squared error. If you did everything correctly, the value should be \\$206,445. This means that on average, we were somewhere around \\$200,000 off from the correct price in our predictions.\n",
    "\n",
    "In the following parts of this homework, we will try to do better, while also taking care to avoid overfitting."
   ]
  },
  {
   "cell_type": "code",
   "execution_count": 24,
   "metadata": {},
   "outputs": [
    {
     "data": {
      "text/plain": [
       "206445.61664480748"
      ]
     },
     "execution_count": 24,
     "metadata": {},
     "output_type": "execute_result"
    }
   ],
   "source": [
    "np.sqrt(mean_squared_error(price_predictions, houses[\"price\"]))"
   ]
  },
  {
   "cell_type": "markdown",
   "metadata": {},
   "source": [
    "#### P2B: Creating a Polynomial Model with Pipelines"
   ]
  },
  {
   "cell_type": "markdown",
   "metadata": {},
   "source": [
    "One way that we can do better is to create new features which are polynomial combinations of our existing features. We did this in HW3.\n",
    "\n",
    "In this problem you will do this again, but now using sklearn pipelines.\n",
    "\n",
    "Using the lecture code as a guide, create and fit a model called `p2_poly2_model`. It should have two stages, the first of which is `PolynomialFeatures`, and the second of which is `LinearRegression`. Use a degree of 2 for your polynomial.\n",
    "\n",
    "Hint: See `diamond_poly_model` in the notebook for lecture 4."
   ]
  },
  {
   "cell_type": "code",
   "execution_count": 25,
   "metadata": {},
   "outputs": [
    {
     "data": {
      "text/plain": [
       "Pipeline(memory=None,\n",
       "     steps=[('poly', PolynomialFeatures(degree=2, include_bias=True, interaction_only=False)), ('model', LinearRegression(copy_X=True, fit_intercept=False, n_jobs=1, normalize=False))])"
      ]
     },
     "execution_count": 25,
     "metadata": {},
     "output_type": "execute_result"
    }
   ],
   "source": [
    "p2_poly2_model = Pipeline([\n",
    "    ('poly', PolynomialFeatures(2)),\n",
    "    ('model', LinearRegression(fit_intercept=False))\n",
    "])\n",
    "p2_poly2_model.fit(houses[p2_features], houses['price'])"
   ]
  },
  {
   "cell_type": "markdown",
   "metadata": {},
   "source": [
    "Below, we compute price predictions and compute the RMSE for those predictions. "
   ]
  },
  {
   "cell_type": "code",
   "execution_count": 26,
   "metadata": {},
   "outputs": [],
   "source": [
    "poly2_price_predictions = p2_poly2_model.predict(houses[p2_features])"
   ]
  },
  {
   "cell_type": "code",
   "execution_count": 27,
   "metadata": {},
   "outputs": [
    {
     "data": {
      "text/plain": [
       "189062.53010330888"
      ]
     },
     "execution_count": 27,
     "metadata": {},
     "output_type": "execute_result"
    }
   ],
   "source": [
    "np.sqrt(mean_squared_error(poly2_price_predictions, houses[\"price\"]))"
   ]
  },
  {
   "cell_type": "markdown",
   "metadata": {},
   "source": [
    "Observe that the error is now lower. By creating new features, we now get better predictions."
   ]
  },
  {
   "cell_type": "markdown",
   "metadata": {},
   "source": [
    "Below, repeat the same exercise but with a degree of 3. "
   ]
  },
  {
   "cell_type": "code",
   "execution_count": 28,
   "metadata": {},
   "outputs": [
    {
     "data": {
      "text/plain": [
       "Pipeline(memory=None,\n",
       "     steps=[('poly', PolynomialFeatures(degree=3, include_bias=True, interaction_only=False)), ('model', LinearRegression(copy_X=True, fit_intercept=False, n_jobs=1, normalize=False))])"
      ]
     },
     "execution_count": 28,
     "metadata": {},
     "output_type": "execute_result"
    }
   ],
   "source": [
    "p2_poly3_model = Pipeline([\n",
    "    ('poly', PolynomialFeatures(3)),\n",
    "    ('model', LinearRegression(fit_intercept=False))\n",
    "])\n",
    "p2_poly3_model.fit(houses[p2_features], houses['price'])"
   ]
  },
  {
   "cell_type": "code",
   "execution_count": 29,
   "metadata": {},
   "outputs": [],
   "source": [
    "poly3_price_predictions = p2_poly3_model.predict(houses[p2_features])"
   ]
  },
  {
   "cell_type": "code",
   "execution_count": 30,
   "metadata": {},
   "outputs": [
    {
     "data": {
      "text/plain": [
       "261582.41606501018"
      ]
     },
     "execution_count": 30,
     "metadata": {},
     "output_type": "execute_result"
    }
   ],
   "source": [
    "np.sqrt(mean_squared_error(poly3_price_predictions, houses[\"price\"]))"
   ]
  },
  {
   "cell_type": "markdown",
   "metadata": {},
   "source": [
    "Above, you should find that the RMSE for a degree 3 model is more than \\$260,000. That is, by adding additional features to use in fitting our model, we have somehow made our model worse.\n",
    "\n",
    "In theory, adding new features should never make our Linear Regression models worse (there are interesting mathematical reasons we have not covered in our course). However, our RMSE has gotten much worse!\n",
    "\n",
    "The reason is that the degree 3 polynomial results in values that are so large that your computer cannot store them precisely (see https://en.wikipedia.org/wiki/Round-off_error if you're curious).\n",
    "\n",
    "For example, the line below shows that one of our features is on the order of 10 to the 18th power. "
   ]
  },
  {
   "cell_type": "code",
   "execution_count": 31,
   "metadata": {},
   "outputs": [
    {
     "data": {
      "text/plain": [
       "1.0739557477092424e+18"
      ]
     },
     "execution_count": 31,
     "metadata": {},
     "output_type": "execute_result"
    }
   ],
   "source": [
    "np.max(p2_poly3_model.named_steps[\"poly\"].transform(houses[p2_features]))"
   ]
  },
  {
   "cell_type": "markdown",
   "metadata": {},
   "source": [
    "In the next section, we'll see how to avoid this problem."
   ]
  },
  {
   "cell_type": "markdown",
   "metadata": {},
   "source": [
    "#### P2C: Using the StandardScaler"
   ]
  },
  {
   "cell_type": "markdown",
   "metadata": {},
   "source": [
    "By rescaling the units of our original data so that each has mean 0 and variance 1, we can avoid the numerical precision errors we faced earlier."
   ]
  },
  {
   "cell_type": "code",
   "execution_count": 32,
   "metadata": {},
   "outputs": [],
   "source": [
    "from sklearn.preprocessing import StandardScaler"
   ]
  },
  {
   "cell_type": "markdown",
   "metadata": {},
   "source": [
    "Using the lecture code as a guide, create and fit a model called `p2_scaled_poly2_model`. It should have three stages, the first of which is `StandardScaler`, the second of which is `PolynomialFeatures`, and the third of which is `LinearRegression`. Use a degree of 2 for your polynomial.\n",
    "\n",
    "Hint: See `degree_4_linear_regression_model` from the lecture 4 notebook for an example."
   ]
  },
  {
   "cell_type": "code",
   "execution_count": 33,
   "metadata": {},
   "outputs": [
    {
     "data": {
      "text/plain": [
       "Pipeline(memory=None,\n",
       "     steps=[('scale', StandardScaler(copy=True, with_mean=True, with_std=True)), ('poly', PolynomialFeatures(degree=2, include_bias=True, interaction_only=False)), ('model', LinearRegression(copy_X=True, fit_intercept=False, n_jobs=1, normalize=False))])"
      ]
     },
     "execution_count": 33,
     "metadata": {},
     "output_type": "execute_result"
    }
   ],
   "source": [
    "p2_scaled_poly2_model = Pipeline([\n",
    "    ('scale', StandardScaler()),\n",
    "    ('poly', PolynomialFeatures(2)),\n",
    "    ('model', LinearRegression(fit_intercept=False))\n",
    "])\n",
    "p2_scaled_poly2_model.fit(houses[p2_features], houses['price'])"
   ]
  },
  {
   "cell_type": "markdown",
   "metadata": {},
   "source": [
    "Below we compute predictions for your model, followed by the RMSE. If you did this right, the RMSE should be around \\$190,000."
   ]
  },
  {
   "cell_type": "code",
   "execution_count": 34,
   "metadata": {},
   "outputs": [],
   "source": [
    "scaled_poly2_price_predictions = p2_scaled_poly2_model.predict(houses[p2_features])"
   ]
  },
  {
   "cell_type": "code",
   "execution_count": 35,
   "metadata": {},
   "outputs": [
    {
     "data": {
      "text/plain": [
       "189062.5301033082"
      ]
     },
     "execution_count": 35,
     "metadata": {},
     "output_type": "execute_result"
    }
   ],
   "source": [
    "np.sqrt(mean_squared_error(scaled_poly2_price_predictions, houses[\"price\"]))"
   ]
  },
  {
   "cell_type": "markdown",
   "metadata": {},
   "source": [
    "Note that your `p2_poly2_model` from problem p2b also had an RMSE of approximately \\$190,000. In other words, scaling didn't help for the degree 2 model.\n",
    "\n",
    "However, we'll see that it helps a lot with a degree 3 polynomial. Below, create a model `p2_scaled_poly3_model` that is exactly the same as `p2_scaled_poly2_model`, but with degree 3."
   ]
  },
  {
   "cell_type": "code",
   "execution_count": 36,
   "metadata": {},
   "outputs": [
    {
     "data": {
      "text/plain": [
       "Pipeline(memory=None,\n",
       "     steps=[('scale', StandardScaler(copy=True, with_mean=True, with_std=True)), ('poly', PolynomialFeatures(degree=3, include_bias=True, interaction_only=False)), ('mosel', LinearRegression(copy_X=True, fit_intercept=False, n_jobs=1, normalize=False))])"
      ]
     },
     "execution_count": 36,
     "metadata": {},
     "output_type": "execute_result"
    }
   ],
   "source": [
    "p2_scaled_poly3_model = Pipeline([\n",
    "    ('scale', StandardScaler()),\n",
    "    ('poly', PolynomialFeatures(3)),\n",
    "    ('mosel', LinearRegression(fit_intercept=False))\n",
    "])\n",
    "p2_scaled_poly3_model.fit(houses[p2_features], houses['price'])"
   ]
  },
  {
   "cell_type": "markdown",
   "metadata": {},
   "source": [
    "Below, compute the RMSE for `p2_scaled_poly3_model`. You should get a value of approximately \\$185,000.\n",
    "\n",
    "This is much better than `p2_poly3_model`, which had had RMSE of approximately \\$260,000.\n",
    "\n",
    "Here, scaling made an enormous difference."
   ]
  },
  {
   "cell_type": "code",
   "execution_count": 37,
   "metadata": {},
   "outputs": [],
   "source": [
    "scaled_poly3_price_predictions = p2_scaled_poly3_model.predict(houses[p2_features])"
   ]
  },
  {
   "cell_type": "code",
   "execution_count": 38,
   "metadata": {},
   "outputs": [
    {
     "data": {
      "text/plain": [
       "185358.45105851037"
      ]
     },
     "execution_count": 38,
     "metadata": {},
     "output_type": "execute_result"
    }
   ],
   "source": [
    "np.sqrt(mean_squared_error(scaled_poly3_price_predictions, houses[\"price\"]))"
   ]
  },
  {
   "cell_type": "markdown",
   "metadata": {},
   "source": [
    "#### P2D: Visualizing RMSE vs. Degree"
   ]
  },
  {
   "cell_type": "markdown",
   "metadata": {},
   "source": [
    "Similar to what we did part 2D of homework 3, we will create a plot of the RMSE vs. polynomial degree."
   ]
  },
  {
   "cell_type": "markdown",
   "metadata": {},
   "source": [
    "First, we will split our data into a training, validation, and test set.\n",
    "\n",
    "We use `np.split` to create `house_training_data`, `house_validation_data`, and `house_test_data` with 16209, 2702, and 2702 data points, respectively.\n",
    "\n",
    "I picked these numbers so that the training set was 75% of the data, and the test and validation sets made up the remaining 25%."
   ]
  },
  {
   "cell_type": "code",
   "execution_count": 39,
   "metadata": {},
   "outputs": [
    {
     "data": {
      "text/plain": [
       "21456"
      ]
     },
     "execution_count": 39,
     "metadata": {},
     "output_type": "execute_result"
    }
   ],
   "source": [
    "len(houses)"
   ]
  },
  {
   "cell_type": "code",
   "execution_count": 40,
   "metadata": {
    "scrolled": true
   },
   "outputs": [],
   "source": [
    "N_train = 16092\n",
    "N_validation = 16209 + 2682"
   ]
  },
  {
   "cell_type": "code",
   "execution_count": 41,
   "metadata": {
    "scrolled": true
   },
   "outputs": [],
   "source": [
    "house_training_data, house_validation_data, house_test_data = np.split(houses, [N_train, N_validation])"
   ]
  },
  {
   "cell_type": "markdown",
   "metadata": {},
   "source": [
    "Fill in the function `get_training_and_validation_rmse(degree)` so that it returns the RMSE for the training and validation sets for a model with the given polynomial degree.\n",
    "\n",
    "For example, `get_training_and_validation_rmse(4)` should return approximately `(181,000, 195,000)`.\n",
    "\n",
    "Your solution should look quite similar to problem 2d from the lecture 3 homework."
   ]
  },
  {
   "cell_type": "code",
   "execution_count": 42,
   "metadata": {},
   "outputs": [],
   "source": [
    "def get_training_and_validation_rmse(degree):\n",
    "    model=Pipeline([\n",
    "        ('scale', StandardScaler()),\n",
    "        ('poly', PolynomialFeatures(degree)),\n",
    "        ('model', LinearRegression(fit_intercept=False))\n",
    "    ])\n",
    "    model.fit(house_training_data[p2_features], house_training_data['price'])\n",
    "    trainning_predictions=model.predict(house_training_data[p2_features])\n",
    "    trainning_rmse=np.sqrt(mean_squared_error(trainning_predictions, house_training_data['price']))\n",
    "    validation_predictions=model.predict(house_validation_data[p2_features])\n",
    "    validation_rmse=np.sqrt(mean_squared_error(validation_predictions, house_validation_data['price']))\n",
    "    return trainning_rmse, validation_rmse"
   ]
  },
  {
   "cell_type": "code",
   "execution_count": 43,
   "metadata": {},
   "outputs": [
    {
     "data": {
      "text/plain": [
       "(206718.11190302964, 207882.6838279295)"
      ]
     },
     "execution_count": 43,
     "metadata": {},
     "output_type": "execute_result"
    }
   ],
   "source": [
    "get_training_and_validation_rmse(1)"
   ]
  },
  {
   "cell_type": "code",
   "execution_count": 44,
   "metadata": {},
   "outputs": [
    {
     "data": {
      "text/plain": [
       "(189350.78040621636, 190324.26499855897)"
      ]
     },
     "execution_count": 44,
     "metadata": {},
     "output_type": "execute_result"
    }
   ],
   "source": [
    "get_training_and_validation_rmse(2)"
   ]
  },
  {
   "cell_type": "code",
   "execution_count": 45,
   "metadata": {},
   "outputs": [
    {
     "data": {
      "text/plain": [
       "(184863.82777276833, 190106.75690551553)"
      ]
     },
     "execution_count": 45,
     "metadata": {},
     "output_type": "execute_result"
    }
   ],
   "source": [
    "get_training_and_validation_rmse(3)"
   ]
  },
  {
   "cell_type": "code",
   "execution_count": 46,
   "metadata": {},
   "outputs": [
    {
     "data": {
      "text/plain": [
       "(181308.0007405249, 194575.13286059114)"
      ]
     },
     "execution_count": 46,
     "metadata": {},
     "output_type": "execute_result"
    }
   ],
   "source": [
    "get_training_and_validation_rmse(4)"
   ]
  },
  {
   "cell_type": "markdown",
   "metadata": {},
   "source": [
    "Below, create a plot of the training and validation RMSE vs. the degree. For reference, feel free to look back at the code in the lecture 3 homework."
   ]
  },
  {
   "cell_type": "code",
   "execution_count": 47,
   "metadata": {},
   "outputs": [
    {
     "data": {
      "text/plain": [
       "<matplotlib.legend.Legend at 0x28f6bb24588>"
      ]
     },
     "execution_count": 47,
     "metadata": {},
     "output_type": "execute_result"
    },
    {
     "data": {
      "image/png": "[encoded data removed]",
      "text/plain": [
       "<Figure size 432x288 with 1 Axes>"
      ]
     },
     "metadata": {},
     "output_type": "display_data"
    }
   ],
   "source": [
    "rmses = np.array([get_training_and_validation_rmse(i) for i in range(6)])\n",
    "\n",
    "plt.plot(rmses[:, 0])\n",
    "plt.plot(rmses[:, 1])\n",
    "plt.legend(['training', 'validation'])"
   ]
  },
  {
   "cell_type": "markdown",
   "metadata": {},
   "source": [
    "Above, you should see that the training error goes down and down as the polynomial degree increases. However, the validation error starts going up at degree 3, and increases dramatically at degree 5.\n",
    "\n",
    "This means that we are severely overfitting once we hit degree 5.\n",
    "\n",
    "In the next problem, we'll see how we can use regularization to keep all the degree 5 features, but still avoid overfitting."
   ]
  },
  {
   "cell_type": "markdown",
   "metadata": {},
   "source": [
    "#### P2E: Using the Validation Set to Select an Alpha"
   ]
  },
  {
   "cell_type": "markdown",
   "metadata": {},
   "source": [
    "Below, create a function `get_regularized_training_and_validation_rmse(alpha)` that is exactly the same as `get_training_and_validation_rmse(degree)`, except that:\n",
    "\n",
    "1. It should take a parameter called `alpha` instead of `degree`.\n",
    "2. The pipeline should use a `PolynomialFeatures` with degree 5.\n",
    "3. It should use `linear_model.Ridge` instead of `linear_model.LinearRegression`. The alpha parameter for this Ridge model should be equal to the given parameter."
   ]
  },
  {
   "cell_type": "code",
   "execution_count": 82,
   "metadata": {},
   "outputs": [],
   "source": [
    "def get_regularized_training_and_validation_rmse(alpha):\n",
    "    model=Pipeline([\n",
    "        ('scale', StandardScaler()),\n",
    "        ('poly', PolynomialFeatures(5)),\n",
    "        ('model', linear_model.Ridge(fit_intercept=False, alpha=alpha))\n",
    "    ])\n",
    "    model.fit(house_training_data[p2_features], house_training_data['price'])\n",
    "    trainning_predictions=model.predict(house_training_data[p2_features])\n",
    "    trainning_rmse=np.sqrt(mean_squared_error(trainning_predictions, house_training_data['price']))\n",
    "    validation_predictions=model.predict(house_validation_data[p2_features])\n",
    "    validation_rmse=np.sqrt(mean_squared_error(validation_predictions, house_validation_data['price']))\n",
    "    return trainning_rmse, validation_rmse"
   ]
  },
  {
   "cell_type": "markdown",
   "metadata": {},
   "source": [
    "The code below will plot the training and validation RMSE for various alphas using your function. It will take a while to run, possibly a few minutes.\n",
    "\n",
    "If it's taking too long, change the 50 to a small number."
   ]
  },
  {
   "cell_type": "code",
   "execution_count": 83,
   "metadata": {},
   "outputs": [],
   "source": [
    "alphas = 10**np.linspace(0, 8, 50)"
   ]
  },
  {
   "cell_type": "code",
   "execution_count": 84,
   "metadata": {},
   "outputs": [],
   "source": [
    "rmses = np.array([get_regularized_training_and_validation_rmse(alpha) for alpha in alphas])"
   ]
  },
  {
   "cell_type": "code",
   "execution_count": 85,
   "metadata": {},
   "outputs": [
    {
     "data": {
      "text/plain": [
       "Text(0, 0.5, 'RMSE')"
      ]
     },
     "execution_count": 85,
     "metadata": {},
     "output_type": "execute_result"
    },
    {
     "data": {
      "image/png": "[encoded data removed]",
      "text/plain": [
       "<Figure size 432x288 with 1 Axes>"
      ]
     },
     "metadata": {},
     "output_type": "display_data"
    }
   ],
   "source": [
    "plt.semilogx(alphas, rmses[:, 0])\n",
    "plt.semilogx(alphas, rmses[:, 1])\n",
    "plt.legend([\"training\", \"validation\"])\n",
    "plt.xlabel('alpha')\n",
    "plt.ylabel('RMSE')"
   ]
  },
  {
   "cell_type": "code",
   "execution_count": 86,
   "metadata": {},
   "outputs": [
    {
     "data": {
      "text/plain": [
       "(array([21], dtype=int64),)"
      ]
     },
     "execution_count": 86,
     "metadata": {},
     "output_type": "execute_result"
    }
   ],
   "source": [
    "#You can use the code below to find the index of the minimum validation error\n",
    "np.where(rmses[:, 1] == min(rmses[:, 1]))"
   ]
  },
  {
   "cell_type": "code",
   "execution_count": 87,
   "metadata": {},
   "outputs": [
    {
     "data": {
      "text/plain": [
       "2682.6957952797247"
      ]
     },
     "execution_count": 87,
     "metadata": {},
     "output_type": "execute_result"
    }
   ],
   "source": [
    "alphas[21]"
   ]
  },
  {
   "cell_type": "markdown",
   "metadata": {},
   "source": [
    "Some questions to ponder:\n",
    "\n",
    "1. What is the best alpha to choose?\n",
    "2. Are the models with large alpha (right side of the graph) high complexity or low complexity?\n",
    "3. What part of the plot shows overfitting?"
   ]
  },
  {
   "cell_type": "markdown",
   "metadata": {},
   "source": [
    "#### P2F:  Performance on the Test Set"
   ]
  },
  {
   "cell_type": "markdown",
   "metadata": {},
   "source": [
    "Based on your plot from problem P2E, train a model called `p2f_model` with the optimal alpha on `house_training_data`, then compute the RMSE on the test set in `house_test_data`.\n",
    "\n",
    "Your result should be less than \\$210,000."
   ]
  },
  {
   "cell_type": "code",
   "execution_count": 88,
   "metadata": {},
   "outputs": [
    {
     "data": {
      "text/plain": [
       "Pipeline(memory=None,\n",
       "     steps=[('scale', StandardScaler(copy=True, with_mean=True, with_std=True)), ('poly', PolynomialFeatures(degree=5, include_bias=True, interaction_only=False)), ('model', Ridge(alpha=2682, copy_X=True, fit_intercept=False, max_iter=None,\n",
       "   normalize=False, random_state=None, solver='auto', tol=0.001))])"
      ]
     },
     "execution_count": 88,
     "metadata": {},
     "output_type": "execute_result"
    }
   ],
   "source": [
    "p2f_model = model=Pipeline([\n",
    "        ('scale', StandardScaler()),\n",
    "        ('poly', PolynomialFeatures(5)),\n",
    "        ('model', linear_model.Ridge(fit_intercept=False, alpha=2682))\n",
    "    ])\n",
    "p2f_model.fit(house_training_data[p2_features], house_training_data['price'])"
   ]
  },
  {
   "cell_type": "code",
   "execution_count": 89,
   "metadata": {},
   "outputs": [
    {
     "data": {
      "text/plain": [
       "205080.99506417307"
      ]
     },
     "execution_count": 89,
     "metadata": {},
     "output_type": "execute_result"
    }
   ],
   "source": [
    "np.sqrt(mean_squared_error(p2f_model.predict(house_test_data[p2_features]), house_test_data[\"price\"]))"
   ]
  },
  {
   "cell_type": "markdown",
   "metadata": {},
   "source": [
    "**Very important:** We managed to achieve this level of error without ever using the test data in any way. You'll see it's roughly as good as we got on the training set. Not bad! We have confidence that our model should generalize to other data from the same distribution. That is, if we pick a Seattle house at random from 2015, we would expect to get RMSE of less than \\$210,000. \n",
    "\n",
    "In theory, we could try adjusting the alpha to get better test error. In practice, this would be an incredibly bad idea. In effect, we would be fitting our alpha to the test data. Since the goal of our model is to build something that will work for future prediction, we would have no confidence it would work in the real world.\n",
    "\n",
    "*Note:* An RMSE of \\$210,000 is much better than random guessing, but there is still a lot more work to do to get the error lower. Taking into things like the neighborhood a house belongs to would help a lot. We leave this as an exercise for the especially interested student."
   ]
  },
  {
   "cell_type": "markdown",
   "metadata": {},
   "source": [
    "#### P2G: Using RidgeCV"
   ]
  },
  {
   "cell_type": "markdown",
   "metadata": {},
   "source": [
    "In problem P2F, we found the optimal alpha by using a plot of the error on a validation set.\n",
    "\n",
    "An alternate approach is to use `RidgeCV`, which will automatically find the optimal `alpha` using only the validation set.\n",
    "\n",
    "Create a model `p2g_model` that uses `RidgeCV`. For the alphas parameter, use `10**np.linspace(0, 8, 50)`.\n",
    "\n",
    "This will probably take a while to run, possibly several minutes."
   ]
  },
  {
   "cell_type": "code",
   "execution_count": 93,
   "metadata": {},
   "outputs": [
    {
     "data": {
      "text/plain": [
       "Pipeline(memory=None,\n",
       "     steps=[('scale', StandardScaler(copy=True, with_mean=True, with_std=True)), ('poly', PolynomialFeatures(degree=5, include_bias=True, interaction_only=False)), ('model', RidgeCV(alphas=array([1.00000e+00, 1.45635e+00, 2.12095e+00, 3.08884e+00, 4.49843e+00,\n",
       "       6.55129e+00, 9.54095e+00, 1.38950e+01...one, fit_intercept=False, gcv_mode=None, normalize=False,\n",
       "    scoring=None, store_cv_values=False))])"
      ]
     },
     "execution_count": 93,
     "metadata": {},
     "output_type": "execute_result"
    }
   ],
   "source": [
    "p2g_model = Pipeline([\n",
    "    ('scale', StandardScaler()),\n",
    "    ('poly', PolynomialFeatures(5)),\n",
    "    ('model', linear_model.RidgeCV(fit_intercept=False, alphas=(10**np.linspace(0, 8, 50))))\n",
    "])\n",
    "p2g_model.fit(house_training_data[p2_features], house_training_data['price'])"
   ]
  },
  {
   "cell_type": "code",
   "execution_count": 95,
   "metadata": {},
   "outputs": [
    {
     "data": {
      "text/plain": [
       "281.1768697974228"
      ]
     },
     "execution_count": 95,
     "metadata": {},
     "output_type": "execute_result"
    }
   ],
   "source": [
    "p2g_model.named_steps['model'].alpha_"
   ]
  },
  {
   "cell_type": "markdown",
   "metadata": {},
   "source": [
    "Above, we see that RidgeCV picks an alpha that is not the same as the one that you picked using a validation set."
   ]
  },
  {
   "cell_type": "markdown",
   "metadata": {},
   "source": [
    "Below, we can evaluate the performance of the resulting model. You should see that the RMSE is pretty close to what you got in problem p2f."
   ]
  },
  {
   "cell_type": "code",
   "execution_count": 97,
   "metadata": {},
   "outputs": [
    {
     "data": {
      "text/plain": [
       "199507.994142042"
      ]
     },
     "execution_count": 97,
     "metadata": {},
     "output_type": "execute_result"
    }
   ],
   "source": [
    "np.sqrt(mean_squared_error(p2g_model.predict(house_test_data[p2_features]), house_test_data[\"price\"]))"
   ]
  },
  {
   "cell_type": "markdown",
   "metadata": {},
   "source": [
    "**Important note:** `RidgeCV` was able to select a good alpha without using a special validation set. That is, it picked the alpha using ONLY the traiining set.\n",
    "\n",
    "The technique that `RidgeCV` uses is called \"cross validation\", and is described in lecture 4. We will not discuss the details of cross validation further in this homework."
   ]
  },
  {
   "cell_type": "markdown",
   "metadata": {},
   "source": [
    "**Caveat:** There is a subtle issue with the way we used RidgeCV. In particular, the StandardScaler scales all of the data before passing it to RidgeCV. Ideally, we'd separately scale the data for each cross validation fold. This is a pretty advanced topic, so we will not discuss this in our course."
   ]
  },
  {
   "cell_type": "markdown",
   "metadata": {},
   "source": [
    "**Takeaway:** In real world projects, you're welcome to use the approach from `p2f_model` or from `p2g_model`.\n",
    "\n",
    "p2f_model: Set aside a special validation set and test set. Use training set to fit the parameters of your ridge model. Use the validation set to fit the hyperparameters (in this case, alpha). Use the test set to evaluate performance at the very end. \n",
    "\n",
    "p2g_model: Set aside a special test set. Use the cross-validation technique to fit the parameters and hyperparamters using the training data. Use the test set to evalute performance at the very end.\n",
    "\n",
    "Both approaches are valid, but the p2g_model style is more common in the real world.\n",
    "\n",
    "**One last warning:** It is very important to avoid using the test data in any way whatsoever! You should not use the test data to fit paramters or hyperparamters."
   ]
  },
  {
   "cell_type": "markdown",
   "metadata": {},
   "source": [
    "#### Bonus Problem P2H: Lasso"
   ]
  },
  {
   "cell_type": "markdown",
   "metadata": {},
   "source": [
    "Recall from lecture that there is an alternate to Ridge regression called LASSO regression. The difference in outcome is that LASSO models have many zero paramters.\n",
    "\n",
    "Let's see it in action. Note that LASSO models are generally more numerically difficult to fit, so you may see several warnings appear about convergence. "
   ]
  },
  {
   "cell_type": "code",
   "execution_count": 103,
   "metadata": {},
   "outputs": [
    {
     "name": "stderr",
     "output_type": "stream",
     "text": [
      "D:\\Programing\\Anaconda3\\envs\\ml_env\\lib\\site-packages\\sklearn\\linear_model\\coordinate_descent.py:1094: DataConversionWarning: A column-vector y was passed when a 1d array was expected. Please change the shape of y to (n_samples, ), for example using ravel().\n",
      "  y = column_or_1d(y, warn=True)\n",
      "D:\\Programing\\Anaconda3\\envs\\ml_env\\lib\\site-packages\\sklearn\\linear_model\\coordinate_descent.py:491: ConvergenceWarning: Objective did not converge. You might want to increase the number of iterations. Fitting data with very small alpha may cause precision problems.\n",
      "  ConvergenceWarning)\n",
      "D:\\Programing\\Anaconda3\\envs\\ml_env\\lib\\site-packages\\sklearn\\linear_model\\coordinate_descent.py:491: ConvergenceWarning: Objective did not converge. You might want to increase the number of iterations. Fitting data with very small alpha may cause precision problems.\n",
      "  ConvergenceWarning)\n"
     ]
    },
    {
     "data": {
      "text/plain": [
       "Pipeline(memory=None,\n",
       "     steps=[('scale', StandardScaler(copy=True, with_mean=True, with_std=True)), ('poly', PolynomialFeatures(degree=5, include_bias=True, interaction_only=False)), ('model', LassoCV(alphas=array([1.00000e+00, 1.45635e+00, 2.12095e+00, 3.08884e+00, 4.49843e+00,\n",
       "       6.55129e+00, 9.54095e+00, 1.38950e+01...alse,\n",
       "    precompute='auto', random_state=None, selection='cyclic', tol=0.0001,\n",
       "    verbose=False))])"
      ]
     },
     "execution_count": 103,
     "metadata": {},
     "output_type": "execute_result"
    }
   ],
   "source": [
    "p2h_model = Pipeline([\n",
    "    ('scale', StandardScaler()),\n",
    "    ('poly', PolynomialFeatures(degree=5)),\n",
    "    ('model', linear_model.LassoCV(alphas=10**np.linspace(0, 8, 50),  fit_intercept=False))\n",
    "])    \n",
    "p2h_model.fit(house_training_data[p2_features], house_training_data[[\"price\"]])"
   ]
  },
  {
   "cell_type": "markdown",
   "metadata": {},
   "source": [
    "You'll see the RMSE of the resulting LASSO model is similar to the RidgeCV RMSE from problem p2g."
   ]
  },
  {
   "cell_type": "code",
   "execution_count": 104,
   "metadata": {},
   "outputs": [
    {
     "data": {
      "text/plain": [
       "189661.15862046462"
      ]
     },
     "execution_count": 104,
     "metadata": {},
     "output_type": "execute_result"
    }
   ],
   "source": [
    "np.sqrt(mean_squared_error(p2h_model.predict(house_test_data[p2_features]), house_test_data[\"price\"]))"
   ]
  },
  {
   "cell_type": "markdown",
   "metadata": {},
   "source": [
    "The big difference is that the coefficents of the p2h_model are almost all zero, whereas with p2g_model, none of them are."
   ]
  },
  {
   "cell_type": "code",
   "execution_count": 105,
   "metadata": {},
   "outputs": [
    {
     "data": {
      "text/plain": [
       "array([ 3.38831354e+05, -6.92128440e+03, -1.65541976e+04,  8.04259986e+04,\n",
       "       -5.39149050e+04, -1.14373719e+04,  8.81106576e+04,  3.30468073e+04,\n",
       "       -2.35601253e+03, -1.09725110e+04,  8.49679646e+03,  1.20384165e+03,\n",
       "        1.21124360e+03,  3.64975524e+04, -7.84778196e+03,  1.44098545e+04,\n",
       "        2.24101680e+04, -1.01119811e+04,  1.93569597e+04, -1.59922456e+04,\n",
       "        8.70344034e+03,  2.97385684e+03,  5.91291504e+04, -1.43121329e+04,\n",
       "       -2.59796632e+04,  1.55010980e+05,  9.33354091e+03,  4.37937773e+04,\n",
       "       -3.05740069e+03, -1.46131095e+03,  1.39024271e+03, -2.49638129e+03,\n",
       "       -1.41827137e+03,  1.46637831e+04, -2.32044133e+03, -1.35316201e+04,\n",
       "        4.81214009e+03,  2.60289511e+03, -1.33664595e+03,  8.06319793e+03,\n",
       "        1.35002374e+04, -8.06395204e+03, -1.50453762e+04,  5.61425803e+03,\n",
       "       -6.23530008e+03,  8.24064989e+03, -1.63351136e+04,  3.74596324e+03,\n",
       "        1.23540444e+04, -4.55031140e+02,  4.85531734e+03, -1.67820015e+04,\n",
       "        3.37726886e+03,  3.35564408e+04,  2.06144575e+03, -2.84746974e+03,\n",
       "        2.77266541e+03, -6.01321194e+03,  5.32703098e+03, -9.46384327e+03,\n",
       "        1.03151129e+03,  1.98257672e+03,  3.20875504e+03, -5.94104801e+03,\n",
       "        5.35861488e+03, -1.98856084e+04, -5.09909300e+03, -1.63018752e+03,\n",
       "       -2.17287148e+03, -8.36730919e+03, -1.30670740e+04,  3.61432898e+04,\n",
       "        1.25869445e+04, -3.69855531e+03, -1.47707980e+04, -1.06040652e+04,\n",
       "        1.03674112e+04, -2.96582391e+04,  3.16380393e+03, -1.56388831e+04,\n",
       "        4.32692900e+04,  1.81444014e+04,  4.95247917e+03, -8.35475660e+02,\n",
       "       -1.31876093e+03,  1.26721943e+03, -1.65358975e+03, -6.46033067e+03,\n",
       "       -2.50840493e+03,  1.71457642e+03, -1.60542036e+03,  4.44681251e+03,\n",
       "        3.07099863e+03,  5.59078681e+02,  7.38332475e+03, -5.57782500e+03,\n",
       "        7.47674108e+03,  2.26211221e+03, -2.04783190e+03, -3.04769304e+03,\n",
       "        1.13151454e+03, -7.35374211e+02, -5.36581366e+03,  7.41660025e+03,\n",
       "       -2.75948468e+03, -6.84731219e+03,  2.48333583e+03,  1.43867451e+02,\n",
       "        8.37875708e+02, -3.33308512e+03,  4.95376522e+03, -2.30181873e+03,\n",
       "       -9.78662544e+03,  2.93953767e+03, -2.62726338e+03,  9.21627978e+01,\n",
       "        8.45197507e+03,  3.92166285e+03, -1.29646465e+04, -1.90042321e+03,\n",
       "       -9.36793932e+03, -1.41879911e+03, -5.25040582e+02,  8.64512737e+03,\n",
       "       -2.65014486e+03,  2.00849361e+03, -4.75529143e+02,  1.31801549e+03,\n",
       "        2.38904134e+03, -1.64200834e+03, -1.87132015e+03,  1.06214914e+04,\n",
       "        5.51422989e+03, -6.26943505e+03, -5.04547554e+03, -9.42315109e+02,\n",
       "       -2.05683043e+02,  2.12613273e+03,  5.11489367e+03, -4.72094242e+01,\n",
       "       -2.45449990e+03,  6.26738574e+03,  7.56206208e+01, -8.43748956e+03,\n",
       "       -5.59211834e+03, -9.34242712e+03, -6.10697642e+03,  6.23761868e+03,\n",
       "       -1.11391220e+04,  1.25304809e+04,  9.41616707e+03, -6.24586660e+03,\n",
       "       -1.75052760e+03, -3.58168731e+03,  5.52476824e+03,  1.83722265e+02,\n",
       "        3.71193419e+03, -1.27216442e+03,  1.18709748e+04, -3.15329387e+03,\n",
       "        3.72877887e+03, -1.98132642e+03,  5.03434726e+03,  7.15864413e+03,\n",
       "        4.75707255e+02, -3.25221715e+03,  1.60097226e+03, -3.37705645e+03,\n",
       "        8.27851318e+02,  8.54726367e+02,  2.15957952e+03, -3.24999619e+03,\n",
       "       -8.07564016e+03,  7.30180417e+03,  8.14713838e+01, -4.46789949e+03,\n",
       "        5.17130331e+03,  1.04660847e+03,  7.74185074e+03,  4.90111348e+03,\n",
       "       -1.05232752e+04,  1.64298723e+02,  8.13810982e+03, -1.14348245e+03,\n",
       "       -8.51281696e+03,  1.46796874e+03,  3.21111653e+02, -1.85538023e+03,\n",
       "       -6.50035974e+02, -5.62116366e+03,  9.57834633e+01, -1.78985924e+03,\n",
       "       -6.42200865e+03, -1.24325477e+02,  4.19383108e+03,  1.34160108e+03,\n",
       "        3.14485660e+03,  2.50729962e+00,  1.80031915e+04,  3.01097987e+03,\n",
       "        2.59210567e+03, -2.23615199e+03,  1.90317524e+03, -1.06075577e+03,\n",
       "       -1.03516776e+03, -2.42264544e+04,  2.33522259e+02,  1.89597750e+03,\n",
       "       -3.47402587e+03, -4.22805168e+03,  6.05128284e+01, -3.29855881e+02,\n",
       "        1.13914366e+03, -1.98014687e+02,  5.60897243e+02, -1.23205743e+02,\n",
       "       -8.95495449e+02,  3.20192491e+03,  4.00544924e+02,  1.50853991e-01,\n",
       "       -4.50967754e+03, -3.05456381e+03,  4.26134964e+02,  6.16207765e+02,\n",
       "        3.06911956e+03,  1.14255642e+03, -1.12487671e+03,  2.37705283e+03,\n",
       "        2.42265029e+03, -1.99072948e+03,  3.87315406e+02,  4.16282559e+02,\n",
       "        2.07384599e+03, -4.07997601e+03, -2.93741977e+03, -4.65027894e+02,\n",
       "       -1.12033747e+04,  8.31491029e+02, -4.88730560e+03,  1.25002715e+04,\n",
       "        1.92414923e+03,  3.16941493e+03,  9.81474639e+02,  1.87584843e+03,\n",
       "        7.76386197e+03,  2.90238293e+03,  7.26177804e+03, -2.53144224e+02,\n",
       "       -9.78497047e+01, -9.18569425e+03, -7.01981970e+02,  5.18881521e+03,\n",
       "       -3.26349232e+03, -5.80987013e+03,  4.33762127e+02,  3.48817531e+03,\n",
       "        4.37748066e+02, -7.14460154e+02, -2.35731493e+03,  2.82650121e+03,\n",
       "       -2.09242523e+03,  1.60332759e+03,  2.26263609e+02, -5.30068119e+03,\n",
       "        1.10802334e+02, -4.42232445e+03,  1.64652883e+03, -4.64139248e+03,\n",
       "       -3.51708229e+03,  2.32504388e+03,  6.02190068e+03,  9.55652982e+03,\n",
       "        1.09309606e+04,  9.53458229e+03, -1.40794843e+04,  8.66681938e+02,\n",
       "        9.46906526e+02, -6.04239964e+03, -1.76890623e+03, -6.04847511e+03,\n",
       "       -4.14373849e+03, -3.33417023e+02, -3.68388713e+03,  7.29246000e+03,\n",
       "       -2.39292233e+03, -6.33421438e+03, -3.17349502e+02,  9.94743696e+03,\n",
       "        1.06151691e+04, -8.11824948e+03,  4.45783005e+03,  2.99946326e+02,\n",
       "       -2.90544359e+03,  1.21363883e+03,  4.07649018e+03,  2.98907807e+03,\n",
       "        6.10724195e+03, -2.73235126e+03,  3.09193129e+03, -7.90585250e+03,\n",
       "       -3.25588046e+02,  1.25688667e+03,  1.35796524e+02, -5.65746287e+02,\n",
       "       -5.39761344e+03,  2.27292061e+02, -9.53073308e+03, -5.39188873e+03,\n",
       "       -2.64902791e+03, -7.44632525e+03,  5.18606844e+03,  4.68538000e+02,\n",
       "        2.79925965e+03,  3.43974094e+03,  3.76517552e+03,  2.30156682e+03,\n",
       "       -2.66436946e+03,  1.41059899e+03, -1.96933201e+03,  1.07305627e+04,\n",
       "        4.43376669e+03,  7.83667877e+01, -1.47424784e+03, -8.17655131e+02,\n",
       "        1.26309140e+03,  3.28121383e+03, -6.10663702e+02, -2.54841349e+03,\n",
       "       -1.22364180e+04, -1.71909518e+03, -2.62819845e+03,  1.20669334e+03,\n",
       "        8.62321598e+02,  4.15690654e+03,  2.41081096e+03, -3.38446203e+03,\n",
       "        4.28316205e+02, -2.91814061e+03,  2.82956505e+03,  1.78665468e+02,\n",
       "       -2.22933630e+03,  5.21900884e+03, -3.14753182e+03, -8.98961923e+03,\n",
       "       -5.27321861e+02, -4.81315406e+02, -7.48381417e+03,  2.50665167e+03,\n",
       "        4.38821862e+03,  6.62342298e+03,  4.41057435e+03, -3.39302271e+03,\n",
       "       -5.18036195e+03,  1.25657783e+04,  9.87586231e+03,  3.65537889e+03,\n",
       "        3.17339719e+03, -1.15446158e+03, -7.52059795e+03,  2.60898525e+03,\n",
       "       -8.96228442e+03, -1.09542666e+03,  3.30488178e+03, -2.56382654e+03,\n",
       "       -9.52555979e+03, -4.44705183e+03, -1.17537656e+02, -2.92189124e+03,\n",
       "       -6.46934512e+03, -4.47653515e+03,  1.62673919e+03,  5.93223789e+02,\n",
       "        2.60784719e+03, -6.55546421e+03,  2.73445497e+02, -2.69047452e+02,\n",
       "        5.72727581e+03,  2.38470997e+02,  4.42533488e+03, -6.91518269e+03,\n",
       "       -1.22996962e+04, -1.95309596e+01, -6.10118438e+03,  8.25745559e+02,\n",
       "       -1.23629955e+03, -4.54427482e+03,  3.23492569e+03, -6.96908331e+02,\n",
       "        2.01693367e+03,  5.14721812e+02,  1.21022202e+04,  2.67079312e+02,\n",
       "        1.68482131e+02,  1.50304522e+02,  4.50193181e+02, -3.45680776e+03,\n",
       "        1.51394161e+03,  3.85125800e+03,  3.13127155e+03,  8.22132552e+03,\n",
       "       -2.40430138e+03,  8.51643486e+01,  1.64739750e+03, -3.90903485e+03,\n",
       "        1.95708287e+03, -4.02314651e+03, -3.49684820e+02,  3.72410135e+01,\n",
       "       -1.70883545e+03,  7.45551508e+02,  7.71904134e+01, -1.17264495e+03,\n",
       "       -1.90785188e+03, -1.00914463e+03,  6.49366670e+03,  1.26680719e+03,\n",
       "       -4.54152936e+02,  3.61317841e+03,  2.92734518e+02, -3.08315554e+03,\n",
       "        7.64616479e+03,  1.65319379e+03, -2.95072830e+03,  3.41781074e+03,\n",
       "        7.53124655e+02,  4.68910627e+02, -8.94783781e+01, -4.28423063e+02,\n",
       "        5.96065814e+02, -1.96588044e+03, -2.97959488e+03, -2.88612240e+03,\n",
       "        4.82050787e+03,  9.16065441e+03, -1.14174432e+04, -1.80823537e+03,\n",
       "       -2.24794250e+03,  1.87589284e+03, -3.33462406e+03, -9.66604450e+02,\n",
       "       -2.56716905e+03, -3.66328841e+01, -1.92451178e+02, -6.60794083e+01,\n",
       "       -2.35389394e+03,  1.15381690e+02,  3.91798601e+01,  8.69145474e+02,\n",
       "       -1.73810131e+03,  5.95397074e+03,  3.35505565e+02,  7.00752317e+00,\n",
       "       -3.06007093e+03,  1.99662505e+03, -1.92162912e+03,  3.69394421e+03,\n",
       "       -6.57172064e+03, -1.40961789e+03, -1.03030564e+03,  7.88920843e+02,\n",
       "       -1.82190380e+03,  1.81960839e+03])"
      ]
     },
     "execution_count": 105,
     "metadata": {},
     "output_type": "execute_result"
    }
   ],
   "source": [
    "p2g_model.named_steps['model'].coef_"
   ]
  },
  {
   "cell_type": "code",
   "execution_count": 106,
   "metadata": {},
   "outputs": [
    {
     "data": {
      "text/plain": [
       "array([ 4.53576618e+05, -0.00000000e+00,  0.00000000e+00,  7.07149201e+04,\n",
       "       -0.00000000e+00,  4.97772289e+03,  9.01448762e+04,  6.98872719e+03,\n",
       "        0.00000000e+00,  0.00000000e+00, -0.00000000e+00,  0.00000000e+00,\n",
       "        0.00000000e+00,  1.21285916e+04,  0.00000000e+00, -0.00000000e+00,\n",
       "        0.00000000e+00,  0.00000000e+00,  1.82085213e+03, -0.00000000e+00,\n",
       "        0.00000000e+00,  0.00000000e+00,  0.00000000e+00, -0.00000000e+00,\n",
       "       -0.00000000e+00,  0.00000000e+00,  0.00000000e+00,  2.18191210e+04,\n",
       "        0.00000000e+00, -0.00000000e+00,  0.00000000e+00, -0.00000000e+00,\n",
       "        0.00000000e+00,  0.00000000e+00, -0.00000000e+00,  0.00000000e+00,\n",
       "       -0.00000000e+00,  0.00000000e+00,  0.00000000e+00,  0.00000000e+00,\n",
       "       -0.00000000e+00,  0.00000000e+00,  0.00000000e+00, -0.00000000e+00,\n",
       "       -0.00000000e+00, -0.00000000e+00, -0.00000000e+00,  0.00000000e+00,\n",
       "        0.00000000e+00,  0.00000000e+00,  0.00000000e+00, -0.00000000e+00,\n",
       "        0.00000000e+00,  7.65242793e+03,  0.00000000e+00, -0.00000000e+00,\n",
       "        0.00000000e+00,  0.00000000e+00, -0.00000000e+00, -0.00000000e+00,\n",
       "       -0.00000000e+00,  0.00000000e+00,  0.00000000e+00,  0.00000000e+00,\n",
       "        3.87880228e+03, -0.00000000e+00,  6.12828262e+02,  0.00000000e+00,\n",
       "        0.00000000e+00, -0.00000000e+00, -0.00000000e+00,  0.00000000e+00,\n",
       "        0.00000000e+00,  0.00000000e+00,  4.61480110e+01,  0.00000000e+00,\n",
       "       -0.00000000e+00, -0.00000000e+00,  0.00000000e+00, -0.00000000e+00,\n",
       "        3.91999670e+03,  0.00000000e+00,  3.14494281e+03,  3.95908960e+03,\n",
       "       -2.08914762e+02, -0.00000000e+00, -0.00000000e+00, -0.00000000e+00,\n",
       "       -0.00000000e+00,  1.32835700e+03, -0.00000000e+00,  0.00000000e+00,\n",
       "        0.00000000e+00,  0.00000000e+00,  0.00000000e+00,  0.00000000e+00,\n",
       "       -0.00000000e+00,  0.00000000e+00,  0.00000000e+00,  0.00000000e+00,\n",
       "       -0.00000000e+00, -0.00000000e+00, -0.00000000e+00,  0.00000000e+00,\n",
       "        0.00000000e+00, -0.00000000e+00,  0.00000000e+00,  0.00000000e+00,\n",
       "        0.00000000e+00,  0.00000000e+00,  0.00000000e+00, -0.00000000e+00,\n",
       "        0.00000000e+00,  0.00000000e+00, -0.00000000e+00, -0.00000000e+00,\n",
       "        0.00000000e+00, -0.00000000e+00,  0.00000000e+00,  0.00000000e+00,\n",
       "        0.00000000e+00, -0.00000000e+00,  0.00000000e+00,  0.00000000e+00,\n",
       "        0.00000000e+00, -0.00000000e+00, -0.00000000e+00, -0.00000000e+00,\n",
       "        0.00000000e+00,  0.00000000e+00, -1.83014000e+02, -0.00000000e+00,\n",
       "        0.00000000e+00, -0.00000000e+00, -0.00000000e+00, -0.00000000e+00,\n",
       "       -0.00000000e+00,  0.00000000e+00,  0.00000000e+00,  0.00000000e+00,\n",
       "        0.00000000e+00, -0.00000000e+00, -0.00000000e+00,  0.00000000e+00,\n",
       "        0.00000000e+00,  0.00000000e+00, -0.00000000e+00,  0.00000000e+00,\n",
       "        0.00000000e+00,  0.00000000e+00, -0.00000000e+00, -0.00000000e+00,\n",
       "       -0.00000000e+00,  0.00000000e+00,  0.00000000e+00, -0.00000000e+00,\n",
       "       -2.91459493e+02,  0.00000000e+00,  0.00000000e+00,  0.00000000e+00,\n",
       "       -0.00000000e+00, -0.00000000e+00,  0.00000000e+00,  0.00000000e+00,\n",
       "        0.00000000e+00, -3.35373787e+01, -0.00000000e+00,  0.00000000e+00,\n",
       "       -0.00000000e+00, -0.00000000e+00, -0.00000000e+00,  0.00000000e+00,\n",
       "        0.00000000e+00,  0.00000000e+00,  0.00000000e+00, -0.00000000e+00,\n",
       "       -3.05833109e+03,  1.32109391e+02,  2.24483236e+02,  1.10904832e+03,\n",
       "       -0.00000000e+00, -0.00000000e+00,  0.00000000e+00,  2.33510296e+03,\n",
       "        0.00000000e+00, -3.72566527e+01,  0.00000000e+00,  0.00000000e+00,\n",
       "       -0.00000000e+00, -0.00000000e+00, -0.00000000e+00,  1.31358087e+03,\n",
       "        0.00000000e+00,  0.00000000e+00,  0.00000000e+00, -6.62265135e+00,\n",
       "        0.00000000e+00, -8.14737794e-01,  0.00000000e+00,  0.00000000e+00,\n",
       "        0.00000000e+00, -1.05278598e+03, -0.00000000e+00, -0.00000000e+00,\n",
       "       -2.51811680e+03,  2.23414928e+03,  3.71845670e+03,  0.00000000e+00,\n",
       "        8.06642046e+02,  0.00000000e+00,  9.55738854e+00, -0.00000000e+00,\n",
       "        1.60463888e+02, -5.83313133e+01,  0.00000000e+00,  0.00000000e+00,\n",
       "       -0.00000000e+00,  0.00000000e+00,  0.00000000e+00, -0.00000000e+00,\n",
       "       -0.00000000e+00, -5.15754929e+02,  0.00000000e+00, -0.00000000e+00,\n",
       "       -0.00000000e+00,  1.52009835e+02,  0.00000000e+00,  0.00000000e+00,\n",
       "       -2.73295147e+02,  0.00000000e+00,  6.74572504e+02, -0.00000000e+00,\n",
       "        0.00000000e+00,  0.00000000e+00,  0.00000000e+00, -0.00000000e+00,\n",
       "        0.00000000e+00,  0.00000000e+00,  0.00000000e+00,  0.00000000e+00,\n",
       "       -0.00000000e+00, -0.00000000e+00,  0.00000000e+00, -0.00000000e+00,\n",
       "       -0.00000000e+00,  0.00000000e+00, -3.29694191e+01,  0.00000000e+00,\n",
       "       -0.00000000e+00, -0.00000000e+00,  0.00000000e+00, -0.00000000e+00,\n",
       "        0.00000000e+00, -0.00000000e+00, -0.00000000e+00,  0.00000000e+00,\n",
       "       -5.81161026e+00, -0.00000000e+00, -1.53256781e+02,  0.00000000e+00,\n",
       "       -0.00000000e+00,  0.00000000e+00, -7.43322626e+01,  0.00000000e+00,\n",
       "        0.00000000e+00,  0.00000000e+00, -2.58532843e+02,  0.00000000e+00,\n",
       "        0.00000000e+00,  3.85595163e+02, -1.99828573e+02,  4.38846771e+02,\n",
       "        0.00000000e+00,  8.76334492e+01, -0.00000000e+00,  0.00000000e+00,\n",
       "       -0.00000000e+00,  0.00000000e+00, -0.00000000e+00,  0.00000000e+00,\n",
       "       -0.00000000e+00,  0.00000000e+00,  0.00000000e+00,  0.00000000e+00,\n",
       "        0.00000000e+00,  0.00000000e+00, -0.00000000e+00,  0.00000000e+00,\n",
       "       -0.00000000e+00,  0.00000000e+00, -0.00000000e+00,  5.91300548e+01,\n",
       "       -0.00000000e+00,  0.00000000e+00, -0.00000000e+00, -0.00000000e+00,\n",
       "        0.00000000e+00, -0.00000000e+00,  0.00000000e+00,  0.00000000e+00,\n",
       "       -0.00000000e+00, -2.61431767e+02, -0.00000000e+00,  0.00000000e+00,\n",
       "       -0.00000000e+00, -0.00000000e+00, -0.00000000e+00, -0.00000000e+00,\n",
       "       -0.00000000e+00,  0.00000000e+00,  0.00000000e+00, -4.88456027e+01,\n",
       "       -0.00000000e+00, -0.00000000e+00, -0.00000000e+00, -0.00000000e+00,\n",
       "        0.00000000e+00,  0.00000000e+00,  0.00000000e+00,  0.00000000e+00,\n",
       "        0.00000000e+00,  8.35942232e+00, -1.34798712e+01,  1.60459320e+01,\n",
       "       -0.00000000e+00, -0.00000000e+00,  0.00000000e+00,  0.00000000e+00,\n",
       "       -0.00000000e+00, -0.00000000e+00,  0.00000000e+00, -6.63935688e+02,\n",
       "        2.98788117e+02,  0.00000000e+00,  8.24454429e+02, -2.27912277e+02,\n",
       "       -7.97902571e+01, -0.00000000e+00, -8.07235943e+02, -0.00000000e+00,\n",
       "       -1.12445985e+01,  3.48192561e+02, -0.00000000e+00,  0.00000000e+00,\n",
       "       -0.00000000e+00,  2.75605168e+02, -4.76959312e+02, -0.00000000e+00,\n",
       "       -0.00000000e+00, -0.00000000e+00, -1.49611178e+02,  0.00000000e+00,\n",
       "       -1.24739794e+02, -0.00000000e+00, -0.00000000e+00,  9.07620449e+01,\n",
       "       -0.00000000e+00, -0.00000000e+00, -0.00000000e+00, -0.00000000e+00,\n",
       "       -2.20157278e+02, -1.69569831e+01, -0.00000000e+00, -0.00000000e+00,\n",
       "       -0.00000000e+00, -0.00000000e+00, -0.00000000e+00, -1.39513356e+02,\n",
       "       -0.00000000e+00, -0.00000000e+00, -0.00000000e+00, -0.00000000e+00,\n",
       "       -0.00000000e+00, -0.00000000e+00, -0.00000000e+00,  6.48594213e+01,\n",
       "       -0.00000000e+00, -0.00000000e+00, -0.00000000e+00, -0.00000000e+00,\n",
       "       -0.00000000e+00, -5.65527077e+01,  0.00000000e+00,  4.39091947e+01,\n",
       "       -0.00000000e+00, -0.00000000e+00, -0.00000000e+00, -0.00000000e+00,\n",
       "       -0.00000000e+00, -0.00000000e+00, -1.62131234e+02,  5.53862466e+00,\n",
       "       -0.00000000e+00, -6.84779466e+00, -0.00000000e+00,  0.00000000e+00,\n",
       "       -0.00000000e+00, -0.00000000e+00, -0.00000000e+00, -0.00000000e+00,\n",
       "       -0.00000000e+00,  9.87993952e+01, -0.00000000e+00, -0.00000000e+00,\n",
       "       -0.00000000e+00, -2.10261712e+01, -1.12732061e+02,  0.00000000e+00,\n",
       "       -6.32134028e+02,  2.64384460e+02,  1.55455766e+02, -5.82639769e+02,\n",
       "        0.00000000e+00, -9.33861608e+01,  0.00000000e+00,  1.91859288e+01,\n",
       "       -9.90518386e+01,  0.00000000e+00,  3.63101249e+02, -1.14198087e+03,\n",
       "       -0.00000000e+00,  0.00000000e+00,  0.00000000e+00, -0.00000000e+00,\n",
       "        1.46389422e+03,  0.00000000e+00,  1.48254323e+00,  1.00199123e+02,\n",
       "       -5.11898792e+00,  0.00000000e+00,  0.00000000e+00,  1.56317497e+02,\n",
       "       -0.00000000e+00, -0.00000000e+00, -0.00000000e+00,  0.00000000e+00,\n",
       "        2.14532431e+03,  0.00000000e+00, -0.00000000e+00,  0.00000000e+00,\n",
       "        0.00000000e+00,  2.80408316e-01, -3.90256601e+00, -1.53144599e-01,\n",
       "        7.71882487e+01, -1.95901272e+01,  7.18476890e+00, -0.00000000e+00,\n",
       "       -2.98082295e+02,  1.33109749e+02,  0.00000000e+00, -7.78357902e+02,\n",
       "       -0.00000000e+00, -0.00000000e+00, -1.26875669e+03, -0.00000000e+00,\n",
       "        1.59341614e+02,  5.39151328e+02, -0.00000000e+00, -4.91317480e+02,\n",
       "       -3.15774678e+02,  5.96208117e-01])"
      ]
     },
     "execution_count": 106,
     "metadata": {},
     "output_type": "execute_result"
    }
   ],
   "source": [
    "p2h_model.named_steps['model'].coef_"
   ]
  },
  {
   "cell_type": "markdown",
   "metadata": {},
   "source": [
    "To understand what features each coefficient corresponds to, we can use the `get_feature_names` function of the `PolynomialFeatures` object."
   ]
  },
  {
   "cell_type": "code",
   "execution_count": 107,
   "metadata": {},
   "outputs": [
    {
     "data": {
      "text/plain": [
       "['1',\n",
       " 'bedrooms',\n",
       " 'bathrooms',\n",
       " 'sqft_living',\n",
       " 'sqft_lot',\n",
       " 'condition',\n",
       " 'grade',\n",
       " 'bedrooms^2',\n",
       " 'bedrooms bathrooms',\n",
       " 'bedrooms sqft_living',\n",
       " 'bedrooms sqft_lot',\n",
       " 'bedrooms condition',\n",
       " 'bedrooms grade',\n",
       " 'bathrooms^2',\n",
       " 'bathrooms sqft_living',\n",
       " 'bathrooms sqft_lot',\n",
       " 'bathrooms condition',\n",
       " 'bathrooms grade',\n",
       " 'sqft_living^2',\n",
       " 'sqft_living sqft_lot',\n",
       " 'sqft_living condition',\n",
       " 'sqft_living grade',\n",
       " 'sqft_lot^2',\n",
       " 'sqft_lot condition',\n",
       " 'sqft_lot grade',\n",
       " 'condition^2',\n",
       " 'condition grade',\n",
       " 'grade^2',\n",
       " 'bedrooms^3',\n",
       " 'bedrooms^2 bathrooms',\n",
       " 'bedrooms^2 sqft_living',\n",
       " 'bedrooms^2 sqft_lot',\n",
       " 'bedrooms^2 condition',\n",
       " 'bedrooms^2 grade',\n",
       " 'bedrooms bathrooms^2',\n",
       " 'bedrooms bathrooms sqft_living',\n",
       " 'bedrooms bathrooms sqft_lot',\n",
       " 'bedrooms bathrooms condition',\n",
       " 'bedrooms bathrooms grade',\n",
       " 'bedrooms sqft_living^2',\n",
       " 'bedrooms sqft_living sqft_lot',\n",
       " 'bedrooms sqft_living condition',\n",
       " 'bedrooms sqft_living grade',\n",
       " 'bedrooms sqft_lot^2',\n",
       " 'bedrooms sqft_lot condition',\n",
       " 'bedrooms sqft_lot grade',\n",
       " 'bedrooms condition^2',\n",
       " 'bedrooms condition grade',\n",
       " 'bedrooms grade^2',\n",
       " 'bathrooms^3',\n",
       " 'bathrooms^2 sqft_living',\n",
       " 'bathrooms^2 sqft_lot',\n",
       " 'bathrooms^2 condition',\n",
       " 'bathrooms^2 grade',\n",
       " 'bathrooms sqft_living^2',\n",
       " 'bathrooms sqft_living sqft_lot',\n",
       " 'bathrooms sqft_living condition',\n",
       " 'bathrooms sqft_living grade',\n",
       " 'bathrooms sqft_lot^2',\n",
       " 'bathrooms sqft_lot condition',\n",
       " 'bathrooms sqft_lot grade',\n",
       " 'bathrooms condition^2',\n",
       " 'bathrooms condition grade',\n",
       " 'bathrooms grade^2',\n",
       " 'sqft_living^3',\n",
       " 'sqft_living^2 sqft_lot',\n",
       " 'sqft_living^2 condition',\n",
       " 'sqft_living^2 grade',\n",
       " 'sqft_living sqft_lot^2',\n",
       " 'sqft_living sqft_lot condition',\n",
       " 'sqft_living sqft_lot grade',\n",
       " 'sqft_living condition^2',\n",
       " 'sqft_living condition grade',\n",
       " 'sqft_living grade^2',\n",
       " 'sqft_lot^3',\n",
       " 'sqft_lot^2 condition',\n",
       " 'sqft_lot^2 grade',\n",
       " 'sqft_lot condition^2',\n",
       " 'sqft_lot condition grade',\n",
       " 'sqft_lot grade^2',\n",
       " 'condition^3',\n",
       " 'condition^2 grade',\n",
       " 'condition grade^2',\n",
       " 'grade^3',\n",
       " 'bedrooms^4',\n",
       " 'bedrooms^3 bathrooms',\n",
       " 'bedrooms^3 sqft_living',\n",
       " 'bedrooms^3 sqft_lot',\n",
       " 'bedrooms^3 condition',\n",
       " 'bedrooms^3 grade',\n",
       " 'bedrooms^2 bathrooms^2',\n",
       " 'bedrooms^2 bathrooms sqft_living',\n",
       " 'bedrooms^2 bathrooms sqft_lot',\n",
       " 'bedrooms^2 bathrooms condition',\n",
       " 'bedrooms^2 bathrooms grade',\n",
       " 'bedrooms^2 sqft_living^2',\n",
       " 'bedrooms^2 sqft_living sqft_lot',\n",
       " 'bedrooms^2 sqft_living condition',\n",
       " 'bedrooms^2 sqft_living grade',\n",
       " 'bedrooms^2 sqft_lot^2',\n",
       " 'bedrooms^2 sqft_lot condition',\n",
       " 'bedrooms^2 sqft_lot grade',\n",
       " 'bedrooms^2 condition^2',\n",
       " 'bedrooms^2 condition grade',\n",
       " 'bedrooms^2 grade^2',\n",
       " 'bedrooms bathrooms^3',\n",
       " 'bedrooms bathrooms^2 sqft_living',\n",
       " 'bedrooms bathrooms^2 sqft_lot',\n",
       " 'bedrooms bathrooms^2 condition',\n",
       " 'bedrooms bathrooms^2 grade',\n",
       " 'bedrooms bathrooms sqft_living^2',\n",
       " 'bedrooms bathrooms sqft_living sqft_lot',\n",
       " 'bedrooms bathrooms sqft_living condition',\n",
       " 'bedrooms bathrooms sqft_living grade',\n",
       " 'bedrooms bathrooms sqft_lot^2',\n",
       " 'bedrooms bathrooms sqft_lot condition',\n",
       " 'bedrooms bathrooms sqft_lot grade',\n",
       " 'bedrooms bathrooms condition^2',\n",
       " 'bedrooms bathrooms condition grade',\n",
       " 'bedrooms bathrooms grade^2',\n",
       " 'bedrooms sqft_living^3',\n",
       " 'bedrooms sqft_living^2 sqft_lot',\n",
       " 'bedrooms sqft_living^2 condition',\n",
       " 'bedrooms sqft_living^2 grade',\n",
       " 'bedrooms sqft_living sqft_lot^2',\n",
       " 'bedrooms sqft_living sqft_lot condition',\n",
       " 'bedrooms sqft_living sqft_lot grade',\n",
       " 'bedrooms sqft_living condition^2',\n",
       " 'bedrooms sqft_living condition grade',\n",
       " 'bedrooms sqft_living grade^2',\n",
       " 'bedrooms sqft_lot^3',\n",
       " 'bedrooms sqft_lot^2 condition',\n",
       " 'bedrooms sqft_lot^2 grade',\n",
       " 'bedrooms sqft_lot condition^2',\n",
       " 'bedrooms sqft_lot condition grade',\n",
       " 'bedrooms sqft_lot grade^2',\n",
       " 'bedrooms condition^3',\n",
       " 'bedrooms condition^2 grade',\n",
       " 'bedrooms condition grade^2',\n",
       " 'bedrooms grade^3',\n",
       " 'bathrooms^4',\n",
       " 'bathrooms^3 sqft_living',\n",
       " 'bathrooms^3 sqft_lot',\n",
       " 'bathrooms^3 condition',\n",
       " 'bathrooms^3 grade',\n",
       " 'bathrooms^2 sqft_living^2',\n",
       " 'bathrooms^2 sqft_living sqft_lot',\n",
       " 'bathrooms^2 sqft_living condition',\n",
       " 'bathrooms^2 sqft_living grade',\n",
       " 'bathrooms^2 sqft_lot^2',\n",
       " 'bathrooms^2 sqft_lot condition',\n",
       " 'bathrooms^2 sqft_lot grade',\n",
       " 'bathrooms^2 condition^2',\n",
       " 'bathrooms^2 condition grade',\n",
       " 'bathrooms^2 grade^2',\n",
       " 'bathrooms sqft_living^3',\n",
       " 'bathrooms sqft_living^2 sqft_lot',\n",
       " 'bathrooms sqft_living^2 condition',\n",
       " 'bathrooms sqft_living^2 grade',\n",
       " 'bathrooms sqft_living sqft_lot^2',\n",
       " 'bathrooms sqft_living sqft_lot condition',\n",
       " 'bathrooms sqft_living sqft_lot grade',\n",
       " 'bathrooms sqft_living condition^2',\n",
       " 'bathrooms sqft_living condition grade',\n",
       " 'bathrooms sqft_living grade^2',\n",
       " 'bathrooms sqft_lot^3',\n",
       " 'bathrooms sqft_lot^2 condition',\n",
       " 'bathrooms sqft_lot^2 grade',\n",
       " 'bathrooms sqft_lot condition^2',\n",
       " 'bathrooms sqft_lot condition grade',\n",
       " 'bathrooms sqft_lot grade^2',\n",
       " 'bathrooms condition^3',\n",
       " 'bathrooms condition^2 grade',\n",
       " 'bathrooms condition grade^2',\n",
       " 'bathrooms grade^3',\n",
       " 'sqft_living^4',\n",
       " 'sqft_living^3 sqft_lot',\n",
       " 'sqft_living^3 condition',\n",
       " 'sqft_living^3 grade',\n",
       " 'sqft_living^2 sqft_lot^2',\n",
       " 'sqft_living^2 sqft_lot condition',\n",
       " 'sqft_living^2 sqft_lot grade',\n",
       " 'sqft_living^2 condition^2',\n",
       " 'sqft_living^2 condition grade',\n",
       " 'sqft_living^2 grade^2',\n",
       " 'sqft_living sqft_lot^3',\n",
       " 'sqft_living sqft_lot^2 condition',\n",
       " 'sqft_living sqft_lot^2 grade',\n",
       " 'sqft_living sqft_lot condition^2',\n",
       " 'sqft_living sqft_lot condition grade',\n",
       " 'sqft_living sqft_lot grade^2',\n",
       " 'sqft_living condition^3',\n",
       " 'sqft_living condition^2 grade',\n",
       " 'sqft_living condition grade^2',\n",
       " 'sqft_living grade^3',\n",
       " 'sqft_lot^4',\n",
       " 'sqft_lot^3 condition',\n",
       " 'sqft_lot^3 grade',\n",
       " 'sqft_lot^2 condition^2',\n",
       " 'sqft_lot^2 condition grade',\n",
       " 'sqft_lot^2 grade^2',\n",
       " 'sqft_lot condition^3',\n",
       " 'sqft_lot condition^2 grade',\n",
       " 'sqft_lot condition grade^2',\n",
       " 'sqft_lot grade^3',\n",
       " 'condition^4',\n",
       " 'condition^3 grade',\n",
       " 'condition^2 grade^2',\n",
       " 'condition grade^3',\n",
       " 'grade^4',\n",
       " 'bedrooms^5',\n",
       " 'bedrooms^4 bathrooms',\n",
       " 'bedrooms^4 sqft_living',\n",
       " 'bedrooms^4 sqft_lot',\n",
       " 'bedrooms^4 condition',\n",
       " 'bedrooms^4 grade',\n",
       " 'bedrooms^3 bathrooms^2',\n",
       " 'bedrooms^3 bathrooms sqft_living',\n",
       " 'bedrooms^3 bathrooms sqft_lot',\n",
       " 'bedrooms^3 bathrooms condition',\n",
       " 'bedrooms^3 bathrooms grade',\n",
       " 'bedrooms^3 sqft_living^2',\n",
       " 'bedrooms^3 sqft_living sqft_lot',\n",
       " 'bedrooms^3 sqft_living condition',\n",
       " 'bedrooms^3 sqft_living grade',\n",
       " 'bedrooms^3 sqft_lot^2',\n",
       " 'bedrooms^3 sqft_lot condition',\n",
       " 'bedrooms^3 sqft_lot grade',\n",
       " 'bedrooms^3 condition^2',\n",
       " 'bedrooms^3 condition grade',\n",
       " 'bedrooms^3 grade^2',\n",
       " 'bedrooms^2 bathrooms^3',\n",
       " 'bedrooms^2 bathrooms^2 sqft_living',\n",
       " 'bedrooms^2 bathrooms^2 sqft_lot',\n",
       " 'bedrooms^2 bathrooms^2 condition',\n",
       " 'bedrooms^2 bathrooms^2 grade',\n",
       " 'bedrooms^2 bathrooms sqft_living^2',\n",
       " 'bedrooms^2 bathrooms sqft_living sqft_lot',\n",
       " 'bedrooms^2 bathrooms sqft_living condition',\n",
       " 'bedrooms^2 bathrooms sqft_living grade',\n",
       " 'bedrooms^2 bathrooms sqft_lot^2',\n",
       " 'bedrooms^2 bathrooms sqft_lot condition',\n",
       " 'bedrooms^2 bathrooms sqft_lot grade',\n",
       " 'bedrooms^2 bathrooms condition^2',\n",
       " 'bedrooms^2 bathrooms condition grade',\n",
       " 'bedrooms^2 bathrooms grade^2',\n",
       " 'bedrooms^2 sqft_living^3',\n",
       " 'bedrooms^2 sqft_living^2 sqft_lot',\n",
       " 'bedrooms^2 sqft_living^2 condition',\n",
       " 'bedrooms^2 sqft_living^2 grade',\n",
       " 'bedrooms^2 sqft_living sqft_lot^2',\n",
       " 'bedrooms^2 sqft_living sqft_lot condition',\n",
       " 'bedrooms^2 sqft_living sqft_lot grade',\n",
       " 'bedrooms^2 sqft_living condition^2',\n",
       " 'bedrooms^2 sqft_living condition grade',\n",
       " 'bedrooms^2 sqft_living grade^2',\n",
       " 'bedrooms^2 sqft_lot^3',\n",
       " 'bedrooms^2 sqft_lot^2 condition',\n",
       " 'bedrooms^2 sqft_lot^2 grade',\n",
       " 'bedrooms^2 sqft_lot condition^2',\n",
       " 'bedrooms^2 sqft_lot condition grade',\n",
       " 'bedrooms^2 sqft_lot grade^2',\n",
       " 'bedrooms^2 condition^3',\n",
       " 'bedrooms^2 condition^2 grade',\n",
       " 'bedrooms^2 condition grade^2',\n",
       " 'bedrooms^2 grade^3',\n",
       " 'bedrooms bathrooms^4',\n",
       " 'bedrooms bathrooms^3 sqft_living',\n",
       " 'bedrooms bathrooms^3 sqft_lot',\n",
       " 'bedrooms bathrooms^3 condition',\n",
       " 'bedrooms bathrooms^3 grade',\n",
       " 'bedrooms bathrooms^2 sqft_living^2',\n",
       " 'bedrooms bathrooms^2 sqft_living sqft_lot',\n",
       " 'bedrooms bathrooms^2 sqft_living condition',\n",
       " 'bedrooms bathrooms^2 sqft_living grade',\n",
       " 'bedrooms bathrooms^2 sqft_lot^2',\n",
       " 'bedrooms bathrooms^2 sqft_lot condition',\n",
       " 'bedrooms bathrooms^2 sqft_lot grade',\n",
       " 'bedrooms bathrooms^2 condition^2',\n",
       " 'bedrooms bathrooms^2 condition grade',\n",
       " 'bedrooms bathrooms^2 grade^2',\n",
       " 'bedrooms bathrooms sqft_living^3',\n",
       " 'bedrooms bathrooms sqft_living^2 sqft_lot',\n",
       " 'bedrooms bathrooms sqft_living^2 condition',\n",
       " 'bedrooms bathrooms sqft_living^2 grade',\n",
       " 'bedrooms bathrooms sqft_living sqft_lot^2',\n",
       " 'bedrooms bathrooms sqft_living sqft_lot condition',\n",
       " 'bedrooms bathrooms sqft_living sqft_lot grade',\n",
       " 'bedrooms bathrooms sqft_living condition^2',\n",
       " 'bedrooms bathrooms sqft_living condition grade',\n",
       " 'bedrooms bathrooms sqft_living grade^2',\n",
       " 'bedrooms bathrooms sqft_lot^3',\n",
       " 'bedrooms bathrooms sqft_lot^2 condition',\n",
       " 'bedrooms bathrooms sqft_lot^2 grade',\n",
       " 'bedrooms bathrooms sqft_lot condition^2',\n",
       " 'bedrooms bathrooms sqft_lot condition grade',\n",
       " 'bedrooms bathrooms sqft_lot grade^2',\n",
       " 'bedrooms bathrooms condition^3',\n",
       " 'bedrooms bathrooms condition^2 grade',\n",
       " 'bedrooms bathrooms condition grade^2',\n",
       " 'bedrooms bathrooms grade^3',\n",
       " 'bedrooms sqft_living^4',\n",
       " 'bedrooms sqft_living^3 sqft_lot',\n",
       " 'bedrooms sqft_living^3 condition',\n",
       " 'bedrooms sqft_living^3 grade',\n",
       " 'bedrooms sqft_living^2 sqft_lot^2',\n",
       " 'bedrooms sqft_living^2 sqft_lot condition',\n",
       " 'bedrooms sqft_living^2 sqft_lot grade',\n",
       " 'bedrooms sqft_living^2 condition^2',\n",
       " 'bedrooms sqft_living^2 condition grade',\n",
       " 'bedrooms sqft_living^2 grade^2',\n",
       " 'bedrooms sqft_living sqft_lot^3',\n",
       " 'bedrooms sqft_living sqft_lot^2 condition',\n",
       " 'bedrooms sqft_living sqft_lot^2 grade',\n",
       " 'bedrooms sqft_living sqft_lot condition^2',\n",
       " 'bedrooms sqft_living sqft_lot condition grade',\n",
       " 'bedrooms sqft_living sqft_lot grade^2',\n",
       " 'bedrooms sqft_living condition^3',\n",
       " 'bedrooms sqft_living condition^2 grade',\n",
       " 'bedrooms sqft_living condition grade^2',\n",
       " 'bedrooms sqft_living grade^3',\n",
       " 'bedrooms sqft_lot^4',\n",
       " 'bedrooms sqft_lot^3 condition',\n",
       " 'bedrooms sqft_lot^3 grade',\n",
       " 'bedrooms sqft_lot^2 condition^2',\n",
       " 'bedrooms sqft_lot^2 condition grade',\n",
       " 'bedrooms sqft_lot^2 grade^2',\n",
       " 'bedrooms sqft_lot condition^3',\n",
       " 'bedrooms sqft_lot condition^2 grade',\n",
       " 'bedrooms sqft_lot condition grade^2',\n",
       " 'bedrooms sqft_lot grade^3',\n",
       " 'bedrooms condition^4',\n",
       " 'bedrooms condition^3 grade',\n",
       " 'bedrooms condition^2 grade^2',\n",
       " 'bedrooms condition grade^3',\n",
       " 'bedrooms grade^4',\n",
       " 'bathrooms^5',\n",
       " 'bathrooms^4 sqft_living',\n",
       " 'bathrooms^4 sqft_lot',\n",
       " 'bathrooms^4 condition',\n",
       " 'bathrooms^4 grade',\n",
       " 'bathrooms^3 sqft_living^2',\n",
       " 'bathrooms^3 sqft_living sqft_lot',\n",
       " 'bathrooms^3 sqft_living condition',\n",
       " 'bathrooms^3 sqft_living grade',\n",
       " 'bathrooms^3 sqft_lot^2',\n",
       " 'bathrooms^3 sqft_lot condition',\n",
       " 'bathrooms^3 sqft_lot grade',\n",
       " 'bathrooms^3 condition^2',\n",
       " 'bathrooms^3 condition grade',\n",
       " 'bathrooms^3 grade^2',\n",
       " 'bathrooms^2 sqft_living^3',\n",
       " 'bathrooms^2 sqft_living^2 sqft_lot',\n",
       " 'bathrooms^2 sqft_living^2 condition',\n",
       " 'bathrooms^2 sqft_living^2 grade',\n",
       " 'bathrooms^2 sqft_living sqft_lot^2',\n",
       " 'bathrooms^2 sqft_living sqft_lot condition',\n",
       " 'bathrooms^2 sqft_living sqft_lot grade',\n",
       " 'bathrooms^2 sqft_living condition^2',\n",
       " 'bathrooms^2 sqft_living condition grade',\n",
       " 'bathrooms^2 sqft_living grade^2',\n",
       " 'bathrooms^2 sqft_lot^3',\n",
       " 'bathrooms^2 sqft_lot^2 condition',\n",
       " 'bathrooms^2 sqft_lot^2 grade',\n",
       " 'bathrooms^2 sqft_lot condition^2',\n",
       " 'bathrooms^2 sqft_lot condition grade',\n",
       " 'bathrooms^2 sqft_lot grade^2',\n",
       " 'bathrooms^2 condition^3',\n",
       " 'bathrooms^2 condition^2 grade',\n",
       " 'bathrooms^2 condition grade^2',\n",
       " 'bathrooms^2 grade^3',\n",
       " 'bathrooms sqft_living^4',\n",
       " 'bathrooms sqft_living^3 sqft_lot',\n",
       " 'bathrooms sqft_living^3 condition',\n",
       " 'bathrooms sqft_living^3 grade',\n",
       " 'bathrooms sqft_living^2 sqft_lot^2',\n",
       " 'bathrooms sqft_living^2 sqft_lot condition',\n",
       " 'bathrooms sqft_living^2 sqft_lot grade',\n",
       " 'bathrooms sqft_living^2 condition^2',\n",
       " 'bathrooms sqft_living^2 condition grade',\n",
       " 'bathrooms sqft_living^2 grade^2',\n",
       " 'bathrooms sqft_living sqft_lot^3',\n",
       " 'bathrooms sqft_living sqft_lot^2 condition',\n",
       " 'bathrooms sqft_living sqft_lot^2 grade',\n",
       " 'bathrooms sqft_living sqft_lot condition^2',\n",
       " 'bathrooms sqft_living sqft_lot condition grade',\n",
       " 'bathrooms sqft_living sqft_lot grade^2',\n",
       " 'bathrooms sqft_living condition^3',\n",
       " 'bathrooms sqft_living condition^2 grade',\n",
       " 'bathrooms sqft_living condition grade^2',\n",
       " 'bathrooms sqft_living grade^3',\n",
       " 'bathrooms sqft_lot^4',\n",
       " 'bathrooms sqft_lot^3 condition',\n",
       " 'bathrooms sqft_lot^3 grade',\n",
       " 'bathrooms sqft_lot^2 condition^2',\n",
       " 'bathrooms sqft_lot^2 condition grade',\n",
       " 'bathrooms sqft_lot^2 grade^2',\n",
       " 'bathrooms sqft_lot condition^3',\n",
       " 'bathrooms sqft_lot condition^2 grade',\n",
       " 'bathrooms sqft_lot condition grade^2',\n",
       " 'bathrooms sqft_lot grade^3',\n",
       " 'bathrooms condition^4',\n",
       " 'bathrooms condition^3 grade',\n",
       " 'bathrooms condition^2 grade^2',\n",
       " 'bathrooms condition grade^3',\n",
       " 'bathrooms grade^4',\n",
       " 'sqft_living^5',\n",
       " 'sqft_living^4 sqft_lot',\n",
       " 'sqft_living^4 condition',\n",
       " 'sqft_living^4 grade',\n",
       " 'sqft_living^3 sqft_lot^2',\n",
       " 'sqft_living^3 sqft_lot condition',\n",
       " 'sqft_living^3 sqft_lot grade',\n",
       " 'sqft_living^3 condition^2',\n",
       " 'sqft_living^3 condition grade',\n",
       " 'sqft_living^3 grade^2',\n",
       " 'sqft_living^2 sqft_lot^3',\n",
       " 'sqft_living^2 sqft_lot^2 condition',\n",
       " 'sqft_living^2 sqft_lot^2 grade',\n",
       " 'sqft_living^2 sqft_lot condition^2',\n",
       " 'sqft_living^2 sqft_lot condition grade',\n",
       " 'sqft_living^2 sqft_lot grade^2',\n",
       " 'sqft_living^2 condition^3',\n",
       " 'sqft_living^2 condition^2 grade',\n",
       " 'sqft_living^2 condition grade^2',\n",
       " 'sqft_living^2 grade^3',\n",
       " 'sqft_living sqft_lot^4',\n",
       " 'sqft_living sqft_lot^3 condition',\n",
       " 'sqft_living sqft_lot^3 grade',\n",
       " 'sqft_living sqft_lot^2 condition^2',\n",
       " 'sqft_living sqft_lot^2 condition grade',\n",
       " 'sqft_living sqft_lot^2 grade^2',\n",
       " 'sqft_living sqft_lot condition^3',\n",
       " 'sqft_living sqft_lot condition^2 grade',\n",
       " 'sqft_living sqft_lot condition grade^2',\n",
       " 'sqft_living sqft_lot grade^3',\n",
       " 'sqft_living condition^4',\n",
       " 'sqft_living condition^3 grade',\n",
       " 'sqft_living condition^2 grade^2',\n",
       " 'sqft_living condition grade^3',\n",
       " 'sqft_living grade^4',\n",
       " 'sqft_lot^5',\n",
       " 'sqft_lot^4 condition',\n",
       " 'sqft_lot^4 grade',\n",
       " 'sqft_lot^3 condition^2',\n",
       " 'sqft_lot^3 condition grade',\n",
       " 'sqft_lot^3 grade^2',\n",
       " 'sqft_lot^2 condition^3',\n",
       " 'sqft_lot^2 condition^2 grade',\n",
       " 'sqft_lot^2 condition grade^2',\n",
       " 'sqft_lot^2 grade^3',\n",
       " 'sqft_lot condition^4',\n",
       " 'sqft_lot condition^3 grade',\n",
       " 'sqft_lot condition^2 grade^2',\n",
       " 'sqft_lot condition grade^3',\n",
       " 'sqft_lot grade^4',\n",
       " 'condition^5',\n",
       " 'condition^4 grade',\n",
       " 'condition^3 grade^2',\n",
       " 'condition^2 grade^3',\n",
       " 'condition grade^4',\n",
       " 'grade^5']"
      ]
     },
     "execution_count": 107,
     "metadata": {},
     "output_type": "execute_result"
    }
   ],
   "source": [
    "pf = PolynomialFeatures(degree=5)\n",
    "pf.fit(house_training_data[p2_features])\n",
    "feature_names = pf.get_feature_names(p2_features)\n",
    "feature_names"
   ]
  },
  {
   "cell_type": "markdown",
   "metadata": {},
   "source": [
    "For example, the first coefficient is approximately \\$453,000, which is the intercept term for our model.\n",
    "\n",
    "The second and third coefficients are 0, which correspond to the weight of our \"bedrooms\" feature and \"bathrooms\" feature. "
   ]
  },
  {
   "cell_type": "markdown",
   "metadata": {},
   "source": [
    "Challenge: Create a table of all the features and their weights. Only include features with non-zero weight."
   ]
  },
  {
   "cell_type": "code",
   "execution_count": 109,
   "metadata": {},
   "outputs": [
    {
     "data": {
      "text/html": [
       "<div>\n",
       "<style scoped>\n",
       "    .dataframe tbody tr th:only-of-type {\n",
       "        vertical-align: middle;\n",
       "    }\n",
       "\n",
       "    .dataframe tbody tr th {\n",
       "        vertical-align: top;\n",
       "    }\n",
       "\n",
       "    .dataframe thead th {\n",
       "        text-align: right;\n",
       "    }\n",
       "</style>\n",
       "<table border=\"1\" class=\"dataframe\">\n",
       "  <thead>\n",
       "    <tr style=\"text-align: right;\">\n",
       "      <th></th>\n",
       "      <th>name</th>\n",
       "      <th>weight</th>\n",
       "    </tr>\n",
       "  </thead>\n",
       "  <tbody>\n",
       "    <tr>\n",
       "      <th>0</th>\n",
       "      <td>1</td>\n",
       "      <td>453576.617822</td>\n",
       "    </tr>\n",
       "    <tr>\n",
       "      <th>1</th>\n",
       "      <td>bedrooms</td>\n",
       "      <td>-0.000000</td>\n",
       "    </tr>\n",
       "    <tr>\n",
       "      <th>2</th>\n",
       "      <td>bathrooms</td>\n",
       "      <td>0.000000</td>\n",
       "    </tr>\n",
       "    <tr>\n",
       "      <th>3</th>\n",
       "      <td>sqft_living</td>\n",
       "      <td>70714.920065</td>\n",
       "    </tr>\n",
       "    <tr>\n",
       "      <th>4</th>\n",
       "      <td>sqft_lot</td>\n",
       "      <td>-0.000000</td>\n",
       "    </tr>\n",
       "    <tr>\n",
       "      <th>5</th>\n",
       "      <td>condition</td>\n",
       "      <td>4977.722890</td>\n",
       "    </tr>\n",
       "    <tr>\n",
       "      <th>6</th>\n",
       "      <td>grade</td>\n",
       "      <td>90144.876211</td>\n",
       "    </tr>\n",
       "    <tr>\n",
       "      <th>7</th>\n",
       "      <td>bedrooms^2</td>\n",
       "      <td>6988.727188</td>\n",
       "    </tr>\n",
       "    <tr>\n",
       "      <th>8</th>\n",
       "      <td>bedrooms bathrooms</td>\n",
       "      <td>0.000000</td>\n",
       "    </tr>\n",
       "    <tr>\n",
       "      <th>9</th>\n",
       "      <td>bedrooms sqft_living</td>\n",
       "      <td>0.000000</td>\n",
       "    </tr>\n",
       "  </tbody>\n",
       "</table>\n",
       "</div>"
      ],
      "text/plain": [
       "                   name         weight\n",
       "0                     1  453576.617822\n",
       "1              bedrooms      -0.000000\n",
       "2             bathrooms       0.000000\n",
       "3           sqft_living   70714.920065\n",
       "4              sqft_lot      -0.000000\n",
       "5             condition    4977.722890\n",
       "6                 grade   90144.876211\n",
       "7            bedrooms^2    6988.727188\n",
       "8    bedrooms bathrooms       0.000000\n",
       "9  bedrooms sqft_living       0.000000"
      ]
     },
     "execution_count": 109,
     "metadata": {},
     "output_type": "execute_result"
    }
   ],
   "source": [
    "feature_table=pd.DataFrame({\n",
    "    'name':feature_names,\n",
    "    'weight':p2h_model.named_steps['model'].coef_\n",
    "})\n",
    "feature_table.head(10)"
   ]
  },
  {
   "cell_type": "code",
   "execution_count": 110,
   "metadata": {},
   "outputs": [
    {
     "data": {
      "text/html": [
       "<div>\n",
       "<style scoped>\n",
       "    .dataframe tbody tr th:only-of-type {\n",
       "        vertical-align: middle;\n",
       "    }\n",
       "\n",
       "    .dataframe tbody tr th {\n",
       "        vertical-align: top;\n",
       "    }\n",
       "\n",
       "    .dataframe thead th {\n",
       "        text-align: right;\n",
       "    }\n",
       "</style>\n",
       "<table border=\"1\" class=\"dataframe\">\n",
       "  <thead>\n",
       "    <tr style=\"text-align: right;\">\n",
       "      <th></th>\n",
       "      <th>name</th>\n",
       "      <th>weight</th>\n",
       "    </tr>\n",
       "  </thead>\n",
       "  <tbody>\n",
       "    <tr>\n",
       "      <th>0</th>\n",
       "      <td>1</td>\n",
       "      <td>453576.617822</td>\n",
       "    </tr>\n",
       "    <tr>\n",
       "      <th>6</th>\n",
       "      <td>grade</td>\n",
       "      <td>90144.876211</td>\n",
       "    </tr>\n",
       "    <tr>\n",
       "      <th>3</th>\n",
       "      <td>sqft_living</td>\n",
       "      <td>70714.920065</td>\n",
       "    </tr>\n",
       "    <tr>\n",
       "      <th>27</th>\n",
       "      <td>grade^2</td>\n",
       "      <td>21819.120976</td>\n",
       "    </tr>\n",
       "    <tr>\n",
       "      <th>13</th>\n",
       "      <td>bathrooms^2</td>\n",
       "      <td>12128.591597</td>\n",
       "    </tr>\n",
       "    <tr>\n",
       "      <th>...</th>\n",
       "      <td>...</td>\n",
       "      <td>...</td>\n",
       "    </tr>\n",
       "    <tr>\n",
       "      <th>201</th>\n",
       "      <td>sqft_lot condition^3</td>\n",
       "      <td>-1052.785978</td>\n",
       "    </tr>\n",
       "    <tr>\n",
       "      <th>419</th>\n",
       "      <td>sqft_living^2 sqft_lot condition^2</td>\n",
       "      <td>-1141.980869</td>\n",
       "    </tr>\n",
       "    <tr>\n",
       "      <th>454</th>\n",
       "      <td>sqft_lot condition grade^3</td>\n",
       "      <td>-1268.756693</td>\n",
       "    </tr>\n",
       "    <tr>\n",
       "      <th>204</th>\n",
       "      <td>sqft_lot grade^3</td>\n",
       "      <td>-2518.116798</td>\n",
       "    </tr>\n",
       "    <tr>\n",
       "      <th>176</th>\n",
       "      <td>sqft_living^3 sqft_lot</td>\n",
       "      <td>-3058.331095</td>\n",
       "    </tr>\n",
       "  </tbody>\n",
       "</table>\n",
       "<p>111 rows × 2 columns</p>\n",
       "</div>"
      ],
      "text/plain": [
       "                                   name         weight\n",
       "0                                     1  453576.617822\n",
       "6                                 grade   90144.876211\n",
       "3                           sqft_living   70714.920065\n",
       "27                              grade^2   21819.120976\n",
       "13                          bathrooms^2   12128.591597\n",
       "..                                  ...            ...\n",
       "201                sqft_lot condition^3   -1052.785978\n",
       "419  sqft_living^2 sqft_lot condition^2   -1141.980869\n",
       "454          sqft_lot condition grade^3   -1268.756693\n",
       "204                    sqft_lot grade^3   -2518.116798\n",
       "176              sqft_living^3 sqft_lot   -3058.331095\n",
       "\n",
       "[111 rows x 2 columns]"
      ]
     },
     "execution_count": 110,
     "metadata": {},
     "output_type": "execute_result"
    }
   ],
   "source": [
    "feature_table[abs(feature_table['weight'])>10**-2].sort_values('weight', ascending=False)"
   ]
  },
  {
   "cell_type": "code",
   "execution_count": 111,
   "metadata": {},
   "outputs": [
    {
     "data": {
      "text/plain": [
       "462"
      ]
     },
     "execution_count": 111,
     "metadata": {},
     "output_type": "execute_result"
    }
   ],
   "source": [
    "len(feature_names)"
   ]
  },
  {
   "cell_type": "code",
   "execution_count": null,
   "metadata": {},
   "outputs": [],
   "source": []
  }
 ],
 "metadata": {
  "kernelspec": {
   "display_name": "Python 3",
   "language": "python",
   "name": "python3"
  },
  "language_info": {
   "codemirror_mode": {
    "name": "ipython",
    "version": 3
   },
   "file_extension": ".py",
   "mimetype": "text/x-python",
   "name": "python",
   "nbconvert_exporter": "python",
   "pygments_lexer": "ipython3",
   "version": "3.7.7"
  }
 },
 "nbformat": 4,
 "nbformat_minor": 4
}
