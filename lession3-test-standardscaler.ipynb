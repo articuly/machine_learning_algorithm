{
 "cells": [
  {
   "cell_type": "code",
   "execution_count": 1,
   "metadata": {},
   "outputs": [],
   "source": [
    "import seaborn as sns\n",
    "import pandas as pd\n",
    "sns.set(font_scale=1.5)\n",
    "import matplotlib.pyplot as plt\n",
    "import numpy as np\n",
    "from sklearn import linear_model\n",
    "from sklearn.linear_model import LinearRegression\n",
    "from sklearn.metrics import mean_absolute_error, mean_squared_error\n",
    "from sklearn.preprocessing import PolynomialFeatures, StandardScaler\n",
    "from sklearn.pipeline import Pipeline"
   ]
  },
  {
   "cell_type": "code",
   "execution_count": 2,
   "metadata": {},
   "outputs": [],
   "source": [
    "file1=r'D:/Programing/python_projects/machine_learning_algorithm/data_set/diamond_training_data.csv'\n",
    "file2=r'D:/Programing/python_projects/machine_learning_algorithm/data_set/diamond_validation_data.csv'\n",
    "diamond_training_data=pd.read_csv(file1)\n",
    "diamond_validation_data=pd.read_csv(file2)\n",
    "numeric_diamond_training_data = diamond_training_data[[\"carat\", \"depth\", \"table\", \"x\", \"y\", \"z\"]]\n",
    "numeric_diamond_validation_data = diamond_validation_data[[\"carat\", \"depth\", \"table\", \"x\", \"y\", \"z\"]]"
   ]
  },
  {
   "cell_type": "code",
   "execution_count": 3,
   "metadata": {},
   "outputs": [
    {
     "data": {
      "text/html": [
       "<div>\n",
       "<style scoped>\n",
       "    .dataframe tbody tr th:only-of-type {\n",
       "        vertical-align: middle;\n",
       "    }\n",
       "\n",
       "    .dataframe tbody tr th {\n",
       "        vertical-align: top;\n",
       "    }\n",
       "\n",
       "    .dataframe thead th {\n",
       "        text-align: right;\n",
       "    }\n",
       "</style>\n",
       "<table border=\"1\" class=\"dataframe\">\n",
       "  <thead>\n",
       "    <tr style=\"text-align: right;\">\n",
       "      <th></th>\n",
       "      <th>carat</th>\n",
       "      <th>depth</th>\n",
       "      <th>table</th>\n",
       "      <th>x</th>\n",
       "      <th>y</th>\n",
       "      <th>z</th>\n",
       "    </tr>\n",
       "  </thead>\n",
       "  <tbody>\n",
       "    <tr>\n",
       "      <th>0</th>\n",
       "      <td>1.00</td>\n",
       "      <td>61.8</td>\n",
       "      <td>56.0</td>\n",
       "      <td>6.38</td>\n",
       "      <td>6.43</td>\n",
       "      <td>3.96</td>\n",
       "    </tr>\n",
       "    <tr>\n",
       "      <th>1</th>\n",
       "      <td>2.18</td>\n",
       "      <td>62.5</td>\n",
       "      <td>55.0</td>\n",
       "      <td>8.31</td>\n",
       "      <td>8.34</td>\n",
       "      <td>5.20</td>\n",
       "    </tr>\n",
       "    <tr>\n",
       "      <th>2</th>\n",
       "      <td>0.53</td>\n",
       "      <td>62.2</td>\n",
       "      <td>54.0</td>\n",
       "      <td>5.18</td>\n",
       "      <td>5.23</td>\n",
       "      <td>3.24</td>\n",
       "    </tr>\n",
       "    <tr>\n",
       "      <th>3</th>\n",
       "      <td>0.30</td>\n",
       "      <td>61.5</td>\n",
       "      <td>57.0</td>\n",
       "      <td>4.31</td>\n",
       "      <td>4.34</td>\n",
       "      <td>2.66</td>\n",
       "    </tr>\n",
       "    <tr>\n",
       "      <th>4</th>\n",
       "      <td>0.76</td>\n",
       "      <td>58.3</td>\n",
       "      <td>62.0</td>\n",
       "      <td>6.12</td>\n",
       "      <td>5.95</td>\n",
       "      <td>3.52</td>\n",
       "    </tr>\n",
       "    <tr>\n",
       "      <th>...</th>\n",
       "      <td>...</td>\n",
       "      <td>...</td>\n",
       "      <td>...</td>\n",
       "      <td>...</td>\n",
       "      <td>...</td>\n",
       "      <td>...</td>\n",
       "    </tr>\n",
       "    <tr>\n",
       "      <th>1495</th>\n",
       "      <td>2.35</td>\n",
       "      <td>62.3</td>\n",
       "      <td>58.0</td>\n",
       "      <td>8.51</td>\n",
       "      <td>8.44</td>\n",
       "      <td>5.28</td>\n",
       "    </tr>\n",
       "    <tr>\n",
       "      <th>1496</th>\n",
       "      <td>0.42</td>\n",
       "      <td>62.2</td>\n",
       "      <td>56.0</td>\n",
       "      <td>4.81</td>\n",
       "      <td>4.77</td>\n",
       "      <td>2.98</td>\n",
       "    </tr>\n",
       "    <tr>\n",
       "      <th>1497</th>\n",
       "      <td>1.16</td>\n",
       "      <td>61.8</td>\n",
       "      <td>55.0</td>\n",
       "      <td>6.75</td>\n",
       "      <td>6.78</td>\n",
       "      <td>4.18</td>\n",
       "    </tr>\n",
       "    <tr>\n",
       "      <th>1498</th>\n",
       "      <td>0.55</td>\n",
       "      <td>60.3</td>\n",
       "      <td>57.0</td>\n",
       "      <td>5.32</td>\n",
       "      <td>5.37</td>\n",
       "      <td>3.23</td>\n",
       "    </tr>\n",
       "    <tr>\n",
       "      <th>1499</th>\n",
       "      <td>0.57</td>\n",
       "      <td>60.1</td>\n",
       "      <td>56.0</td>\n",
       "      <td>5.40</td>\n",
       "      <td>5.42</td>\n",
       "      <td>3.25</td>\n",
       "    </tr>\n",
       "  </tbody>\n",
       "</table>\n",
       "<p>1500 rows × 6 columns</p>\n",
       "</div>"
      ],
      "text/plain": [
       "      carat  depth  table     x     y     z\n",
       "0      1.00   61.8   56.0  6.38  6.43  3.96\n",
       "1      2.18   62.5   55.0  8.31  8.34  5.20\n",
       "2      0.53   62.2   54.0  5.18  5.23  3.24\n",
       "3      0.30   61.5   57.0  4.31  4.34  2.66\n",
       "4      0.76   58.3   62.0  6.12  5.95  3.52\n",
       "...     ...    ...    ...   ...   ...   ...\n",
       "1495   2.35   62.3   58.0  8.51  8.44  5.28\n",
       "1496   0.42   62.2   56.0  4.81  4.77  2.98\n",
       "1497   1.16   61.8   55.0  6.75  6.78  4.18\n",
       "1498   0.55   60.3   57.0  5.32  5.37  3.23\n",
       "1499   0.57   60.1   56.0  5.40  5.42  3.25\n",
       "\n",
       "[1500 rows x 6 columns]"
      ]
     },
     "execution_count": 3,
     "metadata": {},
     "output_type": "execute_result"
    }
   ],
   "source": [
    "numeric_diamond_training_data"
   ]
  },
  {
   "cell_type": "code",
   "execution_count": 4,
   "metadata": {},
   "outputs": [
    {
     "data": {
      "text/html": [
       "<div>\n",
       "<style scoped>\n",
       "    .dataframe tbody tr th:only-of-type {\n",
       "        vertical-align: middle;\n",
       "    }\n",
       "\n",
       "    .dataframe tbody tr th {\n",
       "        vertical-align: top;\n",
       "    }\n",
       "\n",
       "    .dataframe thead th {\n",
       "        text-align: right;\n",
       "    }\n",
       "</style>\n",
       "<table border=\"1\" class=\"dataframe\">\n",
       "  <thead>\n",
       "    <tr style=\"text-align: right;\">\n",
       "      <th></th>\n",
       "      <th>carat</th>\n",
       "      <th>depth</th>\n",
       "      <th>table</th>\n",
       "      <th>x</th>\n",
       "      <th>y</th>\n",
       "      <th>z</th>\n",
       "    </tr>\n",
       "  </thead>\n",
       "  <tbody>\n",
       "    <tr>\n",
       "      <th>0</th>\n",
       "      <td>0.51</td>\n",
       "      <td>61.5</td>\n",
       "      <td>57.0</td>\n",
       "      <td>5.11</td>\n",
       "      <td>5.16</td>\n",
       "      <td>3.16</td>\n",
       "    </tr>\n",
       "    <tr>\n",
       "      <th>1</th>\n",
       "      <td>0.70</td>\n",
       "      <td>61.5</td>\n",
       "      <td>57.0</td>\n",
       "      <td>5.64</td>\n",
       "      <td>5.68</td>\n",
       "      <td>3.48</td>\n",
       "    </tr>\n",
       "    <tr>\n",
       "      <th>2</th>\n",
       "      <td>1.09</td>\n",
       "      <td>62.5</td>\n",
       "      <td>59.0</td>\n",
       "      <td>6.54</td>\n",
       "      <td>6.57</td>\n",
       "      <td>4.10</td>\n",
       "    </tr>\n",
       "    <tr>\n",
       "      <th>3</th>\n",
       "      <td>1.80</td>\n",
       "      <td>61.8</td>\n",
       "      <td>57.0</td>\n",
       "      <td>7.83</td>\n",
       "      <td>7.79</td>\n",
       "      <td>4.83</td>\n",
       "    </tr>\n",
       "    <tr>\n",
       "      <th>4</th>\n",
       "      <td>0.71</td>\n",
       "      <td>60.9</td>\n",
       "      <td>57.0</td>\n",
       "      <td>5.74</td>\n",
       "      <td>5.76</td>\n",
       "      <td>3.50</td>\n",
       "    </tr>\n",
       "    <tr>\n",
       "      <th>...</th>\n",
       "      <td>...</td>\n",
       "      <td>...</td>\n",
       "      <td>...</td>\n",
       "      <td>...</td>\n",
       "      <td>...</td>\n",
       "      <td>...</td>\n",
       "    </tr>\n",
       "    <tr>\n",
       "      <th>495</th>\n",
       "      <td>1.50</td>\n",
       "      <td>62.5</td>\n",
       "      <td>58.0</td>\n",
       "      <td>7.21</td>\n",
       "      <td>7.28</td>\n",
       "      <td>4.53</td>\n",
       "    </tr>\n",
       "    <tr>\n",
       "      <th>496</th>\n",
       "      <td>0.52</td>\n",
       "      <td>63.5</td>\n",
       "      <td>57.0</td>\n",
       "      <td>5.08</td>\n",
       "      <td>5.13</td>\n",
       "      <td>3.24</td>\n",
       "    </tr>\n",
       "    <tr>\n",
       "      <th>497</th>\n",
       "      <td>0.54</td>\n",
       "      <td>62.2</td>\n",
       "      <td>61.0</td>\n",
       "      <td>5.24</td>\n",
       "      <td>5.15</td>\n",
       "      <td>3.23</td>\n",
       "    </tr>\n",
       "    <tr>\n",
       "      <th>498</th>\n",
       "      <td>1.01</td>\n",
       "      <td>63.1</td>\n",
       "      <td>58.0</td>\n",
       "      <td>6.40</td>\n",
       "      <td>6.31</td>\n",
       "      <td>4.01</td>\n",
       "    </tr>\n",
       "    <tr>\n",
       "      <th>499</th>\n",
       "      <td>0.37</td>\n",
       "      <td>62.0</td>\n",
       "      <td>56.0</td>\n",
       "      <td>4.62</td>\n",
       "      <td>4.64</td>\n",
       "      <td>2.87</td>\n",
       "    </tr>\n",
       "  </tbody>\n",
       "</table>\n",
       "<p>500 rows × 6 columns</p>\n",
       "</div>"
      ],
      "text/plain": [
       "     carat  depth  table     x     y     z\n",
       "0     0.51   61.5   57.0  5.11  5.16  3.16\n",
       "1     0.70   61.5   57.0  5.64  5.68  3.48\n",
       "2     1.09   62.5   59.0  6.54  6.57  4.10\n",
       "3     1.80   61.8   57.0  7.83  7.79  4.83\n",
       "4     0.71   60.9   57.0  5.74  5.76  3.50\n",
       "..     ...    ...    ...   ...   ...   ...\n",
       "495   1.50   62.5   58.0  7.21  7.28  4.53\n",
       "496   0.52   63.5   57.0  5.08  5.13  3.24\n",
       "497   0.54   62.2   61.0  5.24  5.15  3.23\n",
       "498   1.01   63.1   58.0  6.40  6.31  4.01\n",
       "499   0.37   62.0   56.0  4.62  4.64  2.87\n",
       "\n",
       "[500 rows x 6 columns]"
      ]
     },
     "execution_count": 4,
     "metadata": {},
     "output_type": "execute_result"
    }
   ],
   "source": [
    "numeric_diamond_validation_data"
   ]
  },
  {
   "cell_type": "code",
   "execution_count": 5,
   "metadata": {},
   "outputs": [],
   "source": [
    "def get_training_and_validation_mae(degree):\n",
    "    poly = PolynomialFeatures(degree=degree)\n",
    "    polynomial_diamond_training_data = poly.fit_transform(numeric_diamond_training_data)\n",
    "    polynomial_diamond_validation_data = poly.fit_transform(numeric_diamond_validation_data)\n",
    "    \n",
    "    diamond_model = LinearRegression()\n",
    "    diamond_model.fit(polynomial_diamond_training_data, diamond_training_data[[\"price\"]])\n",
    "    training_error = mean_absolute_error(diamond_model.predict(polynomial_diamond_training_data),  diamond_training_data[[\"price\"]])\n",
    "    validation_error = mean_absolute_error(diamond_model.predict(polynomial_diamond_validation_data), diamond_validation_data[[\"price\"]])\n",
    "    return training_error, validation_error"
   ]
  },
  {
   "cell_type": "code",
   "execution_count": 26,
   "metadata": {},
   "outputs": [
    {
     "data": {
      "image/png": "[encoded data removed]",
      "text/plain": [
       "<Figure size 432x288 with 1 Axes>"
      ]
     },
     "metadata": {},
     "output_type": "display_data"
    }
   ],
   "source": [
    "maes = np.array([get_training_and_validation_mae(i) for i in range(0, 6)])\n",
    "plt.plot(maes[:, 0])\n",
    "plt.plot(maes[:, 1])\n",
    "plt.axis([0, 6, 0, 10000])\n",
    "plt.legend([\"training\", \"validation\"])\n",
    "plt.xlabel('Polynomial Degree')\n",
    "plt.ylabel('MAE')\n",
    "fig = plt.gcf()\n",
    "fig.savefig(\"mae_vs_complexity_example.png\", dpi=300, bbox_inches = \"tight\")"
   ]
  },
  {
   "cell_type": "code",
   "execution_count": 27,
   "metadata": {},
   "outputs": [],
   "source": [
    "def get_training_and_validation_mse(degree):\n",
    "    poly = PolynomialFeatures(degree=degree)\n",
    "    polynomial_diamond_training_data = poly.fit_transform(numeric_diamond_training_data)\n",
    "    polynomial_diamond_validation_data = poly.fit_transform(numeric_diamond_validation_data)\n",
    "    \n",
    "    diamond_model = LinearRegression()\n",
    "    diamond_model.fit(polynomial_diamond_training_data, diamond_training_data[[\"price\"]])\n",
    "    training_error = mean_squared_error(diamond_model.predict(polynomial_diamond_training_data),  diamond_training_data[[\"price\"]])\n",
    "    validation_error = mean_squared_error(diamond_model.predict(polynomial_diamond_validation_data), diamond_validation_data[[\"price\"]])\n",
    "    return training_error, validation_error"
   ]
  },
  {
   "cell_type": "code",
   "execution_count": 30,
   "metadata": {},
   "outputs": [
    {
     "data": {
      "image/png": "[encoded data removed]",
      "text/plain": [
       "<Figure size 432x288 with 1 Axes>"
      ]
     },
     "metadata": {},
     "output_type": "display_data"
    }
   ],
   "source": [
    "mses = np.array([get_training_and_validation_mae(i) for i in range(0, 6)])\n",
    "plt.plot(maes[:, 0])\n",
    "plt.plot(maes[:, 1])\n",
    "plt.legend([\"training\", \"validation\"])\n",
    "plt.xlabel('Polynomial Degree')\n",
    "plt.ylabel('MSE')\n",
    "fig = plt.gcf()\n",
    "fig.savefig(\"mse_vs_complexity_example.png\", dpi=300, bbox_inches = \"tight\")"
   ]
  },
  {
   "cell_type": "code",
   "execution_count": 31,
   "metadata": {},
   "outputs": [
    {
     "data": {
      "text/plain": [
       "LinearRegression(copy_X=True, fit_intercept=False, n_jobs=1, normalize=False)"
      ]
     },
     "execution_count": 31,
     "metadata": {},
     "output_type": "execute_result"
    }
   ],
   "source": [
    "diamond_lm=LinearRegression(fit_intercept=False)\n",
    "diamond_lm.fit(numeric_diamond_training_data, diamond_training_data['price'])"
   ]
  },
  {
   "cell_type": "code",
   "execution_count": 32,
   "metadata": {},
   "outputs": [
    {
     "data": {
      "text/plain": [
       "array([10929.22839108,   102.63351882,   -68.58659808, -4337.56181477,\n",
       "        5726.98390592, -4264.46705819])"
      ]
     },
     "execution_count": 32,
     "metadata": {},
     "output_type": "execute_result"
    }
   ],
   "source": [
    "diamond_lm.coef_"
   ]
  },
  {
   "cell_type": "code",
   "execution_count": 33,
   "metadata": {},
   "outputs": [
    {
     "data": {
      "text/plain": [
       "Ridge(alpha=1, copy_X=True, fit_intercept=False, max_iter=None,\n",
       "   normalize=False, random_state=None, solver='auto', tol=0.001)"
      ]
     },
     "execution_count": 33,
     "metadata": {},
     "output_type": "execute_result"
    }
   ],
   "source": [
    "diamond_lrm=linear_model.Ridge(alpha=1, fit_intercept=False)\n",
    "diamond_lrm.fit(numeric_diamond_training_data, diamond_training_data['price'])"
   ]
  },
  {
   "cell_type": "code",
   "execution_count": 34,
   "metadata": {},
   "outputs": [
    {
     "data": {
      "text/plain": [
       "array([ 9982.92218626,    70.87249868,   -59.86772488, -2858.44145593,\n",
       "        3873.86898816, -3032.30595989])"
      ]
     },
     "execution_count": 34,
     "metadata": {},
     "output_type": "execute_result"
    }
   ],
   "source": [
    "diamond_lrm.coef_"
   ]
  },
  {
   "cell_type": "code",
   "execution_count": 35,
   "metadata": {},
   "outputs": [],
   "source": [
    "ss=StandardScaler()\n",
    "ss.fit(numeric_diamond_training_data)\n",
    "scaled_numeric_diamond_training_data=ss.transform(numeric_diamond_training_data)"
   ]
  },
  {
   "cell_type": "code",
   "execution_count": 36,
   "metadata": {},
   "outputs": [
    {
     "data": {
      "text/plain": [
       "array([[ 0.40699664,  0.08570641, -0.65913598,  0.55500569,  0.60192185,\n",
       "         0.58918337],\n",
       "       [ 2.90659436,  0.59760475, -1.12355608,  2.29996541,  2.33910941,\n",
       "         2.40184537],\n",
       "       [-0.58860583,  0.37821974, -1.58797619, -0.52994336, -0.48950489,\n",
       "        -0.46333005],\n",
       "       ...,\n",
       "       [ 0.74592515,  0.08570641, -1.12355608,  0.88953164,  0.92025465,\n",
       "         0.91078469],\n",
       "       [-0.54623977, -1.01121861, -0.19471587, -0.40336597, -0.36217177,\n",
       "        -0.47794829],\n",
       "       [-0.50387371, -1.15747527, -0.65913598, -0.33103604, -0.31669566,\n",
       "        -0.44871181]])"
      ]
     },
     "execution_count": 36,
     "metadata": {},
     "output_type": "execute_result"
    }
   ],
   "source": [
    "scaled_numeric_diamond_training_data"
   ]
  },
  {
   "cell_type": "code",
   "execution_count": 37,
   "metadata": {},
   "outputs": [
    {
     "data": {
      "text/plain": [
       "Ridge(alpha=1, copy_X=True, fit_intercept=False, max_iter=None,\n",
       "   normalize=False, random_state=None, solver='auto', tol=0.001)"
      ]
     },
     "execution_count": 37,
     "metadata": {},
     "output_type": "execute_result"
    }
   ],
   "source": [
    "diamond_lrms=linear_model.Ridge(alpha=1, fit_intercept=False)\n",
    "diamond_lrms.fit(scaled_numeric_diamond_training_data, diamond_training_data['price'])"
   ]
  },
  {
   "cell_type": "code",
   "execution_count": 38,
   "metadata": {},
   "outputs": [
    {
     "data": {
      "text/plain": [
       "array([ 5037.85377372,   -18.43159469,  -157.06975023, -3309.51865518,\n",
       "        3571.6046855 , -1552.60486515])"
      ]
     },
     "execution_count": 38,
     "metadata": {},
     "output_type": "execute_result"
    }
   ],
   "source": [
    "diamond_lrms.coef_"
   ]
  },
  {
   "cell_type": "code",
   "execution_count": 39,
   "metadata": {},
   "outputs": [
    {
     "data": {
      "text/plain": [
       "Pipeline(memory=None,\n",
       "     steps=[('scale', StandardScaler(copy=True, with_mean=True, with_std=True)), ('model', Ridge(alpha=1, copy_X=True, fit_intercept=False, max_iter=None,\n",
       "   normalize=False, random_state=None, solver='auto', tol=0.001))])"
      ]
     },
     "execution_count": 39,
     "metadata": {},
     "output_type": "execute_result"
    }
   ],
   "source": [
    "scale_ridge_model_pipeline=Pipeline([\n",
    "    ('scale', StandardScaler()),\n",
    "    ('model', linear_model.Ridge(alpha=1, fit_intercept=False))\n",
    "])\n",
    "scale_ridge_model_pipeline.fit(numeric_diamond_training_data, diamond_training_data['price'])"
   ]
  },
  {
   "cell_type": "code",
   "execution_count": 40,
   "metadata": {},
   "outputs": [
    {
     "data": {
      "text/plain": [
       "array([ 5037.85377372,   -18.43159469,  -157.06975023, -3309.51865518,\n",
       "        3571.6046855 , -1552.60486515])"
      ]
     },
     "execution_count": 40,
     "metadata": {},
     "output_type": "execute_result"
    }
   ],
   "source": [
    "scale_ridge_model_pipeline.named_steps['model'].coef_"
   ]
  },
  {
   "cell_type": "code",
   "execution_count": 41,
   "metadata": {},
   "outputs": [],
   "source": [
    "def get_diamond_ridge_training_and_validation_mae(alpha):\n",
    "    scale_poly_fit_pipeline=Pipeline([\n",
    "        ('scale', StandardScaler()),\n",
    "        ('poly', PolynomialFeatures(2)),\n",
    "        ('model', linear_model.Ridge(alpha=alpha, fit_intercept=False))\n",
    "    ])\n",
    "    scale_poly_fit_pipeline.fit(numeric_diamond_training_data, diamond_training_data['price'])\n",
    "    \n",
    "    training_mae=mean_absolute_error(scale_ridge_model_pipeline.predict(numeric_diamond_training_data), diamond_training_data['price'])\n",
    "    validation_mae=mean_absolute_error(scale_ridge_model_pipeline.predict(numeric_diamond_validation_data), diamond_validation_data['price'])\n",
    "    return training_mae, validation_mae"
   ]
  },
  {
   "cell_type": "code",
   "execution_count": 42,
   "metadata": {},
   "outputs": [],
   "source": [
    "def get_diamond_ridge_training_and_validation_mse(alpha):\n",
    "    scale_poly_fit_pipeline=Pipeline([\n",
    "        ('scale', StandardScaler()),\n",
    "        ('poly', PolynomialFeatures(2)),\n",
    "        ('model', linear_model.Ridge(alpha=alpha, fit_intercept=False))\n",
    "    ])\n",
    "    scale_poly_fit_pipeline.fit(numeric_diamond_training_data, diamond_training_data['price'])\n",
    "    \n",
    "    training_mse=mean_squared_error(scale_ridge_model_pipeline.predict(numeric_diamond_training_data), diamond_training_data['price'])\n",
    "    validation_mse=mean_squared_error(scale_ridge_model_pipeline.predict(numeric_diamond_validation_data), diamond_validation_data['price'])\n",
    "    return training_mse, validation_mse"
   ]
  },
  {
   "cell_type": "code",
   "execution_count": 43,
   "metadata": {},
   "outputs": [
    {
     "data": {
      "text/plain": [
       "Text(0, 0.5, 'MAE')"
      ]
     },
     "execution_count": 43,
     "metadata": {},
     "output_type": "execute_result"
    },
    {
     "data": {
      "image/png": "[encoded data removed]",
      "text/plain": [
       "<Figure size 432x288 with 1 Axes>"
      ]
     },
     "metadata": {},
     "output_type": "display_data"
    }
   ],
   "source": [
    "alphas = 10**np.linspace(3, -3, 100)\n",
    "mses = np.array([get_diamond_ridge_training_and_validation_mae(alpha) for alpha in alphas])\n",
    "plt.plot(alphas, mses[:, 0])\n",
    "plt.plot(alphas, mses[:, 1])\n",
    "plt.legend([\"training\", \"validation\"])\n",
    "plt.xlabel(r'$\\alpha$')\n",
    "plt.ylabel('MAE')"
   ]
  },
  {
   "cell_type": "code",
   "execution_count": 44,
   "metadata": {},
   "outputs": [
    {
     "data": {
      "text/plain": [
       "Text(0, 0.5, 'MSE')"
      ]
     },
     "execution_count": 44,
     "metadata": {},
     "output_type": "execute_result"
    },
    {
     "data": {
      "image/png": "[encoded data removed]",
      "text/plain": [
       "<Figure size 432x288 with 1 Axes>"
      ]
     },
     "metadata": {},
     "output_type": "display_data"
    }
   ],
   "source": [
    "alphas = 10**np.linspace(3, -3, 100)\n",
    "mses = np.array([get_diamond_ridge_training_and_validation_mse(alpha) for alpha in alphas])\n",
    "plt.plot(alphas, mses[:, 0])\n",
    "plt.plot(alphas, mses[:, 1])\n",
    "plt.legend([\"training\", \"validation\"])\n",
    "plt.xlabel(r'$\\alpha$')\n",
    "plt.ylabel('MSE')"
   ]
  },
  {
   "cell_type": "code",
   "execution_count": null,
   "metadata": {},
   "outputs": [],
   "source": []
  },
  {
   "cell_type": "code",
   "execution_count": null,
   "metadata": {},
   "outputs": [],
   "source": []
  }
 ],
 "metadata": {
  "kernelspec": {
   "display_name": "Python 3",
   "language": "python",
   "name": "python3"
  },
  "language_info": {
   "codemirror_mode": {
    "name": "ipython",
    "version": 3
   },
   "file_extension": ".py",
   "mimetype": "text/x-python",
   "name": "python",
   "nbconvert_exporter": "python",
   "pygments_lexer": "ipython3",
   "version": "3.7.7"
  }
 },
 "nbformat": 4,
 "nbformat_minor": 4
}
