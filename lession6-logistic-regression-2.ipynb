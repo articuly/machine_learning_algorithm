{
 "cells": [
  {
   "cell_type": "code",
   "execution_count": 1,
   "metadata": {},
   "outputs": [],
   "source": [
    "import os\n",
    "import pandas as pd\n",
    "import seaborn as sns\n",
    "import matplotlib.pyplot as plt\n",
    "import numpy as np\n",
    "\n",
    "%matplotlib inline\n",
    "\n",
    "plt.rcParams['figure.figsize'] = (4, 4)\n",
    "plt.rcParams['figure.dpi'] = 150\n",
    "plt.rcParams['lines.linewidth'] = 3\n",
    "sns.set()"
   ]
  },
  {
   "cell_type": "code",
   "execution_count": 2,
   "metadata": {},
   "outputs": [],
   "source": [
    "df = sns.load_dataset(\"titanic\")"
   ]
  },
  {
   "cell_type": "code",
   "execution_count": 3,
   "metadata": {},
   "outputs": [],
   "source": [
    "p3_df = df[[\"age\", \"fare\", \"pclass\", \"sex\", \"survived\"]].copy()\n",
    "p3_df = p3_df.dropna()\n",
    "p3_df['sex'] = p3_df['sex'].replace(\"male\", 0)\n",
    "p3_df['sex'] = p3_df['sex'].replace(\"female\", 1)\n",
    "np.random.seed(23)\n",
    "p3_train, p3_validation = np.split(p3_df, [600])"
   ]
  },
  {
   "cell_type": "code",
   "execution_count": 72,
   "metadata": {},
   "outputs": [
    {
     "data": {
      "text/html": [
       "<div>\n",
       "<style scoped>\n",
       "    .dataframe tbody tr th:only-of-type {\n",
       "        vertical-align: middle;\n",
       "    }\n",
       "\n",
       "    .dataframe tbody tr th {\n",
       "        vertical-align: top;\n",
       "    }\n",
       "\n",
       "    .dataframe thead th {\n",
       "        text-align: right;\n",
       "    }\n",
       "</style>\n",
       "<table border=\"1\" class=\"dataframe\">\n",
       "  <thead>\n",
       "    <tr style=\"text-align: right;\">\n",
       "      <th></th>\n",
       "      <th>age</th>\n",
       "      <th>fare</th>\n",
       "      <th>pclass</th>\n",
       "      <th>sex</th>\n",
       "      <th>survived</th>\n",
       "    </tr>\n",
       "  </thead>\n",
       "  <tbody>\n",
       "    <tr>\n",
       "      <td>0</td>\n",
       "      <td>22.0</td>\n",
       "      <td>7.2500</td>\n",
       "      <td>3</td>\n",
       "      <td>0</td>\n",
       "      <td>0</td>\n",
       "    </tr>\n",
       "    <tr>\n",
       "      <td>1</td>\n",
       "      <td>38.0</td>\n",
       "      <td>71.2833</td>\n",
       "      <td>1</td>\n",
       "      <td>1</td>\n",
       "      <td>1</td>\n",
       "    </tr>\n",
       "    <tr>\n",
       "      <td>2</td>\n",
       "      <td>26.0</td>\n",
       "      <td>7.9250</td>\n",
       "      <td>3</td>\n",
       "      <td>1</td>\n",
       "      <td>1</td>\n",
       "    </tr>\n",
       "    <tr>\n",
       "      <td>3</td>\n",
       "      <td>35.0</td>\n",
       "      <td>53.1000</td>\n",
       "      <td>1</td>\n",
       "      <td>1</td>\n",
       "      <td>1</td>\n",
       "    </tr>\n",
       "    <tr>\n",
       "      <td>4</td>\n",
       "      <td>35.0</td>\n",
       "      <td>8.0500</td>\n",
       "      <td>3</td>\n",
       "      <td>0</td>\n",
       "      <td>0</td>\n",
       "    </tr>\n",
       "  </tbody>\n",
       "</table>\n",
       "</div>"
      ],
      "text/plain": [
       "    age     fare  pclass  sex  survived\n",
       "0  22.0   7.2500       3    0         0\n",
       "1  38.0  71.2833       1    1         1\n",
       "2  26.0   7.9250       3    1         1\n",
       "3  35.0  53.1000       1    1         1\n",
       "4  35.0   8.0500       3    0         0"
      ]
     },
     "execution_count": 72,
     "metadata": {},
     "output_type": "execute_result"
    }
   ],
   "source": [
    "p3_df.head(5)"
   ]
  },
  {
   "cell_type": "markdown",
   "metadata": {},
   "source": [
    "#### Regularization vs. No-Regularization"
   ]
  },
  {
   "cell_type": "code",
   "execution_count": 5,
   "metadata": {},
   "outputs": [],
   "source": [
    "from sklearn.preprocessing import PolynomialFeatures\n",
    "from sklearn.preprocessing import StandardScaler\n",
    "from sklearn.pipeline import Pipeline\n",
    "from sklearn.linear_model import LogisticRegression\n",
    "from sklearn.linear_model import LogisticRegressionCV"
   ]
  },
  {
   "cell_type": "markdown",
   "metadata": {},
   "source": [
    "In Homework 5, we had you build a Logistic Regression model with polynomial degree 2."
   ]
  },
  {
   "cell_type": "code",
   "execution_count": 6,
   "metadata": {},
   "outputs": [],
   "source": [
    "p3c_model = Pipeline([('scale', StandardScaler()),\n",
    "                      ('poly', PolynomialFeatures(degree=2)),\n",
    "                      ('model',\n",
    "                       LogisticRegression(fit_intercept=False,\n",
    "                                          penalty='none',\n",
    "                                          solver='lbfgs'))])\n",
    "p3c_model.fit(p3_train[[\"fare\", \"age\", \"pclass\", \"sex\"]], p3_train[\"survived\"])\n",
    ";"
   ]
  },
  {
   "cell_type": "markdown",
   "metadata": {},
   "source": [
    "The coefficients are given below:"
   ]
  },
  {
   "cell_type": "code",
   "execution_count": 7,
   "metadata": {},
   "outputs": [
    {
     "data": {
      "text/plain": [
       "array([[-1.13102662, -1.49936142, -0.60810606, -1.63412315,  1.65926409,\n",
       "         0.16231128,  0.42236562, -0.1055555 , -0.25525431,  0.24084911,\n",
       "         0.37054654,  0.22395218,  0.70626524, -0.8443333 , -0.18805324]])"
      ]
     },
     "execution_count": 7,
     "metadata": {},
     "output_type": "execute_result"
    }
   ],
   "source": [
    "p3c_model.named_steps['model'].coef_"
   ]
  },
  {
   "cell_type": "markdown",
   "metadata": {},
   "source": [
    "We can regularize the model by simply removing `penalty = 'none'`."
   ]
  },
  {
   "cell_type": "code",
   "execution_count": 8,
   "metadata": {},
   "outputs": [],
   "source": [
    "p3c_model_regularized = Pipeline([('scale', StandardScaler()),\n",
    "                                  ('poly', PolynomialFeatures(degree=2)),\n",
    "                                  ('model',\n",
    "                                   LogisticRegression(fit_intercept=False,\n",
    "                                                      solver='lbfgs'))])\n",
    "p3c_model_regularized.fit(p3_train[[\"fare\", \"age\", \"pclass\", \"sex\"]],\n",
    "                          p3_train[\"survived\"])\n",
    ";"
   ]
  },
  {
   "cell_type": "markdown",
   "metadata": {},
   "source": [
    "Comparing our coefficients, we see that they are slightly smaller overall in the regularized version."
   ]
  },
  {
   "cell_type": "code",
   "execution_count": 9,
   "metadata": {},
   "outputs": [
    {
     "data": {
      "text/plain": [
       "array([[-1.13102662, -1.49936142, -0.60810606, -1.63412315,  1.65926409,\n",
       "         0.16231128,  0.42236562, -0.1055555 , -0.25525431,  0.24084911,\n",
       "         0.37054654,  0.22395218,  0.70626524, -0.8443333 , -0.18805324]])"
      ]
     },
     "execution_count": 9,
     "metadata": {},
     "output_type": "execute_result"
    }
   ],
   "source": [
    "p3c_model.named_steps['model'].coef_"
   ]
  },
  {
   "cell_type": "code",
   "execution_count": 10,
   "metadata": {},
   "outputs": [
    {
     "data": {
      "text/plain": [
       "array([[-0.93868941, -0.95516024, -0.54467238, -1.41258457,  1.49788079,\n",
       "         0.13732684,  0.38516578,  0.11286982, -0.21226869,  0.19729581,\n",
       "         0.32346106,  0.20084613,  0.5685718 , -0.73936734, -0.08743148]])"
      ]
     },
     "execution_count": 10,
     "metadata": {},
     "output_type": "execute_result"
    }
   ],
   "source": [
    "p3c_model_regularized.named_steps['model'].coef_"
   ]
  },
  {
   "cell_type": "markdown",
   "metadata": {},
   "source": [
    "Just as with `LinearRegression`, we can tune the strength of the regularization. Instead of `alpha`, the sklearn authors used the parameter `C`.\n",
    "\n",
    "Note that `alpha` was proportional to regularization strength. For some reason, the authors of sklearn decided to make `C` inversely proportional to regularization strength.\n",
    "\n",
    "1. \"Strong\" regularization (i.e. small coefficients): Large `alpha`, small `C`\n",
    "2. \"Weak\" regularization: Small `alpha`, large `C`\n",
    "\n",
    "For example, if we set `C` = 1e10, we'll see that the coefficients are the same as the unregularized version."
   ]
  },
  {
   "cell_type": "code",
   "execution_count": 11,
   "metadata": {},
   "outputs": [],
   "source": [
    "huge_c_model = Pipeline([('scale', StandardScaler()),\n",
    "                         ('poly', PolynomialFeatures(degree=2)),\n",
    "                         ('model',\n",
    "                          LogisticRegression(fit_intercept=False,\n",
    "                                             C=1e10,\n",
    "                                             solver='lbfgs'))])\n",
    "huge_c_model.fit(p3_train[[\"fare\", \"age\", \"pclass\", \"sex\"]],\n",
    "                 p3_train[\"survived\"])\n",
    ";"
   ]
  },
  {
   "cell_type": "code",
   "execution_count": 12,
   "metadata": {},
   "outputs": [
    {
     "data": {
      "text/plain": [
       "array([[-1.13102662, -1.49936142, -0.60810606, -1.63412315,  1.65926409,\n",
       "         0.16231128,  0.42236562, -0.1055555 , -0.25525431,  0.24084911,\n",
       "         0.37054654,  0.22395218,  0.70626524, -0.8443333 , -0.18805324]])"
      ]
     },
     "execution_count": 12,
     "metadata": {},
     "output_type": "execute_result"
    }
   ],
   "source": [
    "p3c_model.named_steps['model'].coef_"
   ]
  },
  {
   "cell_type": "code",
   "execution_count": 13,
   "metadata": {},
   "outputs": [
    {
     "data": {
      "text/plain": [
       "array([[-1.13102662, -1.49936142, -0.60810606, -1.63412315,  1.65926409,\n",
       "         0.16231128,  0.42236562, -0.1055555 , -0.25525431,  0.24084911,\n",
       "         0.37054654,  0.22395218,  0.70626524, -0.8443333 , -0.18805324]])"
      ]
     },
     "execution_count": 13,
     "metadata": {},
     "output_type": "execute_result"
    }
   ],
   "source": [
    "huge_c_model.named_steps['model'].coef_"
   ]
  },
  {
   "cell_type": "markdown",
   "metadata": {},
   "source": [
    "Whereas if we pick a tiny `C`, e.g. 1e-8, the model is strongly regularized and the coefficients are very small."
   ]
  },
  {
   "cell_type": "code",
   "execution_count": 14,
   "metadata": {},
   "outputs": [],
   "source": [
    "tiny_c_model = Pipeline([('scale', StandardScaler()),\n",
    "                         ('poly', PolynomialFeatures(degree=2)),\n",
    "                         ('model',\n",
    "                          LogisticRegression(fit_intercept=False,\n",
    "                                             C=1e-7,\n",
    "                                             solver='lbfgs'))])\n",
    "tiny_c_model.fit(p3_train[[\"fare\", \"age\", \"pclass\", \"sex\"]],\n",
    "                 p3_train[\"survived\"])\n",
    ";"
   ]
  },
  {
   "cell_type": "code",
   "execution_count": 15,
   "metadata": {},
   "outputs": [
    {
     "data": {
      "text/plain": [
       "array([[-5.60010955e-06,  7.51111139e-06, -2.65116592e-06,\n",
       "        -1.03234319e-05,  1.56655089e-05,  1.54931392e-05,\n",
       "         1.14096696e-06, -3.34372037e-06,  1.91122677e-06,\n",
       "        -5.34841905e-06,  2.87967040e-06,  1.77226488e-06,\n",
       "        -2.00775812e-06, -3.98826178e-06,  3.30272756e-06]])"
      ]
     },
     "execution_count": 15,
     "metadata": {},
     "output_type": "execute_result"
    }
   ],
   "source": [
    "tiny_c_model.named_steps['model'].coef_"
   ]
  },
  {
   "cell_type": "code",
   "execution_count": 16,
   "metadata": {},
   "outputs": [],
   "source": [
    "def compute_titanic_accuracy(model, data):\n",
    "    y_hat_class = model.predict(data[[\"fare\", \"age\", \"pclass\", \"sex\"]])\n",
    "    y_obs = data[\"survived\"]\n",
    "    return sum(y_hat_class == y_obs) / len(y_hat_class)"
   ]
  },
  {
   "cell_type": "code",
   "execution_count": 17,
   "metadata": {},
   "outputs": [
    {
     "data": {
      "text/plain": [
       "0.7716666666666666"
      ]
     },
     "execution_count": 17,
     "metadata": {},
     "output_type": "execute_result"
    }
   ],
   "source": [
    "compute_titanic_accuracy(tiny_c_model, p3_train)"
   ]
  },
  {
   "cell_type": "code",
   "execution_count": 18,
   "metadata": {},
   "outputs": [
    {
     "data": {
      "text/plain": [
       "0.8333333333333334"
      ]
     },
     "execution_count": 18,
     "metadata": {},
     "output_type": "execute_result"
    }
   ],
   "source": [
    "compute_titanic_accuracy(huge_c_model, p3_train)"
   ]
  },
  {
   "cell_type": "code",
   "execution_count": 19,
   "metadata": {},
   "outputs": [],
   "source": [
    "def get_train_and_validation_accuracy(C):\n",
    "    c_model = Pipeline([('scale', StandardScaler()),\n",
    "                        ('poly', PolynomialFeatures(degree=2)),\n",
    "                        ('model',\n",
    "                         LogisticRegression(fit_intercept=False,\n",
    "                                            C=C,\n",
    "                                            max_iter=10000,\n",
    "                                            solver='lbfgs'))])\n",
    "    c_model.fit(p3_train[[\"fare\", \"age\", \"pclass\", \"sex\"]],\n",
    "                p3_train[\"survived\"])\n",
    "\n",
    "    training_accuracy = compute_titanic_accuracy(c_model, p3_train)\n",
    "    val_accuracy = compute_titanic_accuracy(c_model, p3_validation)\n",
    "\n",
    "    return training_accuracy, val_accuracy"
   ]
  },
  {
   "cell_type": "code",
   "execution_count": 20,
   "metadata": {},
   "outputs": [
    {
     "data": {
      "text/plain": [
       "(0.7766666666666666, 0.8070175438596491)"
      ]
     },
     "execution_count": 20,
     "metadata": {},
     "output_type": "execute_result"
    }
   ],
   "source": [
    "get_train_and_validation_accuracy(1e-2)"
   ]
  },
  {
   "cell_type": "code",
   "execution_count": 21,
   "metadata": {},
   "outputs": [],
   "source": [
    "accuracies = [\n",
    "    get_train_and_validation_accuracy(C) for C in 10**np.linspace(-7, 5, 100)\n",
    "]"
   ]
  },
  {
   "cell_type": "code",
   "execution_count": 22,
   "metadata": {},
   "outputs": [
    {
     "data": {
      "text/plain": [
       "0.8508771929824561"
      ]
     },
     "execution_count": 22,
     "metadata": {},
     "output_type": "execute_result"
    }
   ],
   "source": [
    "max(np.array(accuracies)[:, 1])"
   ]
  },
  {
   "cell_type": "code",
   "execution_count": 23,
   "metadata": {},
   "outputs": [
    {
     "data": {
      "image/png": "[encoded data removed]",
      "text/plain": [
       "<Figure size 432x288 with 1 Axes>"
      ]
     },
     "metadata": {
      "needs_background": "light"
     },
     "output_type": "display_data"
    }
   ],
   "source": [
    "plt.semilogx(10**np.linspace(-7, 5, 100), accuracies)\n",
    "plt.legend(['train', 'validation'])\n",
    "plt.ylabel('accuracy')\n",
    "plt.xlabel('C')\n",
    "plt.savefig('training_and_validation_error_vs_C_with_intercept.png',\n",
    "            dpi=300,\n",
    "            bbox_inches='tight')"
   ]
  },
  {
   "cell_type": "markdown",
   "metadata": {},
   "source": [
    "#### Cross Validation for C Selection"
   ]
  },
  {
   "cell_type": "markdown",
   "metadata": {},
   "source": [
    "Using `LogisticRegressionCV` lets us automatically select the best C. "
   ]
  },
  {
   "cell_type": "code",
   "execution_count": 24,
   "metadata": {},
   "outputs": [
    {
     "data": {
      "text/plain": [
       "Pipeline(memory=None,\n",
       "         steps=[('scale',\n",
       "                 StandardScaler(copy=True, with_mean=True, with_std=True)),\n",
       "                ('poly',\n",
       "                 PolynomialFeatures(degree=2, include_bias=True,\n",
       "                                    interaction_only=False, order='C')),\n",
       "                ('model',\n",
       "                 LogisticRegressionCV(Cs=array([1.00000000e-07, 1.32194115e-07, 1.74752840e-07, 2.31012970e-07,\n",
       "       3.05385551e-07, 4.03701726e-07, 5.33669923e-07, 7.05480231e-07,\n",
       "       9.326033...\n",
       "       1.41747416e+04, 1.87381742e+04, 2.47707636e+04, 3.27454916e+04,\n",
       "       4.32876128e+04, 5.72236766e+04, 7.56463328e+04, 1.00000000e+05]),\n",
       "                                      class_weight=None, cv=3, dual=False,\n",
       "                                      fit_intercept=False,\n",
       "                                      intercept_scaling=1.0, l1_ratios=None,\n",
       "                                      max_iter=100, multi_class='warn',\n",
       "                                      n_jobs=None, penalty='l2',\n",
       "                                      random_state=None, refit=True,\n",
       "                                      scoring=None, solver='lbfgs', tol=0.0001,\n",
       "                                      verbose=0))],\n",
       "         verbose=False)"
      ]
     },
     "execution_count": 24,
     "metadata": {},
     "output_type": "execute_result"
    }
   ],
   "source": [
    "cv_model = Pipeline([\n",
    "    ('scale', StandardScaler()),\n",
    "    ('poly', PolynomialFeatures(degree=2)),\n",
    "    ('model',\n",
    "     LogisticRegressionCV(fit_intercept=False,\n",
    "                          Cs=10**np.linspace(-7, 5, 100),\n",
    "                          cv=3))  # 交叉验证数为3\n",
    "])\n",
    "cv_model.fit(p3_df[[\"fare\", \"age\", \"pclass\", \"sex\"]], p3_df[\"survived\"])"
   ]
  },
  {
   "cell_type": "code",
   "execution_count": 25,
   "metadata": {},
   "outputs": [
    {
     "data": {
      "text/plain": [
       "array([30.53855509])"
      ]
     },
     "execution_count": 25,
     "metadata": {},
     "output_type": "execute_result"
    }
   ],
   "source": [
    "cv_model.named_steps[\"model\"].C_"
   ]
  },
  {
   "cell_type": "markdown",
   "metadata": {},
   "source": [
    "In HW6, there is an optional exercise that shows an alternate better technique for picking optimal C."
   ]
  },
  {
   "cell_type": "markdown",
   "metadata": {},
   "source": [
    "#### Cross Entropy Loss"
   ]
  },
  {
   "cell_type": "code",
   "execution_count": 26,
   "metadata": {},
   "outputs": [],
   "source": [
    "delta_y = np.linspace(0, 1, 1000)"
   ]
  },
  {
   "cell_type": "code",
   "execution_count": 27,
   "metadata": {},
   "outputs": [
    {
     "data": {
      "image/png": "[encoded data removed]",
      "text/plain": [
       "<Figure size 432x288 with 1 Axes>"
      ]
     },
     "metadata": {
      "needs_background": "light"
     },
     "output_type": "display_data"
    }
   ],
   "source": [
    "mse = delta_y**2\n",
    "plt.plot(delta_y, mse)\n",
    "plt.xlabel('$|\\Delta y_i|$')\n",
    "plt.ylabel('Squared Error')\n",
    "plt.savefig('MSE_vs_delta_y.png', dpi=300, bbox_inches=\"tight\")"
   ]
  },
  {
   "cell_type": "code",
   "execution_count": 47,
   "metadata": {},
   "outputs": [
    {
     "name": "stderr",
     "output_type": "stream",
     "text": [
      "C:\\ProgramData\\Anaconda3\\lib\\site-packages\\ipykernel_launcher.py:1: RuntimeWarning:\n",
      "\n",
      "divide by zero encountered in log\n",
      "\n"
     ]
    },
    {
     "data": {
      "image/png": "[encoded data removed]",
      "text/plain": [
       "<Figure size 432x288 with 1 Axes>"
      ]
     },
     "metadata": {
      "needs_background": "light"
     },
     "output_type": "display_data"
    }
   ],
   "source": [
    "cross_entropy = -np.log(1 - delta_y)\n",
    "plt.plot(delta_y, cross_entropy)\n",
    "plt.xlabel('$|\\Delta y_i|$')\n",
    "plt.ylabel('Cross Entropy Loss')\n",
    "plt.savefig('CELoss_vs_delta_y.png', dpi=300, bbox_inches=\"tight\")"
   ]
  },
  {
   "cell_type": "code",
   "execution_count": 29,
   "metadata": {},
   "outputs": [
    {
     "name": "stderr",
     "output_type": "stream",
     "text": [
      "C:\\ProgramData\\Anaconda3\\lib\\site-packages\\ipykernel_launcher.py:1: RuntimeWarning: divide by zero encountered in log\n",
      "  \"\"\"Entry point for launching an IPython kernel.\n"
     ]
    },
    {
     "data": {
      "image/png": "[encoded data removed]",
      "text/plain": [
       "<Figure size 432x288 with 1 Axes>"
      ]
     },
     "metadata": {
      "needs_background": "light"
     },
     "output_type": "display_data"
    }
   ],
   "source": [
    "cross_entropy1 = np.log(delta_y)\n",
    "plt.plot(delta_y, cross_entropy1)\n",
    "plt.ylim(-8, 1)\n",
    "plt.xlabel('$|\\Delta y_i|$')\n",
    "plt.ylabel('Cross Entropy Loss')\n",
    "# plt.savefig('CELoss_vs_delta_y.png', dpi = 300, bbox_inches = \"tight\")"
   ]
  },
  {
   "cell_type": "code",
   "execution_count": 30,
   "metadata": {},
   "outputs": [],
   "source": [
    "from lec5_utils import loss_plot_3d\n",
    "from lec5_utils import loss_contour_plot"
   ]
  },
  {
   "cell_type": "code",
   "execution_count": 31,
   "metadata": {},
   "outputs": [],
   "source": [
    "def sigma(x):\n",
    "    return 1 / (1 + np.exp(-x))"
   ]
  },
  {
   "cell_type": "code",
   "execution_count": 32,
   "metadata": {},
   "outputs": [],
   "source": [
    "from sklearn.metrics import log_loss"
   ]
  },
  {
   "cell_type": "code",
   "execution_count": 33,
   "metadata": {},
   "outputs": [
    {
     "data": {
      "text/plain": [
       "0.6121919007930319"
      ]
     },
     "execution_count": 33,
     "metadata": {},
     "output_type": "execute_result"
    }
   ],
   "source": [
    "log_loss([\"win\", \"lose\", \"win\", \"lose\"], [0.9, 0.8, 0.6, 0.2])"
   ]
  },
  {
   "cell_type": "code",
   "execution_count": 34,
   "metadata": {},
   "outputs": [
    {
     "data": {
      "text/plain": [
       "0.6121919007930319"
      ]
     },
     "execution_count": 34,
     "metadata": {},
     "output_type": "execute_result"
    }
   ],
   "source": [
    "log_loss([1, 0, 1, 0], [0.9, 0.8, 0.6, 0.2])"
   ]
  },
  {
   "cell_type": "code",
   "execution_count": 35,
   "metadata": {},
   "outputs": [],
   "source": [
    "def mean_ce_loss(theta0, theta1, x, y_obs):\n",
    "    y_hat = sigma(theta0 + theta1 * x)\n",
    "    return log_loss(y_obs, y_hat)"
   ]
  },
  {
   "cell_type": "code",
   "execution_count": 36,
   "metadata": {},
   "outputs": [],
   "source": [
    "nba = pd.read_csv(r\"data_set\\nba.csv\")\n",
    "nba[\"WON\"] = nba[\"WL\"]\n",
    "nba[\"WON\"] = nba[\"WON\"].replace(\"W\", 1)\n",
    "nba[\"WON\"] = nba[\"WON\"].replace(\"L\", 0)"
   ]
  },
  {
   "cell_type": "code",
   "execution_count": 37,
   "metadata": {},
   "outputs": [
    {
     "data": {
      "text/plain": [
       "0.5725397505600823"
      ]
     },
     "execution_count": 37,
     "metadata": {},
     "output_type": "execute_result"
    }
   ],
   "source": [
    "mean_ce_loss(theta0=-11, theta1=0.1, x=nba[\"PTS\"], y_obs=nba[\"WON\"])"
   ]
  },
  {
   "cell_type": "code",
   "execution_count": null,
   "metadata": {},
   "outputs": [],
   "source": [
    "theta0s = np.linspace(-11, 0, 10)\n",
    "theta1s = np.linspace(0, 0.3, 10)\n",
    "loss_plot_3d(theta0s, theta1s, mean_ce_loss, nba[\"PTS\"], nba[\"WON\"])"
   ]
  },
  {
   "cell_type": "code",
   "execution_count": null,
   "metadata": {},
   "outputs": [],
   "source": [
    "theta0s = np.linspace(-11, 0, 20)\n",
    "theta1s = np.linspace(0, 0.3, 20)\n",
    "loss_contour_plot(theta0s,\n",
    "                  theta1s,\n",
    "                  mean_ce_loss,\n",
    "                  nba[\"PTS\"],\n",
    "                  nba[\"WON\"],\n",
    "                  flip_axes=True)"
   ]
  },
  {
   "cell_type": "code",
   "execution_count": 52,
   "metadata": {},
   "outputs": [],
   "source": [
    "def get_train_and_validation_ce_loss(C, degree):\n",
    "    c_model = Pipeline([('scale', StandardScaler()),\n",
    "                        ('poly', PolynomialFeatures(degree=degree)),\n",
    "                        ('model',\n",
    "                         LogisticRegression(fit_intercept=False,\n",
    "                                            C=C,\n",
    "                                            max_iter=10000,\n",
    "                                            solver='lbfgs'))])\n",
    "    c_model.fit(p3_train[[\"fare\", \"age\", \"pclass\", \"sex\"]],\n",
    "                p3_train[\"survived\"])\n",
    "\n",
    "    training_predictions = c_model.predict_proba(\n",
    "        p3_train[[\"fare\", \"age\", \"pclass\", \"sex\"]])\n",
    "    train_ce = log_loss(p3_train[\"survived\"], training_predictions)\n",
    "\n",
    "    validation_predictions = c_model.predict_proba(\n",
    "        p3_validation[[\"fare\", \"age\", \"pclass\", \"sex\"]])\n",
    "    validation_ce = log_loss(p3_validation[\"survived\"], validation_predictions)\n",
    "\n",
    "    return train_ce, validation_ce"
   ]
  },
  {
   "cell_type": "code",
   "execution_count": 53,
   "metadata": {},
   "outputs": [
    {
     "data": {
      "image/png": "[encoded data removed]",
      "text/plain": [
       "<Figure size 432x288 with 1 Axes>"
      ]
     },
     "metadata": {
      "needs_background": "light"
     },
     "output_type": "display_data"
    }
   ],
   "source": [
    "ce_losses = [\n",
    "    get_train_and_validation_ce_loss(C, 2) for C in 10**np.linspace(-7, 5, 100)\n",
    "]\n",
    "plt.semilogx(10**np.linspace(-7, 5, 100), ce_losses)\n",
    "plt.legend(['train', 'validation'])\n",
    "plt.ylabel('Mean Cross Entropy Loss')\n",
    "plt.xlabel('C')\n",
    "plt.savefig(\"cross-entropy-loss-vs-c-degree-2.png\",\n",
    "            dpi=300,\n",
    "            bbox_inches=\"tight\")"
   ]
  },
  {
   "cell_type": "code",
   "execution_count": 55,
   "metadata": {},
   "outputs": [
    {
     "data": {
      "image/png": "[encoded data removed]",
      "text/plain": [
       "<Figure size 432x288 with 1 Axes>"
      ]
     },
     "metadata": {
      "needs_background": "light"
     },
     "output_type": "display_data"
    }
   ],
   "source": [
    "ce_losses = [\n",
    "    get_train_and_validation_ce_loss(C, 3) for C in 10**np.linspace(-7, 5, 100)\n",
    "]\n",
    "plt.semilogx(10**np.linspace(-7, 5, 100), ce_losses)\n",
    "plt.legend(['train', 'validation'])\n",
    "plt.ylabel('Mean Cross Entropy Loss')\n",
    "plt.xlabel('C')\n",
    "plt.savefig(\"cross-entropy-loss-vs-c-degree-3.png\",\n",
    "            dpi=300,\n",
    "            bbox_inches=\"tight\")"
   ]
  },
  {
   "cell_type": "code",
   "execution_count": 54,
   "metadata": {},
   "outputs": [
    {
     "data": {
      "image/png": "[encoded data removed]",
      "text/plain": [
       "<Figure size 432x288 with 1 Axes>"
      ]
     },
     "metadata": {
      "needs_background": "light"
     },
     "output_type": "display_data"
    }
   ],
   "source": [
    "ce_losses = [\n",
    "    get_train_and_validation_ce_loss(C, 4) for C in 10**np.linspace(-7, 5, 100)\n",
    "]\n",
    "plt.semilogx(10**np.linspace(-7, 5, 100), ce_losses)\n",
    "plt.legend(['train', 'validation'])\n",
    "plt.ylabel('Mean Cross Entropy Loss')\n",
    "plt.xlabel('C')\n",
    "plt.savefig(\"cross-entropy-loss-vs-c-degree-4.png\",\n",
    "            dpi=300,\n",
    "            bbox_inches=\"tight\")"
   ]
  },
  {
   "cell_type": "markdown",
   "metadata": {},
   "source": [
    "#### Intercept Regularization"
   ]
  },
  {
   "cell_type": "markdown",
   "metadata": {},
   "source": [
    "Throughout the code above, we've ben setting `fit_intercept = False`. The reason for this is that we are using the `PolynomialFeatures` module, which automatically creates a feature that is always equal to 1."
   ]
  },
  {
   "cell_type": "markdown",
   "metadata": {},
   "source": [
    "For example, if we pick degree = 2 and use the features \"fare\", \"age\", \"pclass\", and \"sex\", we'll get the following features:"
   ]
  },
  {
   "cell_type": "code",
   "execution_count": 57,
   "metadata": {},
   "outputs": [
    {
     "data": {
      "text/plain": [
       "['1',\n",
       " 'fare',\n",
       " 'age',\n",
       " 'pclass',\n",
       " 'sex',\n",
       " 'fare^2',\n",
       " 'fare age',\n",
       " 'fare pclass',\n",
       " 'fare sex',\n",
       " 'age^2',\n",
       " 'age pclass',\n",
       " 'age sex',\n",
       " 'pclass^2',\n",
       " 'pclass sex',\n",
       " 'sex^2']"
      ]
     },
     "execution_count": 57,
     "metadata": {},
     "output_type": "execute_result"
    }
   ],
   "source": [
    "pf = PolynomialFeatures(degree=2)\n",
    "pf.fit(p3_train[[\"fare\", \"age\", \"pclass\", \"sex\"]])\n",
    "feature_names = pf.get_feature_names([\"fare\", \"age\", \"pclass\", \"sex\"])\n",
    "feature_names"
   ]
  },
  {
   "cell_type": "code",
   "execution_count": 58,
   "metadata": {},
   "outputs": [
    {
     "data": {
      "text/html": [
       "<div>\n",
       "<style scoped>\n",
       "    .dataframe tbody tr th:only-of-type {\n",
       "        vertical-align: middle;\n",
       "    }\n",
       "\n",
       "    .dataframe tbody tr th {\n",
       "        vertical-align: top;\n",
       "    }\n",
       "\n",
       "    .dataframe thead th {\n",
       "        text-align: right;\n",
       "    }\n",
       "</style>\n",
       "<table border=\"1\" class=\"dataframe\">\n",
       "  <thead>\n",
       "    <tr style=\"text-align: right;\">\n",
       "      <th></th>\n",
       "      <th>1</th>\n",
       "      <th>fare</th>\n",
       "      <th>age</th>\n",
       "      <th>pclass</th>\n",
       "      <th>sex</th>\n",
       "      <th>fare^2</th>\n",
       "      <th>fare age</th>\n",
       "      <th>fare pclass</th>\n",
       "      <th>fare sex</th>\n",
       "      <th>age^2</th>\n",
       "      <th>age pclass</th>\n",
       "      <th>age sex</th>\n",
       "      <th>pclass^2</th>\n",
       "      <th>pclass sex</th>\n",
       "      <th>sex^2</th>\n",
       "    </tr>\n",
       "  </thead>\n",
       "  <tbody>\n",
       "    <tr>\n",
       "      <td>0</td>\n",
       "      <td>1.0</td>\n",
       "      <td>7.2500</td>\n",
       "      <td>22.0</td>\n",
       "      <td>3.0</td>\n",
       "      <td>0.0</td>\n",
       "      <td>52.562500</td>\n",
       "      <td>159.5000</td>\n",
       "      <td>21.7500</td>\n",
       "      <td>0.0000</td>\n",
       "      <td>484.0</td>\n",
       "      <td>66.0</td>\n",
       "      <td>0.0</td>\n",
       "      <td>9.0</td>\n",
       "      <td>0.0</td>\n",
       "      <td>0.0</td>\n",
       "    </tr>\n",
       "    <tr>\n",
       "      <td>1</td>\n",
       "      <td>1.0</td>\n",
       "      <td>71.2833</td>\n",
       "      <td>38.0</td>\n",
       "      <td>1.0</td>\n",
       "      <td>1.0</td>\n",
       "      <td>5081.308859</td>\n",
       "      <td>2708.7654</td>\n",
       "      <td>71.2833</td>\n",
       "      <td>71.2833</td>\n",
       "      <td>1444.0</td>\n",
       "      <td>38.0</td>\n",
       "      <td>38.0</td>\n",
       "      <td>1.0</td>\n",
       "      <td>1.0</td>\n",
       "      <td>1.0</td>\n",
       "    </tr>\n",
       "    <tr>\n",
       "      <td>2</td>\n",
       "      <td>1.0</td>\n",
       "      <td>7.9250</td>\n",
       "      <td>26.0</td>\n",
       "      <td>3.0</td>\n",
       "      <td>1.0</td>\n",
       "      <td>62.805625</td>\n",
       "      <td>206.0500</td>\n",
       "      <td>23.7750</td>\n",
       "      <td>7.9250</td>\n",
       "      <td>676.0</td>\n",
       "      <td>78.0</td>\n",
       "      <td>26.0</td>\n",
       "      <td>9.0</td>\n",
       "      <td>3.0</td>\n",
       "      <td>1.0</td>\n",
       "    </tr>\n",
       "    <tr>\n",
       "      <td>3</td>\n",
       "      <td>1.0</td>\n",
       "      <td>53.1000</td>\n",
       "      <td>35.0</td>\n",
       "      <td>1.0</td>\n",
       "      <td>1.0</td>\n",
       "      <td>2819.610000</td>\n",
       "      <td>1858.5000</td>\n",
       "      <td>53.1000</td>\n",
       "      <td>53.1000</td>\n",
       "      <td>1225.0</td>\n",
       "      <td>35.0</td>\n",
       "      <td>35.0</td>\n",
       "      <td>1.0</td>\n",
       "      <td>1.0</td>\n",
       "      <td>1.0</td>\n",
       "    </tr>\n",
       "    <tr>\n",
       "      <td>4</td>\n",
       "      <td>1.0</td>\n",
       "      <td>8.0500</td>\n",
       "      <td>35.0</td>\n",
       "      <td>3.0</td>\n",
       "      <td>0.0</td>\n",
       "      <td>64.802500</td>\n",
       "      <td>281.7500</td>\n",
       "      <td>24.1500</td>\n",
       "      <td>0.0000</td>\n",
       "      <td>1225.0</td>\n",
       "      <td>105.0</td>\n",
       "      <td>0.0</td>\n",
       "      <td>9.0</td>\n",
       "      <td>0.0</td>\n",
       "      <td>0.0</td>\n",
       "    </tr>\n",
       "    <tr>\n",
       "      <td>...</td>\n",
       "      <td>...</td>\n",
       "      <td>...</td>\n",
       "      <td>...</td>\n",
       "      <td>...</td>\n",
       "      <td>...</td>\n",
       "      <td>...</td>\n",
       "      <td>...</td>\n",
       "      <td>...</td>\n",
       "      <td>...</td>\n",
       "      <td>...</td>\n",
       "      <td>...</td>\n",
       "      <td>...</td>\n",
       "      <td>...</td>\n",
       "      <td>...</td>\n",
       "      <td>...</td>\n",
       "    </tr>\n",
       "    <tr>\n",
       "      <td>595</td>\n",
       "      <td>1.0</td>\n",
       "      <td>53.1000</td>\n",
       "      <td>19.0</td>\n",
       "      <td>1.0</td>\n",
       "      <td>0.0</td>\n",
       "      <td>2819.610000</td>\n",
       "      <td>1008.9000</td>\n",
       "      <td>53.1000</td>\n",
       "      <td>0.0000</td>\n",
       "      <td>361.0</td>\n",
       "      <td>19.0</td>\n",
       "      <td>0.0</td>\n",
       "      <td>1.0</td>\n",
       "      <td>0.0</td>\n",
       "      <td>0.0</td>\n",
       "    </tr>\n",
       "    <tr>\n",
       "      <td>596</td>\n",
       "      <td>1.0</td>\n",
       "      <td>7.7500</td>\n",
       "      <td>31.0</td>\n",
       "      <td>3.0</td>\n",
       "      <td>0.0</td>\n",
       "      <td>60.062500</td>\n",
       "      <td>240.2500</td>\n",
       "      <td>23.2500</td>\n",
       "      <td>0.0000</td>\n",
       "      <td>961.0</td>\n",
       "      <td>93.0</td>\n",
       "      <td>0.0</td>\n",
       "      <td>9.0</td>\n",
       "      <td>0.0</td>\n",
       "      <td>0.0</td>\n",
       "    </tr>\n",
       "    <tr>\n",
       "      <td>597</td>\n",
       "      <td>1.0</td>\n",
       "      <td>23.0000</td>\n",
       "      <td>4.0</td>\n",
       "      <td>2.0</td>\n",
       "      <td>1.0</td>\n",
       "      <td>529.000000</td>\n",
       "      <td>92.0000</td>\n",
       "      <td>46.0000</td>\n",
       "      <td>23.0000</td>\n",
       "      <td>16.0</td>\n",
       "      <td>8.0</td>\n",
       "      <td>4.0</td>\n",
       "      <td>4.0</td>\n",
       "      <td>2.0</td>\n",
       "      <td>1.0</td>\n",
       "    </tr>\n",
       "    <tr>\n",
       "      <td>598</td>\n",
       "      <td>1.0</td>\n",
       "      <td>12.4750</td>\n",
       "      <td>6.0</td>\n",
       "      <td>3.0</td>\n",
       "      <td>0.0</td>\n",
       "      <td>155.625625</td>\n",
       "      <td>74.8500</td>\n",
       "      <td>37.4250</td>\n",
       "      <td>0.0000</td>\n",
       "      <td>36.0</td>\n",
       "      <td>18.0</td>\n",
       "      <td>0.0</td>\n",
       "      <td>9.0</td>\n",
       "      <td>0.0</td>\n",
       "      <td>0.0</td>\n",
       "    </tr>\n",
       "    <tr>\n",
       "      <td>599</td>\n",
       "      <td>1.0</td>\n",
       "      <td>9.5000</td>\n",
       "      <td>33.0</td>\n",
       "      <td>3.0</td>\n",
       "      <td>0.0</td>\n",
       "      <td>90.250000</td>\n",
       "      <td>313.5000</td>\n",
       "      <td>28.5000</td>\n",
       "      <td>0.0000</td>\n",
       "      <td>1089.0</td>\n",
       "      <td>99.0</td>\n",
       "      <td>0.0</td>\n",
       "      <td>9.0</td>\n",
       "      <td>0.0</td>\n",
       "      <td>0.0</td>\n",
       "    </tr>\n",
       "  </tbody>\n",
       "</table>\n",
       "<p>600 rows × 15 columns</p>\n",
       "</div>"
      ],
      "text/plain": [
       "       1     fare   age  pclass  sex       fare^2   fare age  fare pclass  \\\n",
       "0    1.0   7.2500  22.0     3.0  0.0    52.562500   159.5000      21.7500   \n",
       "1    1.0  71.2833  38.0     1.0  1.0  5081.308859  2708.7654      71.2833   \n",
       "2    1.0   7.9250  26.0     3.0  1.0    62.805625   206.0500      23.7750   \n",
       "3    1.0  53.1000  35.0     1.0  1.0  2819.610000  1858.5000      53.1000   \n",
       "4    1.0   8.0500  35.0     3.0  0.0    64.802500   281.7500      24.1500   \n",
       "..   ...      ...   ...     ...  ...          ...        ...          ...   \n",
       "595  1.0  53.1000  19.0     1.0  0.0  2819.610000  1008.9000      53.1000   \n",
       "596  1.0   7.7500  31.0     3.0  0.0    60.062500   240.2500      23.2500   \n",
       "597  1.0  23.0000   4.0     2.0  1.0   529.000000    92.0000      46.0000   \n",
       "598  1.0  12.4750   6.0     3.0  0.0   155.625625    74.8500      37.4250   \n",
       "599  1.0   9.5000  33.0     3.0  0.0    90.250000   313.5000      28.5000   \n",
       "\n",
       "     fare sex   age^2  age pclass  age sex  pclass^2  pclass sex  sex^2  \n",
       "0      0.0000   484.0        66.0      0.0       9.0         0.0    0.0  \n",
       "1     71.2833  1444.0        38.0     38.0       1.0         1.0    1.0  \n",
       "2      7.9250   676.0        78.0     26.0       9.0         3.0    1.0  \n",
       "3     53.1000  1225.0        35.0     35.0       1.0         1.0    1.0  \n",
       "4      0.0000  1225.0       105.0      0.0       9.0         0.0    0.0  \n",
       "..        ...     ...         ...      ...       ...         ...    ...  \n",
       "595    0.0000   361.0        19.0      0.0       1.0         0.0    0.0  \n",
       "596    0.0000   961.0        93.0      0.0       9.0         0.0    0.0  \n",
       "597   23.0000    16.0         8.0      4.0       4.0         2.0    1.0  \n",
       "598    0.0000    36.0        18.0      0.0       9.0         0.0    0.0  \n",
       "599    0.0000  1089.0        99.0      0.0       9.0         0.0    0.0  \n",
       "\n",
       "[600 rows x 15 columns]"
      ]
     },
     "execution_count": 58,
     "metadata": {},
     "output_type": "execute_result"
    }
   ],
   "source": [
    "pd.DataFrame(pf.transform(p3_train[[\"fare\", \"age\", \"pclass\", \"sex\"]]),\n",
    "             columns=feature_names)"
   ]
  },
  {
   "cell_type": "markdown",
   "metadata": {},
   "source": [
    "If we set `fit_intercept = False`, then our first coefficient is our intercept."
   ]
  },
  {
   "cell_type": "code",
   "execution_count": 60,
   "metadata": {},
   "outputs": [],
   "source": [
    "unregularized_model_intercept_false = Pipeline([\n",
    "    ('scale', StandardScaler()), ('poly', PolynomialFeatures(degree=1)),\n",
    "    ('model',\n",
    "     LogisticRegression(fit_intercept=False, penalty='none', solver='lbfgs'))\n",
    "])\n",
    "unregularized_model_intercept_false.fit(\n",
    "    p3_train[[\"fare\", \"age\", \"pclass\", \"sex\"]], p3_train[\"survived\"])\n",
    ";"
   ]
  },
  {
   "cell_type": "code",
   "execution_count": 61,
   "metadata": {},
   "outputs": [
    {
     "data": {
      "text/plain": [
       "array([[-0.5120583 , -0.00927245, -0.47776382, -1.06434141,  1.19627839]])"
      ]
     },
     "execution_count": 61,
     "metadata": {},
     "output_type": "execute_result"
    }
   ],
   "source": [
    "unregularized_model_intercept_false.named_steps['model'].coef_"
   ]
  },
  {
   "cell_type": "code",
   "execution_count": 62,
   "metadata": {},
   "outputs": [
    {
     "data": {
      "text/plain": [
       "array([0.])"
      ]
     },
     "execution_count": 62,
     "metadata": {},
     "output_type": "execute_result"
    }
   ],
   "source": [
    "unregularized_model_intercept_false.named_steps['model'].intercept_"
   ]
  },
  {
   "cell_type": "markdown",
   "metadata": {},
   "source": [
    "The model also has a variable called `intercept_`, but it's equal to zero. This is because we set `fit_intercept = False`. Note that even though the `intercept_` is zero, we actually do have an intercept of 0.51 because of the bias feature we created that is always equal to 1."
   ]
  },
  {
   "cell_type": "markdown",
   "metadata": {},
   "source": [
    "Thus, our model makes a prediction equal to $\\sigma(0 - 0.51 \\times 1 - 0.009 \\times \\text{fare} - 0.478 \\times \\text{age} - 1.06 \\times \\text{pclass} + 1.196 \\times \\text{sex}$."
   ]
  },
  {
   "cell_type": "markdown",
   "metadata": {},
   "source": [
    "Let's see what happens when we set `fit_intercept = True`."
   ]
  },
  {
   "cell_type": "code",
   "execution_count": 65,
   "metadata": {},
   "outputs": [],
   "source": [
    "unregularized_model_intercept_true = Pipeline([\n",
    "    ('scale', StandardScaler()), ('poly', PolynomialFeatures(degree=1)),\n",
    "    ('model',\n",
    "     LogisticRegression(fit_intercept=True, penalty='none', solver='lbfgs'))\n",
    "])\n",
    "unregularized_model_intercept_true.fit(\n",
    "    p3_train[[\"fare\", \"age\", \"pclass\", \"sex\"]], p3_train[\"survived\"])\n",
    ";"
   ]
  },
  {
   "cell_type": "code",
   "execution_count": 66,
   "metadata": {},
   "outputs": [
    {
     "data": {
      "text/plain": [
       "array([[-0.25602854, -0.00927195, -0.47776545, -1.06434099,  1.19627759]])"
      ]
     },
     "execution_count": 66,
     "metadata": {},
     "output_type": "execute_result"
    }
   ],
   "source": [
    "unregularized_model_intercept_true.named_steps[\"model\"].coef_"
   ]
  },
  {
   "cell_type": "markdown",
   "metadata": {},
   "source": [
    "This time, we see that our model is exactly the same, except that the weight of our bias feature is only -0.256. However, if we look at our `intercept_`, we see that it is also -0.256. Effectively, we have two redundant intercepts which, when added, are equal to 0.51."
   ]
  },
  {
   "cell_type": "code",
   "execution_count": 67,
   "metadata": {},
   "outputs": [
    {
     "data": {
      "text/plain": [
       "array([-0.25602854])"
      ]
     },
     "execution_count": 67,
     "metadata": {},
     "output_type": "execute_result"
    }
   ],
   "source": [
    "unregularized_model_intercept_true.named_steps[\"model\"].intercept_"
   ]
  },
  {
   "cell_type": "markdown",
   "metadata": {},
   "source": [
    "In other words:\n",
    "\n",
    "`unregularized_model_intercept_false` was equal to $\\sigma(0 - 0.51 \\times 1 - 0.009 \\times \\text{fare} - 0.478 \\times \\text{age} - 1.06 \\times \\text{pclass} + 1.196 \\times \\text{sex}$\n",
    "\n",
    "and `unreularized_model_intercept_true` was equal to $\\sigma(0.256 - 0.256 \\times 1 - 0.009 \\times \\text{fare} - 0.478 \\times \\text{age} - 1.06 \\times \\text{pclass} + 1.196 \\times \\text{sex}$"
   ]
  },
  {
   "cell_type": "markdown",
   "metadata": {},
   "source": [
    "There is no difference between these models. However, things get more complicated when we have a regularized model. To understand why, let's see what happens when we remove `penalty = 'none'`, and let's pick a very small `C`."
   ]
  },
  {
   "cell_type": "code",
   "execution_count": 69,
   "metadata": {},
   "outputs": [],
   "source": [
    "tiny_c_model_intercept_true = Pipeline([('scale', StandardScaler()),\n",
    "                                        ('poly', PolynomialFeatures(degree=1)),\n",
    "                                        ('model',\n",
    "                                         LogisticRegression(fit_intercept=True,\n",
    "                                                            C=1e-7,\n",
    "                                                            solver='lbfgs'))])\n",
    "tiny_c_model_intercept_true.fit(p3_train[[\"fare\", \"age\", \"pclass\", \"sex\"]],\n",
    "                                p3_train[\"survived\"])\n",
    ";"
   ]
  },
  {
   "cell_type": "markdown",
   "metadata": {},
   "source": [
    "As you'd expect, the thetas generated by our model are very small, because `C` is very small."
   ]
  },
  {
   "cell_type": "code",
   "execution_count": 70,
   "metadata": {},
   "outputs": [
    {
     "data": {
      "text/plain": [
       "array([[ 1.49126446e-13,  7.51210438e-06, -2.65108958e-06,\n",
       "        -1.03239147e-05,  1.56655731e-05]])"
      ]
     },
     "execution_count": 70,
     "metadata": {},
     "output_type": "execute_result"
    }
   ],
   "source": [
    "tiny_c_model_intercept_true.named_steps[\"model\"].coef_"
   ]
  },
  {
   "cell_type": "markdown",
   "metadata": {},
   "source": [
    "However, the `intercept_` is NOT regularized. As you can see below, the `intercept_` is -0.377, which is enormous compared to our other coefficients."
   ]
  },
  {
   "cell_type": "code",
   "execution_count": 71,
   "metadata": {},
   "outputs": [
    {
     "data": {
      "text/plain": [
       "array([-0.37776248])"
      ]
     },
     "execution_count": 71,
     "metadata": {},
     "output_type": "execute_result"
    }
   ],
   "source": [
    "tiny_c_model_intercept_true.named_steps[\"model\"].intercept_"
   ]
  },
  {
   "cell_type": "code",
   "execution_count": 83,
   "metadata": {},
   "outputs": [
    {
     "name": "stderr",
     "output_type": "stream",
     "text": [
      "C:\\ProgramData\\Anaconda3\\lib\\site-packages\\sklearn\\linear_model\\logistic.py:1510: UserWarning:\n",
      "\n",
      "Setting penalty='none' will ignore the C and l1_ratio parameters\n",
      "\n"
     ]
    }
   ],
   "source": [
    "tiny_c_model_intercept_true_reg = Pipeline([\n",
    "    ('scale', StandardScaler()), ('poly', PolynomialFeatures(degree=1)),\n",
    "    ('model',\n",
    "     LogisticRegression(fit_intercept=True,\n",
    "                        penalty='none',\n",
    "                        C=1e-7,\n",
    "                        solver='lbfgs'))\n",
    "])\n",
    "tiny_c_model_intercept_true_reg.fit(p3_train[[\"fare\", \"age\", \"pclass\", \"sex\"]],\n",
    "                                    p3_train[\"survived\"])\n",
    ";"
   ]
  },
  {
   "cell_type": "code",
   "execution_count": 84,
   "metadata": {},
   "outputs": [
    {
     "data": {
      "text/plain": [
       "array([[-0.25602854, -0.00927195, -0.47776545, -1.06434099,  1.19627759]])"
      ]
     },
     "execution_count": 84,
     "metadata": {},
     "output_type": "execute_result"
    }
   ],
   "source": [
    "tiny_c_model_intercept_true_reg.named_steps[\"model\"].coef_"
   ]
  },
  {
   "cell_type": "code",
   "execution_count": 85,
   "metadata": {},
   "outputs": [
    {
     "data": {
      "text/plain": [
       "array([-0.25602854])"
      ]
     },
     "execution_count": 85,
     "metadata": {},
     "output_type": "execute_result"
    }
   ],
   "source": [
    "tiny_c_model_intercept_true_reg.named_steps[\"model\"].intercept_"
   ]
  },
  {
   "cell_type": "markdown",
   "metadata": {},
   "source": [
    "In effect, we have two intercepts, one of which is subject to regularization (and is almost equal to 0), and one of which is not."
   ]
  },
  {
   "cell_type": "markdown",
   "metadata": {},
   "source": [
    "Common convention in machine learning is to include an unregularized intercept. This gives your model additional freedom to select an intercept which minimizes the cross entropy loss.\n",
    "\n",
    "**Bottom line:** I recommend always setting `fit_intercept = True` when using a regularized model."
   ]
  },
  {
   "cell_type": "markdown",
   "metadata": {},
   "source": [
    "We can compare the performance of a model with regularized and unregularized intercept using the `log_loss`."
   ]
  },
  {
   "cell_type": "code",
   "execution_count": 76,
   "metadata": {},
   "outputs": [],
   "source": [
    "tiny_c_model_intercept_false = Pipeline([\n",
    "    ('scale', StandardScaler()), ('poly', PolynomialFeatures(degree=1)),\n",
    "    ('model', LogisticRegression(fit_intercept=False, C=1e-7, solver='lbfgs'))\n",
    "])\n",
    "tiny_c_model_intercept_false.fit(p3_train[[\"fare\", \"age\", \"pclass\", \"sex\"]],\n",
    "                                 p3_train[\"survived\"])\n",
    ";"
   ]
  },
  {
   "cell_type": "code",
   "execution_count": 79,
   "metadata": {},
   "outputs": [
    {
     "data": {
      "text/plain": [
       "array([0.])"
      ]
     },
     "execution_count": 79,
     "metadata": {},
     "output_type": "execute_result"
    }
   ],
   "source": [
    "tiny_c_model_intercept_false.named_steps[\"model\"].intercept_"
   ]
  },
  {
   "cell_type": "code",
   "execution_count": 80,
   "metadata": {},
   "outputs": [
    {
     "data": {
      "text/plain": [
       "array([[-5.59991600e-06,  7.51223534e-06, -2.65118506e-06,\n",
       "        -1.03236932e-05,  1.56656209e-05]])"
      ]
     },
     "execution_count": 80,
     "metadata": {},
     "output_type": "execute_result"
    }
   ],
   "source": [
    "tiny_c_model_intercept_false.named_steps[\"model\"].coef_"
   ]
  },
  {
   "cell_type": "markdown",
   "metadata": {},
   "source": [
    "We see that cross entropy loss is slightly better when we include an unregularized intercept. We will explore this more fully on hw6."
   ]
  },
  {
   "cell_type": "code",
   "execution_count": 81,
   "metadata": {},
   "outputs": [
    {
     "data": {
      "text/plain": [
       "0.6756154189994156"
      ]
     },
     "execution_count": 81,
     "metadata": {},
     "output_type": "execute_result"
    }
   ],
   "source": [
    "log_loss(\n",
    "    p3_train[\"survived\"],\n",
    "    tiny_c_model_intercept_true.predict_proba(\n",
    "        p3_train[[\"fare\", \"age\", \"pclass\", \"sex\"]]))"
   ]
  },
  {
   "cell_type": "code",
   "execution_count": 82,
   "metadata": {},
   "outputs": [
    {
     "data": {
      "text/plain": [
       "0.693139733620562"
      ]
     },
     "execution_count": 82,
     "metadata": {},
     "output_type": "execute_result"
    }
   ],
   "source": [
    "log_loss(\n",
    "    p3_train[\"survived\"],\n",
    "    tiny_c_model_intercept_false.predict_proba(\n",
    "        p3_train[[\"fare\", \"age\", \"pclass\", \"sex\"]]))"
   ]
  },
  {
   "cell_type": "code",
   "execution_count": null,
   "metadata": {},
   "outputs": [],
   "source": []
  }
 ],
 "metadata": {
  "kernelspec": {
   "display_name": "Python 3",
   "language": "python",
   "name": "python3"
  },
  "language_info": {
   "codemirror_mode": {
    "name": "ipython",
    "version": 3
   },
   "file_extension": ".py",
   "mimetype": "text/x-python",
   "name": "python",
   "nbconvert_exporter": "python",
   "pygments_lexer": "ipython3",
   "version": "3.7.4"
  }
 },
 "nbformat": 4,
 "nbformat_minor": 4
}
