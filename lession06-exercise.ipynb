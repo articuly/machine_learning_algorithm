{
 "cells": [
  {
   "cell_type": "code",
   "execution_count": 1,
   "metadata": {},
   "outputs": [],
   "source": [
    "import os\n",
    "import pandas as pd\n",
    "import seaborn as sns\n",
    "import matplotlib.pyplot as plt\n",
    "import numpy as np\n",
    "\n",
    "%matplotlib inline\n",
    "\n",
    "plt.rcParams['figure.figsize'] = (4, 4)\n",
    "plt.rcParams['figure.dpi'] = 150\n",
    "plt.rcParams['lines.linewidth'] = 3\n",
    "sns.set()"
   ]
  },
  {
   "cell_type": "code",
   "execution_count": 2,
   "metadata": {},
   "outputs": [],
   "source": [
    "from sklearn.preprocessing import PolynomialFeatures\n",
    "from sklearn.preprocessing import StandardScaler\n",
    "from sklearn.pipeline import Pipeline\n",
    "from sklearn.linear_model import LogisticRegression\n",
    "from sklearn.linear_model import LogisticRegressionCV"
   ]
  },
  {
   "cell_type": "markdown",
   "metadata": {},
   "source": [
    "### Part 1: Using Regularization and Cross Validation to Avoid Overfitting"
   ]
  },
  {
   "cell_type": "markdown",
   "metadata": {},
   "source": [
    "Below, we split the NBA data into a training and a test set."
   ]
  },
  {
   "cell_type": "code",
   "execution_count": 3,
   "metadata": {},
   "outputs": [],
   "source": [
    "np.random.seed(5)\n",
    "df = pd.read_csv(r\"data_set\\nba.csv\").sample(frac=1)\n",
    "df[\"WON\"] = df[\"WL\"]\n",
    "df[\"WON\"] = df[\"WON\"].replace(\"W\", 1)\n",
    "df[\"WON\"] = df[\"WON\"].replace(\"L\", 0)\n",
    "df_train, df_test = np.split(df, [2000])"
   ]
  },
  {
   "cell_type": "code",
   "execution_count": 4,
   "metadata": {},
   "outputs": [
    {
     "data": {
      "text/html": [
       "<div>\n",
       "<style scoped>\n",
       "    .dataframe tbody tr th:only-of-type {\n",
       "        vertical-align: middle;\n",
       "    }\n",
       "\n",
       "    .dataframe tbody tr th {\n",
       "        vertical-align: top;\n",
       "    }\n",
       "\n",
       "    .dataframe thead th {\n",
       "        text-align: right;\n",
       "    }\n",
       "</style>\n",
       "<table border=\"1\" class=\"dataframe\">\n",
       "  <thead>\n",
       "    <tr style=\"text-align: right;\">\n",
       "      <th></th>\n",
       "      <th>SEASON_ID</th>\n",
       "      <th>TEAM_ID</th>\n",
       "      <th>TEAM_ABBREVIATION</th>\n",
       "      <th>TEAM_NAME</th>\n",
       "      <th>GAME_ID</th>\n",
       "      <th>GAME_DATE</th>\n",
       "      <th>MATCHUP</th>\n",
       "      <th>WL</th>\n",
       "      <th>MIN</th>\n",
       "      <th>FGM</th>\n",
       "      <th>...</th>\n",
       "      <th>REB</th>\n",
       "      <th>AST</th>\n",
       "      <th>STL</th>\n",
       "      <th>BLK</th>\n",
       "      <th>TOV</th>\n",
       "      <th>PF</th>\n",
       "      <th>PTS</th>\n",
       "      <th>PLUS_MINUS</th>\n",
       "      <th>VIDEO_AVAILABLE</th>\n",
       "      <th>WON</th>\n",
       "    </tr>\n",
       "  </thead>\n",
       "  <tbody>\n",
       "    <tr>\n",
       "      <th>234</th>\n",
       "      <td>22018</td>\n",
       "      <td>1610612754</td>\n",
       "      <td>IND</td>\n",
       "      <td>Indiana Pacers</td>\n",
       "      <td>21800120</td>\n",
       "      <td>2018-11-02</td>\n",
       "      <td>IND @ CHI</td>\n",
       "      <td>W</td>\n",
       "      <td>240</td>\n",
       "      <td>40</td>\n",
       "      <td>...</td>\n",
       "      <td>42</td>\n",
       "      <td>21</td>\n",
       "      <td>8</td>\n",
       "      <td>9</td>\n",
       "      <td>11</td>\n",
       "      <td>13</td>\n",
       "      <td>107</td>\n",
       "      <td>2</td>\n",
       "      <td>1</td>\n",
       "      <td>1</td>\n",
       "    </tr>\n",
       "    <tr>\n",
       "      <th>1395</th>\n",
       "      <td>22018</td>\n",
       "      <td>1610612753</td>\n",
       "      <td>ORL</td>\n",
       "      <td>Orlando Magic</td>\n",
       "      <td>21800695</td>\n",
       "      <td>2019-01-21</td>\n",
       "      <td>ORL @ ATL</td>\n",
       "      <td>W</td>\n",
       "      <td>240</td>\n",
       "      <td>46</td>\n",
       "      <td>...</td>\n",
       "      <td>45</td>\n",
       "      <td>29</td>\n",
       "      <td>8</td>\n",
       "      <td>8</td>\n",
       "      <td>11</td>\n",
       "      <td>22</td>\n",
       "      <td>122</td>\n",
       "      <td>19</td>\n",
       "      <td>1</td>\n",
       "      <td>1</td>\n",
       "    </tr>\n",
       "    <tr>\n",
       "      <th>1410</th>\n",
       "      <td>22018</td>\n",
       "      <td>1610612759</td>\n",
       "      <td>SAS</td>\n",
       "      <td>San Antonio Spurs</td>\n",
       "      <td>21800711</td>\n",
       "      <td>2019-01-23</td>\n",
       "      <td>SAS @ PHI</td>\n",
       "      <td>L</td>\n",
       "      <td>240</td>\n",
       "      <td>47</td>\n",
       "      <td>...</td>\n",
       "      <td>36</td>\n",
       "      <td>24</td>\n",
       "      <td>8</td>\n",
       "      <td>6</td>\n",
       "      <td>15</td>\n",
       "      <td>15</td>\n",
       "      <td>120</td>\n",
       "      <td>-2</td>\n",
       "      <td>1</td>\n",
       "      <td>0</td>\n",
       "    </tr>\n",
       "    <tr>\n",
       "      <th>1730</th>\n",
       "      <td>22018</td>\n",
       "      <td>1610612760</td>\n",
       "      <td>OKC</td>\n",
       "      <td>Oklahoma City Thunder</td>\n",
       "      <td>21800866</td>\n",
       "      <td>2019-02-14</td>\n",
       "      <td>OKC @ NOP</td>\n",
       "      <td>L</td>\n",
       "      <td>240</td>\n",
       "      <td>50</td>\n",
       "      <td>...</td>\n",
       "      <td>48</td>\n",
       "      <td>27</td>\n",
       "      <td>8</td>\n",
       "      <td>6</td>\n",
       "      <td>13</td>\n",
       "      <td>21</td>\n",
       "      <td>122</td>\n",
       "      <td>-9</td>\n",
       "      <td>1</td>\n",
       "      <td>0</td>\n",
       "    </tr>\n",
       "    <tr>\n",
       "      <th>1307</th>\n",
       "      <td>22018</td>\n",
       "      <td>1610612760</td>\n",
       "      <td>OKC</td>\n",
       "      <td>Oklahoma City Thunder</td>\n",
       "      <td>21800653</td>\n",
       "      <td>2019-01-15</td>\n",
       "      <td>OKC @ ATL</td>\n",
       "      <td>L</td>\n",
       "      <td>240</td>\n",
       "      <td>43</td>\n",
       "      <td>...</td>\n",
       "      <td>40</td>\n",
       "      <td>22</td>\n",
       "      <td>16</td>\n",
       "      <td>3</td>\n",
       "      <td>12</td>\n",
       "      <td>18</td>\n",
       "      <td>126</td>\n",
       "      <td>-16</td>\n",
       "      <td>1</td>\n",
       "      <td>0</td>\n",
       "    </tr>\n",
       "  </tbody>\n",
       "</table>\n",
       "<p>5 rows × 30 columns</p>\n",
       "</div>"
      ],
      "text/plain": [
       "      SEASON_ID     TEAM_ID TEAM_ABBREVIATION              TEAM_NAME  \\\n",
       "234       22018  1610612754               IND         Indiana Pacers   \n",
       "1395      22018  1610612753               ORL          Orlando Magic   \n",
       "1410      22018  1610612759               SAS      San Antonio Spurs   \n",
       "1730      22018  1610612760               OKC  Oklahoma City Thunder   \n",
       "1307      22018  1610612760               OKC  Oklahoma City Thunder   \n",
       "\n",
       "       GAME_ID   GAME_DATE    MATCHUP WL  MIN  FGM  ...  REB  AST  STL  BLK  \\\n",
       "234   21800120  2018-11-02  IND @ CHI  W  240   40  ...   42   21    8    9   \n",
       "1395  21800695  2019-01-21  ORL @ ATL  W  240   46  ...   45   29    8    8   \n",
       "1410  21800711  2019-01-23  SAS @ PHI  L  240   47  ...   36   24    8    6   \n",
       "1730  21800866  2019-02-14  OKC @ NOP  L  240   50  ...   48   27    8    6   \n",
       "1307  21800653  2019-01-15  OKC @ ATL  L  240   43  ...   40   22   16    3   \n",
       "\n",
       "      TOV  PF  PTS  PLUS_MINUS  VIDEO_AVAILABLE  WON  \n",
       "234    11  13  107           2                1    1  \n",
       "1395   11  22  122          19                1    1  \n",
       "1410   15  15  120          -2                1    0  \n",
       "1730   13  21  122          -9                1    0  \n",
       "1307   12  18  126         -16                1    0  \n",
       "\n",
       "[5 rows x 30 columns]"
      ]
     },
     "execution_count": 4,
     "metadata": {},
     "output_type": "execute_result"
    }
   ],
   "source": [
    "df_train.head()"
   ]
  },
  {
   "cell_type": "code",
   "execution_count": 5,
   "metadata": {},
   "outputs": [
    {
     "data": {
      "text/html": [
       "<div>\n",
       "<style scoped>\n",
       "    .dataframe tbody tr th:only-of-type {\n",
       "        vertical-align: middle;\n",
       "    }\n",
       "\n",
       "    .dataframe tbody tr th {\n",
       "        vertical-align: top;\n",
       "    }\n",
       "\n",
       "    .dataframe thead th {\n",
       "        text-align: right;\n",
       "    }\n",
       "</style>\n",
       "<table border=\"1\" class=\"dataframe\">\n",
       "  <thead>\n",
       "    <tr style=\"text-align: right;\">\n",
       "      <th></th>\n",
       "      <th>SEASON_ID</th>\n",
       "      <th>TEAM_ID</th>\n",
       "      <th>TEAM_ABBREVIATION</th>\n",
       "      <th>TEAM_NAME</th>\n",
       "      <th>GAME_ID</th>\n",
       "      <th>GAME_DATE</th>\n",
       "      <th>MATCHUP</th>\n",
       "      <th>WL</th>\n",
       "      <th>MIN</th>\n",
       "      <th>FGM</th>\n",
       "      <th>...</th>\n",
       "      <th>REB</th>\n",
       "      <th>AST</th>\n",
       "      <th>STL</th>\n",
       "      <th>BLK</th>\n",
       "      <th>TOV</th>\n",
       "      <th>PF</th>\n",
       "      <th>PTS</th>\n",
       "      <th>PLUS_MINUS</th>\n",
       "      <th>VIDEO_AVAILABLE</th>\n",
       "      <th>WON</th>\n",
       "    </tr>\n",
       "  </thead>\n",
       "  <tbody>\n",
       "    <tr>\n",
       "      <th>2036</th>\n",
       "      <td>22018</td>\n",
       "      <td>1610612751</td>\n",
       "      <td>BKN</td>\n",
       "      <td>Brooklyn Nets</td>\n",
       "      <td>21801017</td>\n",
       "      <td>2019-03-13</td>\n",
       "      <td>BKN @ OKC</td>\n",
       "      <td>L</td>\n",
       "      <td>240</td>\n",
       "      <td>35</td>\n",
       "      <td>...</td>\n",
       "      <td>43</td>\n",
       "      <td>19</td>\n",
       "      <td>7</td>\n",
       "      <td>5</td>\n",
       "      <td>17</td>\n",
       "      <td>18</td>\n",
       "      <td>96</td>\n",
       "      <td>-12</td>\n",
       "      <td>1</td>\n",
       "      <td>0</td>\n",
       "    </tr>\n",
       "    <tr>\n",
       "      <th>62</th>\n",
       "      <td>22018</td>\n",
       "      <td>1610612751</td>\n",
       "      <td>BKN</td>\n",
       "      <td>Brooklyn Nets</td>\n",
       "      <td>21800026</td>\n",
       "      <td>2018-10-20</td>\n",
       "      <td>BKN @ IND</td>\n",
       "      <td>L</td>\n",
       "      <td>240</td>\n",
       "      <td>41</td>\n",
       "      <td>...</td>\n",
       "      <td>40</td>\n",
       "      <td>25</td>\n",
       "      <td>6</td>\n",
       "      <td>6</td>\n",
       "      <td>20</td>\n",
       "      <td>18</td>\n",
       "      <td>112</td>\n",
       "      <td>-20</td>\n",
       "      <td>1</td>\n",
       "      <td>0</td>\n",
       "    </tr>\n",
       "    <tr>\n",
       "      <th>260</th>\n",
       "      <td>22018</td>\n",
       "      <td>1610612762</td>\n",
       "      <td>UTA</td>\n",
       "      <td>Utah Jazz</td>\n",
       "      <td>21800131</td>\n",
       "      <td>2018-11-03</td>\n",
       "      <td>UTA @ DEN</td>\n",
       "      <td>L</td>\n",
       "      <td>240</td>\n",
       "      <td>33</td>\n",
       "      <td>...</td>\n",
       "      <td>40</td>\n",
       "      <td>22</td>\n",
       "      <td>12</td>\n",
       "      <td>7</td>\n",
       "      <td>13</td>\n",
       "      <td>21</td>\n",
       "      <td>88</td>\n",
       "      <td>-15</td>\n",
       "      <td>1</td>\n",
       "      <td>0</td>\n",
       "    </tr>\n",
       "    <tr>\n",
       "      <th>2277</th>\n",
       "      <td>22018</td>\n",
       "      <td>1610612751</td>\n",
       "      <td>BKN</td>\n",
       "      <td>Brooklyn Nets</td>\n",
       "      <td>21801137</td>\n",
       "      <td>2019-03-30</td>\n",
       "      <td>BKN vs. BOS</td>\n",
       "      <td>W</td>\n",
       "      <td>240</td>\n",
       "      <td>38</td>\n",
       "      <td>...</td>\n",
       "      <td>40</td>\n",
       "      <td>22</td>\n",
       "      <td>7</td>\n",
       "      <td>2</td>\n",
       "      <td>14</td>\n",
       "      <td>17</td>\n",
       "      <td>110</td>\n",
       "      <td>14</td>\n",
       "      <td>1</td>\n",
       "      <td>1</td>\n",
       "    </tr>\n",
       "    <tr>\n",
       "      <th>1751</th>\n",
       "      <td>22018</td>\n",
       "      <td>1610612737</td>\n",
       "      <td>ATL</td>\n",
       "      <td>Atlanta Hawks</td>\n",
       "      <td>21800877</td>\n",
       "      <td>2019-02-22</td>\n",
       "      <td>ATL vs. DET</td>\n",
       "      <td>L</td>\n",
       "      <td>240</td>\n",
       "      <td>43</td>\n",
       "      <td>...</td>\n",
       "      <td>47</td>\n",
       "      <td>21</td>\n",
       "      <td>6</td>\n",
       "      <td>4</td>\n",
       "      <td>18</td>\n",
       "      <td>24</td>\n",
       "      <td>122</td>\n",
       "      <td>-3</td>\n",
       "      <td>1</td>\n",
       "      <td>0</td>\n",
       "    </tr>\n",
       "  </tbody>\n",
       "</table>\n",
       "<p>5 rows × 30 columns</p>\n",
       "</div>"
      ],
      "text/plain": [
       "      SEASON_ID     TEAM_ID TEAM_ABBREVIATION      TEAM_NAME   GAME_ID  \\\n",
       "2036      22018  1610612751               BKN  Brooklyn Nets  21801017   \n",
       "62        22018  1610612751               BKN  Brooklyn Nets  21800026   \n",
       "260       22018  1610612762               UTA      Utah Jazz  21800131   \n",
       "2277      22018  1610612751               BKN  Brooklyn Nets  21801137   \n",
       "1751      22018  1610612737               ATL  Atlanta Hawks  21800877   \n",
       "\n",
       "       GAME_DATE      MATCHUP WL  MIN  FGM  ...  REB  AST  STL  BLK  TOV  PF  \\\n",
       "2036  2019-03-13    BKN @ OKC  L  240   35  ...   43   19    7    5   17  18   \n",
       "62    2018-10-20    BKN @ IND  L  240   41  ...   40   25    6    6   20  18   \n",
       "260   2018-11-03    UTA @ DEN  L  240   33  ...   40   22   12    7   13  21   \n",
       "2277  2019-03-30  BKN vs. BOS  W  240   38  ...   40   22    7    2   14  17   \n",
       "1751  2019-02-22  ATL vs. DET  L  240   43  ...   47   21    6    4   18  24   \n",
       "\n",
       "      PTS  PLUS_MINUS  VIDEO_AVAILABLE  WON  \n",
       "2036   96         -12                1    0  \n",
       "62    112         -20                1    0  \n",
       "260    88         -15                1    0  \n",
       "2277  110          14                1    1  \n",
       "1751  122          -3                1    0  \n",
       "\n",
       "[5 rows x 30 columns]"
      ]
     },
     "execution_count": 5,
     "metadata": {},
     "output_type": "execute_result"
    }
   ],
   "source": [
    "df_test.head()"
   ]
  },
  {
   "cell_type": "markdown",
   "metadata": {},
   "source": [
    "#### P1A: Training an Unregularized Model"
   ]
  },
  {
   "cell_type": "markdown",
   "metadata": {},
   "source": [
    "Let's use all of the numerical features available to us. These are given in `p1_features` below."
   ]
  },
  {
   "cell_type": "code",
   "execution_count": 6,
   "metadata": {},
   "outputs": [],
   "source": [
    "p1_features = [\n",
    "    'FGM', 'FGA', 'FG_PCT', 'FG3M', 'FG3A', 'FG3_PCT', 'FTM', 'FTA', 'FT_PCT',\n",
    "    'OREB', 'DREB', 'REB', 'AST', 'STL', 'BLK', 'TOV', 'PF', 'PTS'\n",
    "]"
   ]
  },
  {
   "cell_type": "markdown",
   "metadata": {},
   "source": [
    "Below, train an unregularized LogisticRegression model called `unregularized_model`. Your model should try to fit `df_train[\"WON\"]` from the features in `p1_features`.\n",
    "\n",
    "Make sure to set `penalty = 'none'`. Also, don't use `PolynomialFeatures`."
   ]
  },
  {
   "cell_type": "code",
   "execution_count": 8,
   "metadata": {},
   "outputs": [
    {
     "data": {
      "text/plain": [
       "Pipeline(memory=None,\n",
       "         steps=[('scale',\n",
       "                 StandardScaler(copy=True, with_mean=True, with_std=True)),\n",
       "                ('model',\n",
       "                 LogisticRegression(C=1.0, class_weight=None, dual=False,\n",
       "                                    fit_intercept=True, intercept_scaling=1,\n",
       "                                    l1_ratio=None, max_iter=10000,\n",
       "                                    multi_class='auto', n_jobs=None,\n",
       "                                    penalty='none', random_state=None,\n",
       "                                    solver='lbfgs', tol=0.0001, verbose=0,\n",
       "                                    warm_start=False))],\n",
       "         verbose=False)"
      ]
     },
     "execution_count": 8,
     "metadata": {},
     "output_type": "execute_result"
    }
   ],
   "source": [
    "unregularized_model = Pipeline([('scale', StandardScaler()),\n",
    "                                ('model',\n",
    "                                 LogisticRegression(penalty='none',\n",
    "                                                    max_iter=10000))])\n",
    "unregularized_model.fit(df_train[p1_features], df_train['WON'])"
   ]
  },
  {
   "cell_type": "markdown",
   "metadata": {},
   "source": [
    "Below, we compute the accuracy of your classifier on the training and test set using sklearn's built-in `accuracy_score`. You should get around 84% for the training accuracy and around 83% for the test accuracy."
   ]
  },
  {
   "cell_type": "code",
   "execution_count": 9,
   "metadata": {},
   "outputs": [
    {
     "data": {
      "text/plain": [
       "0.845"
      ]
     },
     "execution_count": 9,
     "metadata": {},
     "output_type": "execute_result"
    }
   ],
   "source": [
    "from sklearn.metrics import accuracy_score\n",
    "accuracy_score(df_train[\"WON\"],\n",
    "               unregularized_model.predict(df_train[p1_features]))"
   ]
  },
  {
   "cell_type": "code",
   "execution_count": 10,
   "metadata": {},
   "outputs": [
    {
     "data": {
      "text/plain": [
       "0.8304347826086956"
      ]
     },
     "execution_count": 10,
     "metadata": {},
     "output_type": "execute_result"
    }
   ],
   "source": [
    "accuracy_score(df_test[\"WON\"],\n",
    "               unregularized_model.predict(df_test[p1_features]))"
   ]
  },
  {
   "cell_type": "code",
   "execution_count": 54,
   "metadata": {},
   "outputs": [
    {
     "data": {
      "text/plain": [
       "array([0.00801763])"
      ]
     },
     "execution_count": 54,
     "metadata": {},
     "output_type": "execute_result"
    }
   ],
   "source": [
    "unregularized_model.named_steps['model'].intercept_"
   ]
  },
  {
   "cell_type": "code",
   "execution_count": 56,
   "metadata": {},
   "outputs": [
    {
     "data": {
      "text/plain": [
       "array([[ 1.51677642, -3.09844068, -0.69522002,  0.29085264, -0.04164525,\n",
       "         0.16738635,  0.11752186, -0.54056489,  0.1561913 ,  0.69723721,\n",
       "         1.04930524,  1.23672583,  0.10183484,  1.18194725,  0.21482446,\n",
       "        -1.25987005, -0.18665515,  1.402673  ]])"
      ]
     },
     "execution_count": 56,
     "metadata": {},
     "output_type": "execute_result"
    }
   ],
   "source": [
    "unregularized_model.named_steps['model'].coef_"
   ]
  },
  {
   "cell_type": "markdown",
   "metadata": {},
   "source": [
    "#### P1B: Computing the Cross Entropy Loss"
   ]
  },
  {
   "cell_type": "markdown",
   "metadata": {},
   "source": [
    "Above, we gave the accuracy for your model. Below, compute the average cross-entropy loss on the training and test sets. \n",
    "\n",
    "Hint: You'll need to import `log_loss`. \n",
    "\n",
    "Hint: `log_loss` needs probabilities, not classes, so make sure to use `predict_proba` instead of `predict`.\n",
    "\n",
    "You should get around 0.34 for the training set and 0.355 for the test set."
   ]
  },
  {
   "cell_type": "code",
   "execution_count": 11,
   "metadata": {},
   "outputs": [],
   "source": [
    "from sklearn.metrics import log_loss"
   ]
  },
  {
   "cell_type": "code",
   "execution_count": 12,
   "metadata": {},
   "outputs": [
    {
     "data": {
      "text/plain": [
       "0.33871656339696254"
      ]
     },
     "execution_count": 12,
     "metadata": {},
     "output_type": "execute_result"
    }
   ],
   "source": [
    "training_mean_cross_entropy_loss = log_loss(\n",
    "    df_train[\"WON\"], unregularized_model.predict_proba(df_train[p1_features]))\n",
    "training_mean_cross_entropy_loss"
   ]
  },
  {
   "cell_type": "code",
   "execution_count": 15,
   "metadata": {},
   "outputs": [
    {
     "data": {
      "text/plain": [
       "0.356566085360994"
      ]
     },
     "execution_count": 15,
     "metadata": {},
     "output_type": "execute_result"
    }
   ],
   "source": [
    "test_mean_cross_entropy_loss = log_loss(\n",
    "    df_test[\"WON\"], unregularized_model.predict_proba(df_test[p1_features]))\n",
    "test_mean_cross_entropy_loss"
   ]
  },
  {
   "cell_type": "markdown",
   "metadata": {},
   "source": [
    "**Important note:** The `.fit` method in `LogisticRegression` picks parameters that minimize the log loss. It does not directly consider accuracy.\n",
    "\n",
    "We will see in optional problem 3 that sometimes these two ideas are in conflict."
   ]
  },
  {
   "cell_type": "markdown",
   "metadata": {},
   "source": [
    "#### P1C: Training a Degree 3 Unregularized Model"
   ]
  },
  {
   "cell_type": "markdown",
   "metadata": {},
   "source": [
    "Below, train a model called `unregularized_poly3_model` that is exactly like your model from part 1A, except that it uses `PolynomialFeatures` with degree 3."
   ]
  },
  {
   "cell_type": "code",
   "execution_count": 16,
   "metadata": {},
   "outputs": [
    {
     "data": {
      "text/plain": [
       "Pipeline(memory=None,\n",
       "         steps=[('scale',\n",
       "                 StandardScaler(copy=True, with_mean=True, with_std=True)),\n",
       "                ('poly',\n",
       "                 PolynomialFeatures(degree=3, include_bias=True,\n",
       "                                    interaction_only=False, order='C')),\n",
       "                ('model',\n",
       "                 LogisticRegression(C=1.0, class_weight=None, dual=False,\n",
       "                                    fit_intercept=True, intercept_scaling=1,\n",
       "                                    l1_ratio=None, max_iter=10000,\n",
       "                                    multi_class='auto', n_jobs=None,\n",
       "                                    penalty='none', random_state=None,\n",
       "                                    solver='lbfgs', tol=0.0001, verbose=0,\n",
       "                                    warm_start=False))],\n",
       "         verbose=False)"
      ]
     },
     "execution_count": 16,
     "metadata": {},
     "output_type": "execute_result"
    }
   ],
   "source": [
    "unregularized_poly3_model = Pipeline([('scale', StandardScaler()),\n",
    "                                      ('poly', PolynomialFeatures(3)),\n",
    "                                      ('model',\n",
    "                                       LogisticRegression(penalty='none',\n",
    "                                                          max_iter=10000))])\n",
    "unregularized_poly3_model.fit(df_train[p1_features], df_train['WON'])"
   ]
  },
  {
   "cell_type": "markdown",
   "metadata": {},
   "source": [
    "Now compute the accuracy of your model on the training and test sets. You should get 100% accuracy training set, and around 73% on your test set."
   ]
  },
  {
   "cell_type": "code",
   "execution_count": 19,
   "metadata": {},
   "outputs": [
    {
     "data": {
      "text/plain": [
       "1.0"
      ]
     },
     "execution_count": 19,
     "metadata": {},
     "output_type": "execute_result"
    }
   ],
   "source": [
    "accuracy_score(df_train[\"WON\"],\n",
    "               unregularized_poly3_model.predict(df_train[p1_features]))"
   ]
  },
  {
   "cell_type": "code",
   "execution_count": 20,
   "metadata": {},
   "outputs": [
    {
     "data": {
      "text/plain": [
       "0.741304347826087"
      ]
     },
     "execution_count": 20,
     "metadata": {},
     "output_type": "execute_result"
    }
   ],
   "source": [
    "accuracy_score(df_test[\"WON\"],\n",
    "               unregularized_poly3_model.predict(df_test[p1_features]))"
   ]
  },
  {
   "cell_type": "markdown",
   "metadata": {},
   "source": [
    "We are clearly overfitting here."
   ]
  },
  {
   "cell_type": "markdown",
   "metadata": {},
   "source": [
    "#### P1D: Regularized Model with Hard-Coded C"
   ]
  },
  {
   "cell_type": "markdown",
   "metadata": {},
   "source": [
    "One way to avoid overfitting is to regularize our model. Below, train a model `C1000_poly3_model` that appleis regularization with C1000. Recall, to enable regularization, simply delete `penalty = 'none'`."
   ]
  },
  {
   "cell_type": "code",
   "execution_count": 21,
   "metadata": {},
   "outputs": [
    {
     "data": {
      "text/plain": [
       "Pipeline(memory=None,\n",
       "         steps=[('scale',\n",
       "                 StandardScaler(copy=True, with_mean=True, with_std=True)),\n",
       "                ('poly',\n",
       "                 PolynomialFeatures(degree=3, include_bias=True,\n",
       "                                    interaction_only=False, order='C')),\n",
       "                ('model',\n",
       "                 LogisticRegression(C=1000, class_weight=None, dual=False,\n",
       "                                    fit_intercept=True, intercept_scaling=1,\n",
       "                                    l1_ratio=None, max_iter=10000,\n",
       "                                    multi_class='auto', n_jobs=None,\n",
       "                                    penalty='l2', random_state=None,\n",
       "                                    solver='lbfgs', tol=0.0001, verbose=0,\n",
       "                                    warm_start=False))],\n",
       "         verbose=False)"
      ]
     },
     "execution_count": 21,
     "metadata": {},
     "output_type": "execute_result"
    }
   ],
   "source": [
    "C1000_poly3_model = Pipeline([('scale', StandardScaler()),\n",
    "                              ('poly', PolynomialFeatures(3)),\n",
    "                              ('model',\n",
    "                               LogisticRegression(C=1000, max_iter=10000))])\n",
    "C1000_poly3_model.fit(df_train[p1_features], df_train['WON'])"
   ]
  },
  {
   "cell_type": "markdown",
   "metadata": {},
   "source": [
    "Give the accuracy on the training and test set below. You should see that the accuracy score is still 100% for the training set, but the test set accuracy is somewhat better at around 75.5%."
   ]
  },
  {
   "cell_type": "code",
   "execution_count": 22,
   "metadata": {},
   "outputs": [
    {
     "data": {
      "text/plain": [
       "1.0"
      ]
     },
     "execution_count": 22,
     "metadata": {},
     "output_type": "execute_result"
    }
   ],
   "source": [
    "accuracy_score(df_train[\"WON\"],\n",
    "               C1000_poly3_model.predict(df_train[p1_features]))"
   ]
  },
  {
   "cell_type": "code",
   "execution_count": 24,
   "metadata": {},
   "outputs": [
    {
     "data": {
      "text/plain": [
       "0.7565217391304347"
      ]
     },
     "execution_count": 24,
     "metadata": {},
     "output_type": "execute_result"
    }
   ],
   "source": [
    "accuracy_score(df_test[\"WON\"], C1000_poly3_model.predict(df_test[p1_features]))"
   ]
  },
  {
   "cell_type": "markdown",
   "metadata": {},
   "source": [
    "#### P1E: Using Cross Validation"
   ]
  },
  {
   "cell_type": "markdown",
   "metadata": {},
   "source": [
    "Above, we selected an arbitrary C. Perhaps some other C would work better. There are two ways to find a better C:\n",
    "\n",
    "#1. Find the C that works best on a validation set.\n",
    "#2. Use cross validation.\n",
    "\n",
    "In this case, we have not kept any data aside as a validation set, so we can't do #1. So let's do #2 instead.\n",
    "\n",
    "Below train a LogisticRegressionCV model called `cv_poly3_model`, and test C values between 10^-7 and 10^5. For example, you might specify `Cs = 10**np.linspace(-7, 5, 100)`. Set `cv = 3` so that you have 3-fold cross validation.\n",
    "\n",
    "This might take a while to run."
   ]
  },
  {
   "cell_type": "code",
   "execution_count": 26,
   "metadata": {},
   "outputs": [
    {
     "data": {
      "text/plain": [
       "Pipeline(memory=None,\n",
       "         steps=[('scale',\n",
       "                 StandardScaler(copy=True, with_mean=True, with_std=True)),\n",
       "                ('poly',\n",
       "                 PolynomialFeatures(degree=3, include_bias=True,\n",
       "                                    interaction_only=False, order='C')),\n",
       "                ('model',\n",
       "                 LogisticRegressionCV(Cs=array([1.00000000e-07, 1.32194115e-07, 1.74752840e-07, 2.31012970e-07,\n",
       "       3.05385551e-07, 4.03701726e-07, 5.33669923e-07, 7.05480231e-07,\n",
       "       9.326033...\n",
       "       1.41747416e+04, 1.87381742e+04, 2.47707636e+04, 3.27454916e+04,\n",
       "       4.32876128e+04, 5.72236766e+04, 7.56463328e+04, 1.00000000e+05]),\n",
       "                                      class_weight=None, cv=3, dual=False,\n",
       "                                      fit_intercept=True, intercept_scaling=1.0,\n",
       "                                      l1_ratios=None, max_iter=10000,\n",
       "                                      multi_class='auto', n_jobs=None,\n",
       "                                      penalty='l2', random_state=None,\n",
       "                                      refit=True, scoring=None, solver='lbfgs',\n",
       "                                      tol=0.0001, verbose=0))],\n",
       "         verbose=False)"
      ]
     },
     "execution_count": 26,
     "metadata": {},
     "output_type": "execute_result"
    }
   ],
   "source": [
    "cv_poly3_model = Pipeline([('scale', StandardScaler()),\n",
    "                           ('poly', PolynomialFeatures(3)),\n",
    "                           ('model',\n",
    "                            LogisticRegressionCV(Cs=10**np.linspace(-7, 5, 100),\n",
    "                                                 cv=3,\n",
    "                                                 max_iter=10000))])\n",
    "cv_poly3_model.fit(df_train[p1_features], df_train['WON'])"
   ]
  },
  {
   "cell_type": "markdown",
   "metadata": {},
   "source": [
    "We can see what `C` our model picked using cross validation by looking at:"
   ]
  },
  {
   "cell_type": "code",
   "execution_count": 27,
   "metadata": {},
   "outputs": [
    {
     "data": {
      "text/plain": [
       "array([0.00024771])"
      ]
     },
     "execution_count": 27,
     "metadata": {},
     "output_type": "execute_result"
    }
   ],
   "source": [
    "cv_poly3_model.named_steps[\"model\"].C_"
   ]
  },
  {
   "cell_type": "code",
   "execution_count": 75,
   "metadata": {},
   "outputs": [
    {
     "data": {
      "text/plain": [
       "array([0.05720566])"
      ]
     },
     "execution_count": 75,
     "metadata": {},
     "output_type": "execute_result"
    }
   ],
   "source": [
    "cv_poly3_model.named_steps[\"model\"].intercept_"
   ]
  },
  {
   "cell_type": "code",
   "execution_count": 74,
   "metadata": {},
   "outputs": [
    {
     "data": {
      "text/plain": [
       "array([[ 1.71997659e-07,  1.08691295e-02, -1.08452761e-02, ...,\n",
       "         1.22570679e-02,  9.82332358e-04,  1.31474179e-02]])"
      ]
     },
     "execution_count": 74,
     "metadata": {},
     "output_type": "execute_result"
    }
   ],
   "source": [
    "cv_poly3_model.named_steps[\"model\"].coef_"
   ]
  },
  {
   "cell_type": "markdown",
   "metadata": {},
   "source": [
    "Below, compute the training and test set accuracy for `cv_poly3_model`. On my computer, I got 85% on the training set, and 81% on the test set.\n",
    "\n",
    "We can see that while our model does not perform as well on the training set, it generalizes much better to our unseen test set than our original model `unregularized_poly3_model`, which only was able to achieve 73% accuracy.\n",
    "\n",
    "**Bottom line:** `cv_poly3_model` does the best job, and it is able to do this by applying regularization, with hyperparameter C selected through cross validation."
   ]
  },
  {
   "cell_type": "code",
   "execution_count": 28,
   "metadata": {},
   "outputs": [
    {
     "data": {
      "text/plain": [
       "0.8505"
      ]
     },
     "execution_count": 28,
     "metadata": {},
     "output_type": "execute_result"
    }
   ],
   "source": [
    "accuracy_score(df_train[\"WON\"], cv_poly3_model.predict(df_train[p1_features]))"
   ]
  },
  {
   "cell_type": "code",
   "execution_count": 29,
   "metadata": {},
   "outputs": [
    {
     "data": {
      "text/plain": [
       "0.808695652173913"
      ]
     },
     "execution_count": 29,
     "metadata": {},
     "output_type": "execute_result"
    }
   ],
   "source": [
    "accuracy_score(df_test[\"WON\"], cv_poly3_model.predict(df_test[p1_features]))"
   ]
  },
  {
   "cell_type": "markdown",
   "metadata": {},
   "source": [
    "#### Bonus Problem 1F: L1 Regularization (OPTIONAL)"
   ]
  },
  {
   "cell_type": "markdown",
   "metadata": {},
   "source": [
    "Just like linear regression, we can also use L1 regularization. That is, instead of adding a penalty term that looks like $\\sum \\theta_i^2$, it looks like $\\sum |\\theta_i|$.\n",
    "\n",
    "In HW4, bonus problem 2H, we explored this. Create a model `p1e_model` below that is just like `cv_poly3_model`, except that it uses L1 regularization. The result is that most parameters will be zero.\n",
    "\n",
    "To use L1 regularization, set `penalty = l1` and set `solver = 'liblinear'`. \n",
    "\n",
    "This might several minutes to finish running, depending on your computer. Consider reducing the number of Cs if you don't want to wait that long."
   ]
  },
  {
   "cell_type": "code",
   "execution_count": 30,
   "metadata": {},
   "outputs": [
    {
     "data": {
      "text/plain": [
       "Pipeline(memory=None,\n",
       "         steps=[('scale',\n",
       "                 StandardScaler(copy=True, with_mean=True, with_std=True)),\n",
       "                ('poly',\n",
       "                 PolynomialFeatures(degree=3, include_bias=True,\n",
       "                                    interaction_only=False, order='C')),\n",
       "                ('model',\n",
       "                 LogisticRegressionCV(Cs=array([1.00000000e-07, 1.32194115e-07, 1.74752840e-07, 2.31012970e-07,\n",
       "       3.05385551e-07, 4.03701726e-07, 5.33669923e-07, 7.05480231e-07,\n",
       "       9.326033...\n",
       "       1.41747416e+04, 1.87381742e+04, 2.47707636e+04, 3.27454916e+04,\n",
       "       4.32876128e+04, 5.72236766e+04, 7.56463328e+04, 1.00000000e+05]),\n",
       "                                      class_weight=None, cv=3, dual=False,\n",
       "                                      fit_intercept=True, intercept_scaling=1.0,\n",
       "                                      l1_ratios=None, max_iter=10000,\n",
       "                                      multi_class='auto', n_jobs=-1,\n",
       "                                      penalty='l1', random_state=None,\n",
       "                                      refit=True, scoring=None,\n",
       "                                      solver='liblinear', tol=0.0001,\n",
       "                                      verbose=0))],\n",
       "         verbose=False)"
      ]
     },
     "execution_count": 30,
     "metadata": {},
     "output_type": "execute_result"
    }
   ],
   "source": [
    "p1f_model = Pipeline([('scale', StandardScaler()),\n",
    "                      ('poly', PolynomialFeatures(3)),\n",
    "                      ('model',\n",
    "                       LogisticRegressionCV(penalty='l1',\n",
    "                                            solver='liblinear',\n",
    "                                            max_iter=10000,\n",
    "                                            cv=3,\n",
    "                                            Cs=10**np.linspace(-7, 5, 100),\n",
    "                                            n_jobs=-1))])\n",
    "p1f_model.fit(df_train[p1_features], df_train['WON'])"
   ]
  },
  {
   "cell_type": "code",
   "execution_count": 31,
   "metadata": {},
   "outputs": [
    {
     "data": {
      "text/plain": [
       "array([0.04977024])"
      ]
     },
     "execution_count": 31,
     "metadata": {},
     "output_type": "execute_result"
    }
   ],
   "source": [
    "p1f_model.named_steps[\"model\"].C_"
   ]
  },
  {
   "cell_type": "code",
   "execution_count": 32,
   "metadata": {},
   "outputs": [
    {
     "data": {
      "text/plain": [
       "array([0.])"
      ]
     },
     "execution_count": 32,
     "metadata": {},
     "output_type": "execute_result"
    }
   ],
   "source": [
    "p1f_model.named_steps[\"model\"].intercept_"
   ]
  },
  {
   "cell_type": "code",
   "execution_count": 33,
   "metadata": {},
   "outputs": [
    {
     "data": {
      "text/plain": [
       "array([[ 0.        ,  0.        , -0.25674936, ...,  0.        ,\n",
       "         0.        ,  0.        ]])"
      ]
     },
     "execution_count": 33,
     "metadata": {},
     "output_type": "execute_result"
    }
   ],
   "source": [
    "p1f_model.named_steps[\"model\"].coef_"
   ]
  },
  {
   "cell_type": "markdown",
   "metadata": {},
   "source": [
    "Below, similar to problem 2H from exercise 4, create a table of all non-zero coefficients along with their names. You should have around 100 non-zero features, out of a total of 1,330."
   ]
  },
  {
   "cell_type": "code",
   "execution_count": 34,
   "metadata": {
    "scrolled": true
   },
   "outputs": [
    {
     "data": {
      "text/plain": [
       "['1',\n",
       " 'FGM',\n",
       " 'FGA',\n",
       " 'FG_PCT',\n",
       " 'FG3M',\n",
       " 'FG3A',\n",
       " 'FG3_PCT',\n",
       " 'FTM',\n",
       " 'FTA',\n",
       " 'FT_PCT',\n",
       " 'OREB',\n",
       " 'DREB',\n",
       " 'REB',\n",
       " 'AST',\n",
       " 'STL',\n",
       " 'BLK',\n",
       " 'TOV',\n",
       " 'PF',\n",
       " 'PTS',\n",
       " 'FGM^2',\n",
       " 'FGM FGA',\n",
       " 'FGM FG_PCT',\n",
       " 'FGM FG3M',\n",
       " 'FGM FG3A',\n",
       " 'FGM FG3_PCT',\n",
       " 'FGM FTM',\n",
       " 'FGM FTA',\n",
       " 'FGM FT_PCT',\n",
       " 'FGM OREB',\n",
       " 'FGM DREB',\n",
       " 'FGM REB',\n",
       " 'FGM AST',\n",
       " 'FGM STL',\n",
       " 'FGM BLK',\n",
       " 'FGM TOV',\n",
       " 'FGM PF',\n",
       " 'FGM PTS',\n",
       " 'FGA^2',\n",
       " 'FGA FG_PCT',\n",
       " 'FGA FG3M',\n",
       " 'FGA FG3A',\n",
       " 'FGA FG3_PCT',\n",
       " 'FGA FTM',\n",
       " 'FGA FTA',\n",
       " 'FGA FT_PCT',\n",
       " 'FGA OREB',\n",
       " 'FGA DREB',\n",
       " 'FGA REB',\n",
       " 'FGA AST',\n",
       " 'FGA STL',\n",
       " 'FGA BLK',\n",
       " 'FGA TOV',\n",
       " 'FGA PF',\n",
       " 'FGA PTS',\n",
       " 'FG_PCT^2',\n",
       " 'FG_PCT FG3M',\n",
       " 'FG_PCT FG3A',\n",
       " 'FG_PCT FG3_PCT',\n",
       " 'FG_PCT FTM',\n",
       " 'FG_PCT FTA',\n",
       " 'FG_PCT FT_PCT',\n",
       " 'FG_PCT OREB',\n",
       " 'FG_PCT DREB',\n",
       " 'FG_PCT REB',\n",
       " 'FG_PCT AST',\n",
       " 'FG_PCT STL',\n",
       " 'FG_PCT BLK',\n",
       " 'FG_PCT TOV',\n",
       " 'FG_PCT PF',\n",
       " 'FG_PCT PTS',\n",
       " 'FG3M^2',\n",
       " 'FG3M FG3A',\n",
       " 'FG3M FG3_PCT',\n",
       " 'FG3M FTM',\n",
       " 'FG3M FTA',\n",
       " 'FG3M FT_PCT',\n",
       " 'FG3M OREB',\n",
       " 'FG3M DREB',\n",
       " 'FG3M REB',\n",
       " 'FG3M AST',\n",
       " 'FG3M STL',\n",
       " 'FG3M BLK',\n",
       " 'FG3M TOV',\n",
       " 'FG3M PF',\n",
       " 'FG3M PTS',\n",
       " 'FG3A^2',\n",
       " 'FG3A FG3_PCT',\n",
       " 'FG3A FTM',\n",
       " 'FG3A FTA',\n",
       " 'FG3A FT_PCT',\n",
       " 'FG3A OREB',\n",
       " 'FG3A DREB',\n",
       " 'FG3A REB',\n",
       " 'FG3A AST',\n",
       " 'FG3A STL',\n",
       " 'FG3A BLK',\n",
       " 'FG3A TOV',\n",
       " 'FG3A PF',\n",
       " 'FG3A PTS',\n",
       " 'FG3_PCT^2',\n",
       " 'FG3_PCT FTM',\n",
       " 'FG3_PCT FTA',\n",
       " 'FG3_PCT FT_PCT',\n",
       " 'FG3_PCT OREB',\n",
       " 'FG3_PCT DREB',\n",
       " 'FG3_PCT REB',\n",
       " 'FG3_PCT AST',\n",
       " 'FG3_PCT STL',\n",
       " 'FG3_PCT BLK',\n",
       " 'FG3_PCT TOV',\n",
       " 'FG3_PCT PF',\n",
       " 'FG3_PCT PTS',\n",
       " 'FTM^2',\n",
       " 'FTM FTA',\n",
       " 'FTM FT_PCT',\n",
       " 'FTM OREB',\n",
       " 'FTM DREB',\n",
       " 'FTM REB',\n",
       " 'FTM AST',\n",
       " 'FTM STL',\n",
       " 'FTM BLK',\n",
       " 'FTM TOV',\n",
       " 'FTM PF',\n",
       " 'FTM PTS',\n",
       " 'FTA^2',\n",
       " 'FTA FT_PCT',\n",
       " 'FTA OREB',\n",
       " 'FTA DREB',\n",
       " 'FTA REB',\n",
       " 'FTA AST',\n",
       " 'FTA STL',\n",
       " 'FTA BLK',\n",
       " 'FTA TOV',\n",
       " 'FTA PF',\n",
       " 'FTA PTS',\n",
       " 'FT_PCT^2',\n",
       " 'FT_PCT OREB',\n",
       " 'FT_PCT DREB',\n",
       " 'FT_PCT REB',\n",
       " 'FT_PCT AST',\n",
       " 'FT_PCT STL',\n",
       " 'FT_PCT BLK',\n",
       " 'FT_PCT TOV',\n",
       " 'FT_PCT PF',\n",
       " 'FT_PCT PTS',\n",
       " 'OREB^2',\n",
       " 'OREB DREB',\n",
       " 'OREB REB',\n",
       " 'OREB AST',\n",
       " 'OREB STL',\n",
       " 'OREB BLK',\n",
       " 'OREB TOV',\n",
       " 'OREB PF',\n",
       " 'OREB PTS',\n",
       " 'DREB^2',\n",
       " 'DREB REB',\n",
       " 'DREB AST',\n",
       " 'DREB STL',\n",
       " 'DREB BLK',\n",
       " 'DREB TOV',\n",
       " 'DREB PF',\n",
       " 'DREB PTS',\n",
       " 'REB^2',\n",
       " 'REB AST',\n",
       " 'REB STL',\n",
       " 'REB BLK',\n",
       " 'REB TOV',\n",
       " 'REB PF',\n",
       " 'REB PTS',\n",
       " 'AST^2',\n",
       " 'AST STL',\n",
       " 'AST BLK',\n",
       " 'AST TOV',\n",
       " 'AST PF',\n",
       " 'AST PTS',\n",
       " 'STL^2',\n",
       " 'STL BLK',\n",
       " 'STL TOV',\n",
       " 'STL PF',\n",
       " 'STL PTS',\n",
       " 'BLK^2',\n",
       " 'BLK TOV',\n",
       " 'BLK PF',\n",
       " 'BLK PTS',\n",
       " 'TOV^2',\n",
       " 'TOV PF',\n",
       " 'TOV PTS',\n",
       " 'PF^2',\n",
       " 'PF PTS',\n",
       " 'PTS^2',\n",
       " 'FGM^3',\n",
       " 'FGM^2 FGA',\n",
       " 'FGM^2 FG_PCT',\n",
       " 'FGM^2 FG3M',\n",
       " 'FGM^2 FG3A',\n",
       " 'FGM^2 FG3_PCT',\n",
       " 'FGM^2 FTM',\n",
       " 'FGM^2 FTA',\n",
       " 'FGM^2 FT_PCT',\n",
       " 'FGM^2 OREB',\n",
       " 'FGM^2 DREB',\n",
       " 'FGM^2 REB',\n",
       " 'FGM^2 AST',\n",
       " 'FGM^2 STL',\n",
       " 'FGM^2 BLK',\n",
       " 'FGM^2 TOV',\n",
       " 'FGM^2 PF',\n",
       " 'FGM^2 PTS',\n",
       " 'FGM FGA^2',\n",
       " 'FGM FGA FG_PCT',\n",
       " 'FGM FGA FG3M',\n",
       " 'FGM FGA FG3A',\n",
       " 'FGM FGA FG3_PCT',\n",
       " 'FGM FGA FTM',\n",
       " 'FGM FGA FTA',\n",
       " 'FGM FGA FT_PCT',\n",
       " 'FGM FGA OREB',\n",
       " 'FGM FGA DREB',\n",
       " 'FGM FGA REB',\n",
       " 'FGM FGA AST',\n",
       " 'FGM FGA STL',\n",
       " 'FGM FGA BLK',\n",
       " 'FGM FGA TOV',\n",
       " 'FGM FGA PF',\n",
       " 'FGM FGA PTS',\n",
       " 'FGM FG_PCT^2',\n",
       " 'FGM FG_PCT FG3M',\n",
       " 'FGM FG_PCT FG3A',\n",
       " 'FGM FG_PCT FG3_PCT',\n",
       " 'FGM FG_PCT FTM',\n",
       " 'FGM FG_PCT FTA',\n",
       " 'FGM FG_PCT FT_PCT',\n",
       " 'FGM FG_PCT OREB',\n",
       " 'FGM FG_PCT DREB',\n",
       " 'FGM FG_PCT REB',\n",
       " 'FGM FG_PCT AST',\n",
       " 'FGM FG_PCT STL',\n",
       " 'FGM FG_PCT BLK',\n",
       " 'FGM FG_PCT TOV',\n",
       " 'FGM FG_PCT PF',\n",
       " 'FGM FG_PCT PTS',\n",
       " 'FGM FG3M^2',\n",
       " 'FGM FG3M FG3A',\n",
       " 'FGM FG3M FG3_PCT',\n",
       " 'FGM FG3M FTM',\n",
       " 'FGM FG3M FTA',\n",
       " 'FGM FG3M FT_PCT',\n",
       " 'FGM FG3M OREB',\n",
       " 'FGM FG3M DREB',\n",
       " 'FGM FG3M REB',\n",
       " 'FGM FG3M AST',\n",
       " 'FGM FG3M STL',\n",
       " 'FGM FG3M BLK',\n",
       " 'FGM FG3M TOV',\n",
       " 'FGM FG3M PF',\n",
       " 'FGM FG3M PTS',\n",
       " 'FGM FG3A^2',\n",
       " 'FGM FG3A FG3_PCT',\n",
       " 'FGM FG3A FTM',\n",
       " 'FGM FG3A FTA',\n",
       " 'FGM FG3A FT_PCT',\n",
       " 'FGM FG3A OREB',\n",
       " 'FGM FG3A DREB',\n",
       " 'FGM FG3A REB',\n",
       " 'FGM FG3A AST',\n",
       " 'FGM FG3A STL',\n",
       " 'FGM FG3A BLK',\n",
       " 'FGM FG3A TOV',\n",
       " 'FGM FG3A PF',\n",
       " 'FGM FG3A PTS',\n",
       " 'FGM FG3_PCT^2',\n",
       " 'FGM FG3_PCT FTM',\n",
       " 'FGM FG3_PCT FTA',\n",
       " 'FGM FG3_PCT FT_PCT',\n",
       " 'FGM FG3_PCT OREB',\n",
       " 'FGM FG3_PCT DREB',\n",
       " 'FGM FG3_PCT REB',\n",
       " 'FGM FG3_PCT AST',\n",
       " 'FGM FG3_PCT STL',\n",
       " 'FGM FG3_PCT BLK',\n",
       " 'FGM FG3_PCT TOV',\n",
       " 'FGM FG3_PCT PF',\n",
       " 'FGM FG3_PCT PTS',\n",
       " 'FGM FTM^2',\n",
       " 'FGM FTM FTA',\n",
       " 'FGM FTM FT_PCT',\n",
       " 'FGM FTM OREB',\n",
       " 'FGM FTM DREB',\n",
       " 'FGM FTM REB',\n",
       " 'FGM FTM AST',\n",
       " 'FGM FTM STL',\n",
       " 'FGM FTM BLK',\n",
       " 'FGM FTM TOV',\n",
       " 'FGM FTM PF',\n",
       " 'FGM FTM PTS',\n",
       " 'FGM FTA^2',\n",
       " 'FGM FTA FT_PCT',\n",
       " 'FGM FTA OREB',\n",
       " 'FGM FTA DREB',\n",
       " 'FGM FTA REB',\n",
       " 'FGM FTA AST',\n",
       " 'FGM FTA STL',\n",
       " 'FGM FTA BLK',\n",
       " 'FGM FTA TOV',\n",
       " 'FGM FTA PF',\n",
       " 'FGM FTA PTS',\n",
       " 'FGM FT_PCT^2',\n",
       " 'FGM FT_PCT OREB',\n",
       " 'FGM FT_PCT DREB',\n",
       " 'FGM FT_PCT REB',\n",
       " 'FGM FT_PCT AST',\n",
       " 'FGM FT_PCT STL',\n",
       " 'FGM FT_PCT BLK',\n",
       " 'FGM FT_PCT TOV',\n",
       " 'FGM FT_PCT PF',\n",
       " 'FGM FT_PCT PTS',\n",
       " 'FGM OREB^2',\n",
       " 'FGM OREB DREB',\n",
       " 'FGM OREB REB',\n",
       " 'FGM OREB AST',\n",
       " 'FGM OREB STL',\n",
       " 'FGM OREB BLK',\n",
       " 'FGM OREB TOV',\n",
       " 'FGM OREB PF',\n",
       " 'FGM OREB PTS',\n",
       " 'FGM DREB^2',\n",
       " 'FGM DREB REB',\n",
       " 'FGM DREB AST',\n",
       " 'FGM DREB STL',\n",
       " 'FGM DREB BLK',\n",
       " 'FGM DREB TOV',\n",
       " 'FGM DREB PF',\n",
       " 'FGM DREB PTS',\n",
       " 'FGM REB^2',\n",
       " 'FGM REB AST',\n",
       " 'FGM REB STL',\n",
       " 'FGM REB BLK',\n",
       " 'FGM REB TOV',\n",
       " 'FGM REB PF',\n",
       " 'FGM REB PTS',\n",
       " 'FGM AST^2',\n",
       " 'FGM AST STL',\n",
       " 'FGM AST BLK',\n",
       " 'FGM AST TOV',\n",
       " 'FGM AST PF',\n",
       " 'FGM AST PTS',\n",
       " 'FGM STL^2',\n",
       " 'FGM STL BLK',\n",
       " 'FGM STL TOV',\n",
       " 'FGM STL PF',\n",
       " 'FGM STL PTS',\n",
       " 'FGM BLK^2',\n",
       " 'FGM BLK TOV',\n",
       " 'FGM BLK PF',\n",
       " 'FGM BLK PTS',\n",
       " 'FGM TOV^2',\n",
       " 'FGM TOV PF',\n",
       " 'FGM TOV PTS',\n",
       " 'FGM PF^2',\n",
       " 'FGM PF PTS',\n",
       " 'FGM PTS^2',\n",
       " 'FGA^3',\n",
       " 'FGA^2 FG_PCT',\n",
       " 'FGA^2 FG3M',\n",
       " 'FGA^2 FG3A',\n",
       " 'FGA^2 FG3_PCT',\n",
       " 'FGA^2 FTM',\n",
       " 'FGA^2 FTA',\n",
       " 'FGA^2 FT_PCT',\n",
       " 'FGA^2 OREB',\n",
       " 'FGA^2 DREB',\n",
       " 'FGA^2 REB',\n",
       " 'FGA^2 AST',\n",
       " 'FGA^2 STL',\n",
       " 'FGA^2 BLK',\n",
       " 'FGA^2 TOV',\n",
       " 'FGA^2 PF',\n",
       " 'FGA^2 PTS',\n",
       " 'FGA FG_PCT^2',\n",
       " 'FGA FG_PCT FG3M',\n",
       " 'FGA FG_PCT FG3A',\n",
       " 'FGA FG_PCT FG3_PCT',\n",
       " 'FGA FG_PCT FTM',\n",
       " 'FGA FG_PCT FTA',\n",
       " 'FGA FG_PCT FT_PCT',\n",
       " 'FGA FG_PCT OREB',\n",
       " 'FGA FG_PCT DREB',\n",
       " 'FGA FG_PCT REB',\n",
       " 'FGA FG_PCT AST',\n",
       " 'FGA FG_PCT STL',\n",
       " 'FGA FG_PCT BLK',\n",
       " 'FGA FG_PCT TOV',\n",
       " 'FGA FG_PCT PF',\n",
       " 'FGA FG_PCT PTS',\n",
       " 'FGA FG3M^2',\n",
       " 'FGA FG3M FG3A',\n",
       " 'FGA FG3M FG3_PCT',\n",
       " 'FGA FG3M FTM',\n",
       " 'FGA FG3M FTA',\n",
       " 'FGA FG3M FT_PCT',\n",
       " 'FGA FG3M OREB',\n",
       " 'FGA FG3M DREB',\n",
       " 'FGA FG3M REB',\n",
       " 'FGA FG3M AST',\n",
       " 'FGA FG3M STL',\n",
       " 'FGA FG3M BLK',\n",
       " 'FGA FG3M TOV',\n",
       " 'FGA FG3M PF',\n",
       " 'FGA FG3M PTS',\n",
       " 'FGA FG3A^2',\n",
       " 'FGA FG3A FG3_PCT',\n",
       " 'FGA FG3A FTM',\n",
       " 'FGA FG3A FTA',\n",
       " 'FGA FG3A FT_PCT',\n",
       " 'FGA FG3A OREB',\n",
       " 'FGA FG3A DREB',\n",
       " 'FGA FG3A REB',\n",
       " 'FGA FG3A AST',\n",
       " 'FGA FG3A STL',\n",
       " 'FGA FG3A BLK',\n",
       " 'FGA FG3A TOV',\n",
       " 'FGA FG3A PF',\n",
       " 'FGA FG3A PTS',\n",
       " 'FGA FG3_PCT^2',\n",
       " 'FGA FG3_PCT FTM',\n",
       " 'FGA FG3_PCT FTA',\n",
       " 'FGA FG3_PCT FT_PCT',\n",
       " 'FGA FG3_PCT OREB',\n",
       " 'FGA FG3_PCT DREB',\n",
       " 'FGA FG3_PCT REB',\n",
       " 'FGA FG3_PCT AST',\n",
       " 'FGA FG3_PCT STL',\n",
       " 'FGA FG3_PCT BLK',\n",
       " 'FGA FG3_PCT TOV',\n",
       " 'FGA FG3_PCT PF',\n",
       " 'FGA FG3_PCT PTS',\n",
       " 'FGA FTM^2',\n",
       " 'FGA FTM FTA',\n",
       " 'FGA FTM FT_PCT',\n",
       " 'FGA FTM OREB',\n",
       " 'FGA FTM DREB',\n",
       " 'FGA FTM REB',\n",
       " 'FGA FTM AST',\n",
       " 'FGA FTM STL',\n",
       " 'FGA FTM BLK',\n",
       " 'FGA FTM TOV',\n",
       " 'FGA FTM PF',\n",
       " 'FGA FTM PTS',\n",
       " 'FGA FTA^2',\n",
       " 'FGA FTA FT_PCT',\n",
       " 'FGA FTA OREB',\n",
       " 'FGA FTA DREB',\n",
       " 'FGA FTA REB',\n",
       " 'FGA FTA AST',\n",
       " 'FGA FTA STL',\n",
       " 'FGA FTA BLK',\n",
       " 'FGA FTA TOV',\n",
       " 'FGA FTA PF',\n",
       " 'FGA FTA PTS',\n",
       " 'FGA FT_PCT^2',\n",
       " 'FGA FT_PCT OREB',\n",
       " 'FGA FT_PCT DREB',\n",
       " 'FGA FT_PCT REB',\n",
       " 'FGA FT_PCT AST',\n",
       " 'FGA FT_PCT STL',\n",
       " 'FGA FT_PCT BLK',\n",
       " 'FGA FT_PCT TOV',\n",
       " 'FGA FT_PCT PF',\n",
       " 'FGA FT_PCT PTS',\n",
       " 'FGA OREB^2',\n",
       " 'FGA OREB DREB',\n",
       " 'FGA OREB REB',\n",
       " 'FGA OREB AST',\n",
       " 'FGA OREB STL',\n",
       " 'FGA OREB BLK',\n",
       " 'FGA OREB TOV',\n",
       " 'FGA OREB PF',\n",
       " 'FGA OREB PTS',\n",
       " 'FGA DREB^2',\n",
       " 'FGA DREB REB',\n",
       " 'FGA DREB AST',\n",
       " 'FGA DREB STL',\n",
       " 'FGA DREB BLK',\n",
       " 'FGA DREB TOV',\n",
       " 'FGA DREB PF',\n",
       " 'FGA DREB PTS',\n",
       " 'FGA REB^2',\n",
       " 'FGA REB AST',\n",
       " 'FGA REB STL',\n",
       " 'FGA REB BLK',\n",
       " 'FGA REB TOV',\n",
       " 'FGA REB PF',\n",
       " 'FGA REB PTS',\n",
       " 'FGA AST^2',\n",
       " 'FGA AST STL',\n",
       " 'FGA AST BLK',\n",
       " 'FGA AST TOV',\n",
       " 'FGA AST PF',\n",
       " 'FGA AST PTS',\n",
       " 'FGA STL^2',\n",
       " 'FGA STL BLK',\n",
       " 'FGA STL TOV',\n",
       " 'FGA STL PF',\n",
       " 'FGA STL PTS',\n",
       " 'FGA BLK^2',\n",
       " 'FGA BLK TOV',\n",
       " 'FGA BLK PF',\n",
       " 'FGA BLK PTS',\n",
       " 'FGA TOV^2',\n",
       " 'FGA TOV PF',\n",
       " 'FGA TOV PTS',\n",
       " 'FGA PF^2',\n",
       " 'FGA PF PTS',\n",
       " 'FGA PTS^2',\n",
       " 'FG_PCT^3',\n",
       " 'FG_PCT^2 FG3M',\n",
       " 'FG_PCT^2 FG3A',\n",
       " 'FG_PCT^2 FG3_PCT',\n",
       " 'FG_PCT^2 FTM',\n",
       " 'FG_PCT^2 FTA',\n",
       " 'FG_PCT^2 FT_PCT',\n",
       " 'FG_PCT^2 OREB',\n",
       " 'FG_PCT^2 DREB',\n",
       " 'FG_PCT^2 REB',\n",
       " 'FG_PCT^2 AST',\n",
       " 'FG_PCT^2 STL',\n",
       " 'FG_PCT^2 BLK',\n",
       " 'FG_PCT^2 TOV',\n",
       " 'FG_PCT^2 PF',\n",
       " 'FG_PCT^2 PTS',\n",
       " 'FG_PCT FG3M^2',\n",
       " 'FG_PCT FG3M FG3A',\n",
       " 'FG_PCT FG3M FG3_PCT',\n",
       " 'FG_PCT FG3M FTM',\n",
       " 'FG_PCT FG3M FTA',\n",
       " 'FG_PCT FG3M FT_PCT',\n",
       " 'FG_PCT FG3M OREB',\n",
       " 'FG_PCT FG3M DREB',\n",
       " 'FG_PCT FG3M REB',\n",
       " 'FG_PCT FG3M AST',\n",
       " 'FG_PCT FG3M STL',\n",
       " 'FG_PCT FG3M BLK',\n",
       " 'FG_PCT FG3M TOV',\n",
       " 'FG_PCT FG3M PF',\n",
       " 'FG_PCT FG3M PTS',\n",
       " 'FG_PCT FG3A^2',\n",
       " 'FG_PCT FG3A FG3_PCT',\n",
       " 'FG_PCT FG3A FTM',\n",
       " 'FG_PCT FG3A FTA',\n",
       " 'FG_PCT FG3A FT_PCT',\n",
       " 'FG_PCT FG3A OREB',\n",
       " 'FG_PCT FG3A DREB',\n",
       " 'FG_PCT FG3A REB',\n",
       " 'FG_PCT FG3A AST',\n",
       " 'FG_PCT FG3A STL',\n",
       " 'FG_PCT FG3A BLK',\n",
       " 'FG_PCT FG3A TOV',\n",
       " 'FG_PCT FG3A PF',\n",
       " 'FG_PCT FG3A PTS',\n",
       " 'FG_PCT FG3_PCT^2',\n",
       " 'FG_PCT FG3_PCT FTM',\n",
       " 'FG_PCT FG3_PCT FTA',\n",
       " 'FG_PCT FG3_PCT FT_PCT',\n",
       " 'FG_PCT FG3_PCT OREB',\n",
       " 'FG_PCT FG3_PCT DREB',\n",
       " 'FG_PCT FG3_PCT REB',\n",
       " 'FG_PCT FG3_PCT AST',\n",
       " 'FG_PCT FG3_PCT STL',\n",
       " 'FG_PCT FG3_PCT BLK',\n",
       " 'FG_PCT FG3_PCT TOV',\n",
       " 'FG_PCT FG3_PCT PF',\n",
       " 'FG_PCT FG3_PCT PTS',\n",
       " 'FG_PCT FTM^2',\n",
       " 'FG_PCT FTM FTA',\n",
       " 'FG_PCT FTM FT_PCT',\n",
       " 'FG_PCT FTM OREB',\n",
       " 'FG_PCT FTM DREB',\n",
       " 'FG_PCT FTM REB',\n",
       " 'FG_PCT FTM AST',\n",
       " 'FG_PCT FTM STL',\n",
       " 'FG_PCT FTM BLK',\n",
       " 'FG_PCT FTM TOV',\n",
       " 'FG_PCT FTM PF',\n",
       " 'FG_PCT FTM PTS',\n",
       " 'FG_PCT FTA^2',\n",
       " 'FG_PCT FTA FT_PCT',\n",
       " 'FG_PCT FTA OREB',\n",
       " 'FG_PCT FTA DREB',\n",
       " 'FG_PCT FTA REB',\n",
       " 'FG_PCT FTA AST',\n",
       " 'FG_PCT FTA STL',\n",
       " 'FG_PCT FTA BLK',\n",
       " 'FG_PCT FTA TOV',\n",
       " 'FG_PCT FTA PF',\n",
       " 'FG_PCT FTA PTS',\n",
       " 'FG_PCT FT_PCT^2',\n",
       " 'FG_PCT FT_PCT OREB',\n",
       " 'FG_PCT FT_PCT DREB',\n",
       " 'FG_PCT FT_PCT REB',\n",
       " 'FG_PCT FT_PCT AST',\n",
       " 'FG_PCT FT_PCT STL',\n",
       " 'FG_PCT FT_PCT BLK',\n",
       " 'FG_PCT FT_PCT TOV',\n",
       " 'FG_PCT FT_PCT PF',\n",
       " 'FG_PCT FT_PCT PTS',\n",
       " 'FG_PCT OREB^2',\n",
       " 'FG_PCT OREB DREB',\n",
       " 'FG_PCT OREB REB',\n",
       " 'FG_PCT OREB AST',\n",
       " 'FG_PCT OREB STL',\n",
       " 'FG_PCT OREB BLK',\n",
       " 'FG_PCT OREB TOV',\n",
       " 'FG_PCT OREB PF',\n",
       " 'FG_PCT OREB PTS',\n",
       " 'FG_PCT DREB^2',\n",
       " 'FG_PCT DREB REB',\n",
       " 'FG_PCT DREB AST',\n",
       " 'FG_PCT DREB STL',\n",
       " 'FG_PCT DREB BLK',\n",
       " 'FG_PCT DREB TOV',\n",
       " 'FG_PCT DREB PF',\n",
       " 'FG_PCT DREB PTS',\n",
       " 'FG_PCT REB^2',\n",
       " 'FG_PCT REB AST',\n",
       " 'FG_PCT REB STL',\n",
       " 'FG_PCT REB BLK',\n",
       " 'FG_PCT REB TOV',\n",
       " 'FG_PCT REB PF',\n",
       " 'FG_PCT REB PTS',\n",
       " 'FG_PCT AST^2',\n",
       " 'FG_PCT AST STL',\n",
       " 'FG_PCT AST BLK',\n",
       " 'FG_PCT AST TOV',\n",
       " 'FG_PCT AST PF',\n",
       " 'FG_PCT AST PTS',\n",
       " 'FG_PCT STL^2',\n",
       " 'FG_PCT STL BLK',\n",
       " 'FG_PCT STL TOV',\n",
       " 'FG_PCT STL PF',\n",
       " 'FG_PCT STL PTS',\n",
       " 'FG_PCT BLK^2',\n",
       " 'FG_PCT BLK TOV',\n",
       " 'FG_PCT BLK PF',\n",
       " 'FG_PCT BLK PTS',\n",
       " 'FG_PCT TOV^2',\n",
       " 'FG_PCT TOV PF',\n",
       " 'FG_PCT TOV PTS',\n",
       " 'FG_PCT PF^2',\n",
       " 'FG_PCT PF PTS',\n",
       " 'FG_PCT PTS^2',\n",
       " 'FG3M^3',\n",
       " 'FG3M^2 FG3A',\n",
       " 'FG3M^2 FG3_PCT',\n",
       " 'FG3M^2 FTM',\n",
       " 'FG3M^2 FTA',\n",
       " 'FG3M^2 FT_PCT',\n",
       " 'FG3M^2 OREB',\n",
       " 'FG3M^2 DREB',\n",
       " 'FG3M^2 REB',\n",
       " 'FG3M^2 AST',\n",
       " 'FG3M^2 STL',\n",
       " 'FG3M^2 BLK',\n",
       " 'FG3M^2 TOV',\n",
       " 'FG3M^2 PF',\n",
       " 'FG3M^2 PTS',\n",
       " 'FG3M FG3A^2',\n",
       " 'FG3M FG3A FG3_PCT',\n",
       " 'FG3M FG3A FTM',\n",
       " 'FG3M FG3A FTA',\n",
       " 'FG3M FG3A FT_PCT',\n",
       " 'FG3M FG3A OREB',\n",
       " 'FG3M FG3A DREB',\n",
       " 'FG3M FG3A REB',\n",
       " 'FG3M FG3A AST',\n",
       " 'FG3M FG3A STL',\n",
       " 'FG3M FG3A BLK',\n",
       " 'FG3M FG3A TOV',\n",
       " 'FG3M FG3A PF',\n",
       " 'FG3M FG3A PTS',\n",
       " 'FG3M FG3_PCT^2',\n",
       " 'FG3M FG3_PCT FTM',\n",
       " 'FG3M FG3_PCT FTA',\n",
       " 'FG3M FG3_PCT FT_PCT',\n",
       " 'FG3M FG3_PCT OREB',\n",
       " 'FG3M FG3_PCT DREB',\n",
       " 'FG3M FG3_PCT REB',\n",
       " 'FG3M FG3_PCT AST',\n",
       " 'FG3M FG3_PCT STL',\n",
       " 'FG3M FG3_PCT BLK',\n",
       " 'FG3M FG3_PCT TOV',\n",
       " 'FG3M FG3_PCT PF',\n",
       " 'FG3M FG3_PCT PTS',\n",
       " 'FG3M FTM^2',\n",
       " 'FG3M FTM FTA',\n",
       " 'FG3M FTM FT_PCT',\n",
       " 'FG3M FTM OREB',\n",
       " 'FG3M FTM DREB',\n",
       " 'FG3M FTM REB',\n",
       " 'FG3M FTM AST',\n",
       " 'FG3M FTM STL',\n",
       " 'FG3M FTM BLK',\n",
       " 'FG3M FTM TOV',\n",
       " 'FG3M FTM PF',\n",
       " 'FG3M FTM PTS',\n",
       " 'FG3M FTA^2',\n",
       " 'FG3M FTA FT_PCT',\n",
       " 'FG3M FTA OREB',\n",
       " 'FG3M FTA DREB',\n",
       " 'FG3M FTA REB',\n",
       " 'FG3M FTA AST',\n",
       " 'FG3M FTA STL',\n",
       " 'FG3M FTA BLK',\n",
       " 'FG3M FTA TOV',\n",
       " 'FG3M FTA PF',\n",
       " 'FG3M FTA PTS',\n",
       " 'FG3M FT_PCT^2',\n",
       " 'FG3M FT_PCT OREB',\n",
       " 'FG3M FT_PCT DREB',\n",
       " 'FG3M FT_PCT REB',\n",
       " 'FG3M FT_PCT AST',\n",
       " 'FG3M FT_PCT STL',\n",
       " 'FG3M FT_PCT BLK',\n",
       " 'FG3M FT_PCT TOV',\n",
       " 'FG3M FT_PCT PF',\n",
       " 'FG3M FT_PCT PTS',\n",
       " 'FG3M OREB^2',\n",
       " 'FG3M OREB DREB',\n",
       " 'FG3M OREB REB',\n",
       " 'FG3M OREB AST',\n",
       " 'FG3M OREB STL',\n",
       " 'FG3M OREB BLK',\n",
       " 'FG3M OREB TOV',\n",
       " 'FG3M OREB PF',\n",
       " 'FG3M OREB PTS',\n",
       " 'FG3M DREB^2',\n",
       " 'FG3M DREB REB',\n",
       " 'FG3M DREB AST',\n",
       " 'FG3M DREB STL',\n",
       " 'FG3M DREB BLK',\n",
       " 'FG3M DREB TOV',\n",
       " 'FG3M DREB PF',\n",
       " 'FG3M DREB PTS',\n",
       " 'FG3M REB^2',\n",
       " 'FG3M REB AST',\n",
       " 'FG3M REB STL',\n",
       " 'FG3M REB BLK',\n",
       " 'FG3M REB TOV',\n",
       " 'FG3M REB PF',\n",
       " 'FG3M REB PTS',\n",
       " 'FG3M AST^2',\n",
       " 'FG3M AST STL',\n",
       " 'FG3M AST BLK',\n",
       " 'FG3M AST TOV',\n",
       " 'FG3M AST PF',\n",
       " 'FG3M AST PTS',\n",
       " 'FG3M STL^2',\n",
       " 'FG3M STL BLK',\n",
       " 'FG3M STL TOV',\n",
       " 'FG3M STL PF',\n",
       " 'FG3M STL PTS',\n",
       " 'FG3M BLK^2',\n",
       " 'FG3M BLK TOV',\n",
       " 'FG3M BLK PF',\n",
       " 'FG3M BLK PTS',\n",
       " 'FG3M TOV^2',\n",
       " 'FG3M TOV PF',\n",
       " 'FG3M TOV PTS',\n",
       " 'FG3M PF^2',\n",
       " 'FG3M PF PTS',\n",
       " 'FG3M PTS^2',\n",
       " 'FG3A^3',\n",
       " 'FG3A^2 FG3_PCT',\n",
       " 'FG3A^2 FTM',\n",
       " 'FG3A^2 FTA',\n",
       " 'FG3A^2 FT_PCT',\n",
       " 'FG3A^2 OREB',\n",
       " 'FG3A^2 DREB',\n",
       " 'FG3A^2 REB',\n",
       " 'FG3A^2 AST',\n",
       " 'FG3A^2 STL',\n",
       " 'FG3A^2 BLK',\n",
       " 'FG3A^2 TOV',\n",
       " 'FG3A^2 PF',\n",
       " 'FG3A^2 PTS',\n",
       " 'FG3A FG3_PCT^2',\n",
       " 'FG3A FG3_PCT FTM',\n",
       " 'FG3A FG3_PCT FTA',\n",
       " 'FG3A FG3_PCT FT_PCT',\n",
       " 'FG3A FG3_PCT OREB',\n",
       " 'FG3A FG3_PCT DREB',\n",
       " 'FG3A FG3_PCT REB',\n",
       " 'FG3A FG3_PCT AST',\n",
       " 'FG3A FG3_PCT STL',\n",
       " 'FG3A FG3_PCT BLK',\n",
       " 'FG3A FG3_PCT TOV',\n",
       " 'FG3A FG3_PCT PF',\n",
       " 'FG3A FG3_PCT PTS',\n",
       " 'FG3A FTM^2',\n",
       " 'FG3A FTM FTA',\n",
       " 'FG3A FTM FT_PCT',\n",
       " 'FG3A FTM OREB',\n",
       " 'FG3A FTM DREB',\n",
       " 'FG3A FTM REB',\n",
       " 'FG3A FTM AST',\n",
       " 'FG3A FTM STL',\n",
       " 'FG3A FTM BLK',\n",
       " 'FG3A FTM TOV',\n",
       " 'FG3A FTM PF',\n",
       " 'FG3A FTM PTS',\n",
       " 'FG3A FTA^2',\n",
       " 'FG3A FTA FT_PCT',\n",
       " 'FG3A FTA OREB',\n",
       " 'FG3A FTA DREB',\n",
       " 'FG3A FTA REB',\n",
       " 'FG3A FTA AST',\n",
       " 'FG3A FTA STL',\n",
       " 'FG3A FTA BLK',\n",
       " 'FG3A FTA TOV',\n",
       " 'FG3A FTA PF',\n",
       " 'FG3A FTA PTS',\n",
       " 'FG3A FT_PCT^2',\n",
       " 'FG3A FT_PCT OREB',\n",
       " 'FG3A FT_PCT DREB',\n",
       " 'FG3A FT_PCT REB',\n",
       " 'FG3A FT_PCT AST',\n",
       " 'FG3A FT_PCT STL',\n",
       " 'FG3A FT_PCT BLK',\n",
       " 'FG3A FT_PCT TOV',\n",
       " 'FG3A FT_PCT PF',\n",
       " 'FG3A FT_PCT PTS',\n",
       " 'FG3A OREB^2',\n",
       " 'FG3A OREB DREB',\n",
       " 'FG3A OREB REB',\n",
       " 'FG3A OREB AST',\n",
       " 'FG3A OREB STL',\n",
       " 'FG3A OREB BLK',\n",
       " 'FG3A OREB TOV',\n",
       " 'FG3A OREB PF',\n",
       " 'FG3A OREB PTS',\n",
       " 'FG3A DREB^2',\n",
       " 'FG3A DREB REB',\n",
       " 'FG3A DREB AST',\n",
       " 'FG3A DREB STL',\n",
       " 'FG3A DREB BLK',\n",
       " 'FG3A DREB TOV',\n",
       " 'FG3A DREB PF',\n",
       " 'FG3A DREB PTS',\n",
       " 'FG3A REB^2',\n",
       " 'FG3A REB AST',\n",
       " 'FG3A REB STL',\n",
       " 'FG3A REB BLK',\n",
       " 'FG3A REB TOV',\n",
       " 'FG3A REB PF',\n",
       " 'FG3A REB PTS',\n",
       " 'FG3A AST^2',\n",
       " 'FG3A AST STL',\n",
       " 'FG3A AST BLK',\n",
       " 'FG3A AST TOV',\n",
       " 'FG3A AST PF',\n",
       " 'FG3A AST PTS',\n",
       " 'FG3A STL^2',\n",
       " 'FG3A STL BLK',\n",
       " 'FG3A STL TOV',\n",
       " 'FG3A STL PF',\n",
       " 'FG3A STL PTS',\n",
       " 'FG3A BLK^2',\n",
       " 'FG3A BLK TOV',\n",
       " 'FG3A BLK PF',\n",
       " 'FG3A BLK PTS',\n",
       " 'FG3A TOV^2',\n",
       " 'FG3A TOV PF',\n",
       " 'FG3A TOV PTS',\n",
       " 'FG3A PF^2',\n",
       " 'FG3A PF PTS',\n",
       " 'FG3A PTS^2',\n",
       " 'FG3_PCT^3',\n",
       " 'FG3_PCT^2 FTM',\n",
       " 'FG3_PCT^2 FTA',\n",
       " 'FG3_PCT^2 FT_PCT',\n",
       " 'FG3_PCT^2 OREB',\n",
       " 'FG3_PCT^2 DREB',\n",
       " 'FG3_PCT^2 REB',\n",
       " 'FG3_PCT^2 AST',\n",
       " 'FG3_PCT^2 STL',\n",
       " 'FG3_PCT^2 BLK',\n",
       " 'FG3_PCT^2 TOV',\n",
       " 'FG3_PCT^2 PF',\n",
       " 'FG3_PCT^2 PTS',\n",
       " 'FG3_PCT FTM^2',\n",
       " 'FG3_PCT FTM FTA',\n",
       " 'FG3_PCT FTM FT_PCT',\n",
       " 'FG3_PCT FTM OREB',\n",
       " 'FG3_PCT FTM DREB',\n",
       " 'FG3_PCT FTM REB',\n",
       " 'FG3_PCT FTM AST',\n",
       " 'FG3_PCT FTM STL',\n",
       " 'FG3_PCT FTM BLK',\n",
       " 'FG3_PCT FTM TOV',\n",
       " 'FG3_PCT FTM PF',\n",
       " 'FG3_PCT FTM PTS',\n",
       " 'FG3_PCT FTA^2',\n",
       " 'FG3_PCT FTA FT_PCT',\n",
       " 'FG3_PCT FTA OREB',\n",
       " 'FG3_PCT FTA DREB',\n",
       " 'FG3_PCT FTA REB',\n",
       " 'FG3_PCT FTA AST',\n",
       " 'FG3_PCT FTA STL',\n",
       " 'FG3_PCT FTA BLK',\n",
       " 'FG3_PCT FTA TOV',\n",
       " 'FG3_PCT FTA PF',\n",
       " 'FG3_PCT FTA PTS',\n",
       " 'FG3_PCT FT_PCT^2',\n",
       " 'FG3_PCT FT_PCT OREB',\n",
       " 'FG3_PCT FT_PCT DREB',\n",
       " 'FG3_PCT FT_PCT REB',\n",
       " 'FG3_PCT FT_PCT AST',\n",
       " 'FG3_PCT FT_PCT STL',\n",
       " 'FG3_PCT FT_PCT BLK',\n",
       " 'FG3_PCT FT_PCT TOV',\n",
       " 'FG3_PCT FT_PCT PF',\n",
       " 'FG3_PCT FT_PCT PTS',\n",
       " 'FG3_PCT OREB^2',\n",
       " 'FG3_PCT OREB DREB',\n",
       " 'FG3_PCT OREB REB',\n",
       " 'FG3_PCT OREB AST',\n",
       " 'FG3_PCT OREB STL',\n",
       " 'FG3_PCT OREB BLK',\n",
       " 'FG3_PCT OREB TOV',\n",
       " 'FG3_PCT OREB PF',\n",
       " 'FG3_PCT OREB PTS',\n",
       " 'FG3_PCT DREB^2',\n",
       " 'FG3_PCT DREB REB',\n",
       " 'FG3_PCT DREB AST',\n",
       " 'FG3_PCT DREB STL',\n",
       " 'FG3_PCT DREB BLK',\n",
       " 'FG3_PCT DREB TOV',\n",
       " 'FG3_PCT DREB PF',\n",
       " 'FG3_PCT DREB PTS',\n",
       " 'FG3_PCT REB^2',\n",
       " 'FG3_PCT REB AST',\n",
       " 'FG3_PCT REB STL',\n",
       " 'FG3_PCT REB BLK',\n",
       " 'FG3_PCT REB TOV',\n",
       " 'FG3_PCT REB PF',\n",
       " 'FG3_PCT REB PTS',\n",
       " 'FG3_PCT AST^2',\n",
       " 'FG3_PCT AST STL',\n",
       " 'FG3_PCT AST BLK',\n",
       " 'FG3_PCT AST TOV',\n",
       " 'FG3_PCT AST PF',\n",
       " 'FG3_PCT AST PTS',\n",
       " 'FG3_PCT STL^2',\n",
       " 'FG3_PCT STL BLK',\n",
       " 'FG3_PCT STL TOV',\n",
       " 'FG3_PCT STL PF',\n",
       " 'FG3_PCT STL PTS',\n",
       " 'FG3_PCT BLK^2',\n",
       " 'FG3_PCT BLK TOV',\n",
       " 'FG3_PCT BLK PF',\n",
       " 'FG3_PCT BLK PTS',\n",
       " 'FG3_PCT TOV^2',\n",
       " 'FG3_PCT TOV PF',\n",
       " 'FG3_PCT TOV PTS',\n",
       " 'FG3_PCT PF^2',\n",
       " 'FG3_PCT PF PTS',\n",
       " 'FG3_PCT PTS^2',\n",
       " 'FTM^3',\n",
       " 'FTM^2 FTA',\n",
       " 'FTM^2 FT_PCT',\n",
       " 'FTM^2 OREB',\n",
       " 'FTM^2 DREB',\n",
       " 'FTM^2 REB',\n",
       " 'FTM^2 AST',\n",
       " 'FTM^2 STL',\n",
       " 'FTM^2 BLK',\n",
       " 'FTM^2 TOV',\n",
       " 'FTM^2 PF',\n",
       " 'FTM^2 PTS',\n",
       " 'FTM FTA^2',\n",
       " 'FTM FTA FT_PCT',\n",
       " 'FTM FTA OREB',\n",
       " 'FTM FTA DREB',\n",
       " 'FTM FTA REB',\n",
       " 'FTM FTA AST',\n",
       " 'FTM FTA STL',\n",
       " 'FTM FTA BLK',\n",
       " 'FTM FTA TOV',\n",
       " 'FTM FTA PF',\n",
       " 'FTM FTA PTS',\n",
       " 'FTM FT_PCT^2',\n",
       " 'FTM FT_PCT OREB',\n",
       " 'FTM FT_PCT DREB',\n",
       " 'FTM FT_PCT REB',\n",
       " 'FTM FT_PCT AST',\n",
       " 'FTM FT_PCT STL',\n",
       " 'FTM FT_PCT BLK',\n",
       " 'FTM FT_PCT TOV',\n",
       " 'FTM FT_PCT PF',\n",
       " 'FTM FT_PCT PTS',\n",
       " 'FTM OREB^2',\n",
       " ...]"
      ]
     },
     "execution_count": 34,
     "metadata": {},
     "output_type": "execute_result"
    }
   ],
   "source": [
    "pf = PolynomialFeatures(degree=3)\n",
    "pf.fit(df_train[p1_features])\n",
    "feature_names = pf.get_feature_names(p1_features)\n",
    "feature_names"
   ]
  },
  {
   "cell_type": "code",
   "execution_count": 37,
   "metadata": {},
   "outputs": [
    {
     "data": {
      "text/html": [
       "<div>\n",
       "<style scoped>\n",
       "    .dataframe tbody tr th:only-of-type {\n",
       "        vertical-align: middle;\n",
       "    }\n",
       "\n",
       "    .dataframe tbody tr th {\n",
       "        vertical-align: top;\n",
       "    }\n",
       "\n",
       "    .dataframe thead th {\n",
       "        text-align: right;\n",
       "    }\n",
       "</style>\n",
       "<table border=\"1\" class=\"dataframe\">\n",
       "  <thead>\n",
       "    <tr style=\"text-align: right;\">\n",
       "      <th></th>\n",
       "      <th>name</th>\n",
       "      <th>weight</th>\n",
       "    </tr>\n",
       "  </thead>\n",
       "  <tbody>\n",
       "    <tr>\n",
       "      <th>0</th>\n",
       "      <td>1</td>\n",
       "      <td>0.000000</td>\n",
       "    </tr>\n",
       "    <tr>\n",
       "      <th>1</th>\n",
       "      <td>FGM</td>\n",
       "      <td>0.000000</td>\n",
       "    </tr>\n",
       "    <tr>\n",
       "      <th>2</th>\n",
       "      <td>FGA</td>\n",
       "      <td>-0.256749</td>\n",
       "    </tr>\n",
       "    <tr>\n",
       "      <th>3</th>\n",
       "      <td>FG_PCT</td>\n",
       "      <td>0.595982</td>\n",
       "    </tr>\n",
       "    <tr>\n",
       "      <th>4</th>\n",
       "      <td>FG3M</td>\n",
       "      <td>0.000000</td>\n",
       "    </tr>\n",
       "    <tr>\n",
       "      <th>5</th>\n",
       "      <td>FG3A</td>\n",
       "      <td>0.000000</td>\n",
       "    </tr>\n",
       "    <tr>\n",
       "      <th>6</th>\n",
       "      <td>FG3_PCT</td>\n",
       "      <td>0.278660</td>\n",
       "    </tr>\n",
       "    <tr>\n",
       "      <th>7</th>\n",
       "      <td>FTM</td>\n",
       "      <td>0.000000</td>\n",
       "    </tr>\n",
       "    <tr>\n",
       "      <th>8</th>\n",
       "      <td>FTA</td>\n",
       "      <td>0.000000</td>\n",
       "    </tr>\n",
       "    <tr>\n",
       "      <th>9</th>\n",
       "      <td>FT_PCT</td>\n",
       "      <td>0.000000</td>\n",
       "    </tr>\n",
       "  </tbody>\n",
       "</table>\n",
       "</div>"
      ],
      "text/plain": [
       "      name    weight\n",
       "0        1  0.000000\n",
       "1      FGM  0.000000\n",
       "2      FGA -0.256749\n",
       "3   FG_PCT  0.595982\n",
       "4     FG3M  0.000000\n",
       "5     FG3A  0.000000\n",
       "6  FG3_PCT  0.278660\n",
       "7      FTM  0.000000\n",
       "8      FTA  0.000000\n",
       "9   FT_PCT  0.000000"
      ]
     },
     "execution_count": 37,
     "metadata": {},
     "output_type": "execute_result"
    }
   ],
   "source": [
    "feature_table = pd.DataFrame({\n",
    "    'name': feature_names,\n",
    "    'weight': p1f_model.named_steps[\"model\"].coef_[0]\n",
    "})\n",
    "feature_table.head(10)"
   ]
  },
  {
   "cell_type": "code",
   "execution_count": 38,
   "metadata": {},
   "outputs": [
    {
     "data": {
      "text/html": [
       "<div>\n",
       "<style scoped>\n",
       "    .dataframe tbody tr th:only-of-type {\n",
       "        vertical-align: middle;\n",
       "    }\n",
       "\n",
       "    .dataframe tbody tr th {\n",
       "        vertical-align: top;\n",
       "    }\n",
       "\n",
       "    .dataframe thead th {\n",
       "        text-align: right;\n",
       "    }\n",
       "</style>\n",
       "<table border=\"1\" class=\"dataframe\">\n",
       "  <thead>\n",
       "    <tr style=\"text-align: right;\">\n",
       "      <th></th>\n",
       "      <th>name</th>\n",
       "      <th>weight</th>\n",
       "    </tr>\n",
       "  </thead>\n",
       "  <tbody>\n",
       "    <tr>\n",
       "      <th>12</th>\n",
       "      <td>REB</td>\n",
       "      <td>1.334164</td>\n",
       "    </tr>\n",
       "    <tr>\n",
       "      <th>3</th>\n",
       "      <td>FG_PCT</td>\n",
       "      <td>0.595982</td>\n",
       "    </tr>\n",
       "    <tr>\n",
       "      <th>14</th>\n",
       "      <td>STL</td>\n",
       "      <td>0.321964</td>\n",
       "    </tr>\n",
       "    <tr>\n",
       "      <th>6</th>\n",
       "      <td>FG3_PCT</td>\n",
       "      <td>0.278660</td>\n",
       "    </tr>\n",
       "    <tr>\n",
       "      <th>529</th>\n",
       "      <td>FG_PCT^2 PTS</td>\n",
       "      <td>0.173999</td>\n",
       "    </tr>\n",
       "    <tr>\n",
       "      <th>...</th>\n",
       "      <td>...</td>\n",
       "      <td>...</td>\n",
       "    </tr>\n",
       "    <tr>\n",
       "      <th>490</th>\n",
       "      <td>FGA REB TOV</td>\n",
       "      <td>-0.099364</td>\n",
       "    </tr>\n",
       "    <tr>\n",
       "      <th>158</th>\n",
       "      <td>DREB BLK</td>\n",
       "      <td>-0.100161</td>\n",
       "    </tr>\n",
       "    <tr>\n",
       "      <th>885</th>\n",
       "      <td>FG3_PCT^2 TOV</td>\n",
       "      <td>-0.101834</td>\n",
       "    </tr>\n",
       "    <tr>\n",
       "      <th>2</th>\n",
       "      <td>FGA</td>\n",
       "      <td>-0.256749</td>\n",
       "    </tr>\n",
       "    <tr>\n",
       "      <th>16</th>\n",
       "      <td>TOV</td>\n",
       "      <td>-0.428387</td>\n",
       "    </tr>\n",
       "  </tbody>\n",
       "</table>\n",
       "<p>100 rows × 2 columns</p>\n",
       "</div>"
      ],
      "text/plain": [
       "              name    weight\n",
       "12             REB  1.334164\n",
       "3           FG_PCT  0.595982\n",
       "14             STL  0.321964\n",
       "6          FG3_PCT  0.278660\n",
       "529   FG_PCT^2 PTS  0.173999\n",
       "..             ...       ...\n",
       "490    FGA REB TOV -0.099364\n",
       "158       DREB BLK -0.100161\n",
       "885  FG3_PCT^2 TOV -0.101834\n",
       "2              FGA -0.256749\n",
       "16             TOV -0.428387\n",
       "\n",
       "[100 rows x 2 columns]"
      ]
     },
     "execution_count": 38,
     "metadata": {},
     "output_type": "execute_result"
    }
   ],
   "source": [
    "feature_table[abs(feature_table['weight']) > 10**-2].sort_values(\n",
    "    'weight', ascending=False)"
   ]
  },
  {
   "cell_type": "markdown",
   "metadata": {},
   "source": [
    "### Part 2: Logistic Regression from Scratch (Optional)"
   ]
  },
  {
   "cell_type": "markdown",
   "metadata": {},
   "source": [
    "The code below fits an sklearn `LogisticRegression` model with `C = 1e-2` to the NBA dataset."
   ]
  },
  {
   "cell_type": "code",
   "execution_count": 39,
   "metadata": {},
   "outputs": [
    {
     "data": {
      "text/plain": [
       "LogisticRegression(C=0.001, class_weight=None, dual=False, fit_intercept=True,\n",
       "                   intercept_scaling=1, l1_ratio=None, max_iter=100,\n",
       "                   multi_class='auto', n_jobs=None, penalty='l2',\n",
       "                   random_state=None, solver='lbfgs', tol=0.0001, verbose=0,\n",
       "                   warm_start=False)"
      ]
     },
     "execution_count": 39,
     "metadata": {},
     "output_type": "execute_result"
    }
   ],
   "source": [
    "p2_features = ['FGM', 'FGA', 'STL']\n",
    "p2_sklearn_model = LogisticRegression(C=1e-3)\n",
    "p2_sklearn_model.fit(df_train[p2_features], df_train[\"WON\"])"
   ]
  },
  {
   "cell_type": "code",
   "execution_count": 40,
   "metadata": {},
   "outputs": [
    {
     "data": {
      "text/plain": [
       "array([-2.20493073])"
      ]
     },
     "execution_count": 40,
     "metadata": {},
     "output_type": "execute_result"
    }
   ],
   "source": [
    "p2_sklearn_model.intercept_"
   ]
  },
  {
   "cell_type": "code",
   "execution_count": 41,
   "metadata": {},
   "outputs": [
    {
     "data": {
      "text/plain": [
       "array([[ 0.19994998, -0.07420132,  0.08193321]])"
      ]
     },
     "execution_count": 41,
     "metadata": {},
     "output_type": "execute_result"
    }
   ],
   "source": [
    "p2_sklearn_model.coef_"
   ]
  },
  {
   "cell_type": "markdown",
   "metadata": {},
   "source": [
    "Using this model, we can predict the chance that a team will win if it attempts 50 field goals, succeeds at 30 of them, and also performs 20 steals. In this case, the model predicts this team will win with approximately 84.8% probability."
   ]
  },
  {
   "cell_type": "code",
   "execution_count": 42,
   "metadata": {},
   "outputs": [
    {
     "data": {
      "text/plain": [
       "array([[0.15159227, 0.84840773]])"
      ]
     },
     "execution_count": 42,
     "metadata": {},
     "output_type": "execute_result"
    }
   ],
   "source": [
    "p2_sklearn_model.predict_proba([[30, 50, 20]])"
   ]
  },
  {
   "cell_type": "markdown",
   "metadata": {},
   "source": [
    "We can also make multiple predictions at once, i.e. below we see that a team that makes 0 out of 0 field goal attempts and also makes 0 steals is predicted to win with an approximately 9.9% chance by our model."
   ]
  },
  {
   "cell_type": "code",
   "execution_count": 43,
   "metadata": {},
   "outputs": [
    {
     "data": {
      "text/plain": [
       "array([[0.15159227, 0.84840773],\n",
       "       [0.90069142, 0.09930858]])"
      ]
     },
     "execution_count": 43,
     "metadata": {},
     "output_type": "execute_result"
    }
   ],
   "source": [
    "p2_sklearn_model.predict_proba([[30, 50, 20], [0, 0, 0]])"
   ]
  },
  {
   "cell_type": "markdown",
   "metadata": {},
   "source": [
    "In problem 1, we saw how to fit such models. In this problem, we'll explore how the `LogisticRegression` class really works."
   ]
  },
  {
   "cell_type": "markdown",
   "metadata": {},
   "source": [
    "#### P1A: Understanding `predict_proba`"
   ]
  },
  {
   "cell_type": "markdown",
   "metadata": {},
   "source": [
    "Below, implement the `my_predict_proba` function.\n",
    "\n",
    "This function should return the chance that each of the given teams wins the game as a function of intercept and coefficient."
   ]
  },
  {
   "cell_type": "code",
   "execution_count": 44,
   "metadata": {},
   "outputs": [],
   "source": [
    "def my_predict_proba(intercept, coef, X):\n",
    "\n",
    "    def sigma(x_):\n",
    "        return 1 / (1 + np.exp(-x_))\n",
    "\n",
    "    return sigma(intercept + np.sum(coef * X, 1))"
   ]
  },
  {
   "cell_type": "markdown",
   "metadata": {},
   "source": [
    "For example, when running the code below, you should get back `[0.848, 0.0933]`."
   ]
  },
  {
   "cell_type": "code",
   "execution_count": 45,
   "metadata": {},
   "outputs": [
    {
     "data": {
      "text/plain": [
       "array([0.84840773, 0.09930858])"
      ]
     },
     "execution_count": 45,
     "metadata": {},
     "output_type": "execute_result"
    }
   ],
   "source": [
    "p1a_intercept = -2.20493073\n",
    "p1a_coef = np.array([0.19994998, -0.07420132, 0.08193321])\n",
    "p1a_X = np.array([[30, 50, 20], [0, 0, 0]])\n",
    "my_predict_proba(p1a_intercept, p1a_coef, p1a_X)"
   ]
  },
  {
   "cell_type": "markdown",
   "metadata": {},
   "source": [
    "#### P2B: Cross Entropy Loss Review"
   ]
  },
  {
   "cell_type": "markdown",
   "metadata": {},
   "source": [
    "Suppose that we have two basketball games:\n",
    "1. Team A makes 30 out of 50 field goals, and steals the ball 20 times. Team A wins.\n",
    "2. Team A makes 0 out of 0 field goals, and steals the ball 0 times. Team A loses.\n",
    "\n",
    "Write code below that computes the **total** cross-entropy loss of our model above on the given data. You can either do this by implementing the cross-entropy loss function yourself, or by using the sklearn `log_loss` function.\n",
    "\n",
    "**Hint:** If you set the parameter `normalize = False` in the sklearn `log_loss` function, you will get the total cross-entropy loss. \n",
    "\n",
    "You should get a value around 0.269."
   ]
  },
  {
   "cell_type": "code",
   "execution_count": 49,
   "metadata": {},
   "outputs": [
    {
     "data": {
      "text/plain": [
       "0.26898651122694023"
      ]
     },
     "execution_count": 49,
     "metadata": {},
     "output_type": "execute_result"
    }
   ],
   "source": [
    "log_loss([1, 0], [0.84840773, 0.09930858], normalize=False)"
   ]
  },
  {
   "cell_type": "markdown",
   "metadata": {},
   "source": [
    "#### P2C: Implementing `p2c_total_cross_entropy_loss`"
   ]
  },
  {
   "cell_type": "markdown",
   "metadata": {},
   "source": [
    "Below, define a function `p2c_total_cross_entropy_loss` that gives the cross entropy loss of the model with given `coef` and `intercept` applied to the given `X` and `y` data.\n",
    "\n",
    "**Hint:** You'll need to use the `my_predict_proba` function."
   ]
  },
  {
   "cell_type": "code",
   "execution_count": 50,
   "metadata": {},
   "outputs": [],
   "source": [
    "def p2c_total_cross_entropy_loss(y, intercept, coef, X):\n",
    "    return log_loss(y, my_predict_proba(intercept, coef, X), normalize=False)"
   ]
  },
  {
   "cell_type": "markdown",
   "metadata": {},
   "source": [
    "The code below should give the same answer as you computed in `P2B`. In other words, it should be approximatley 0.269."
   ]
  },
  {
   "cell_type": "code",
   "execution_count": 51,
   "metadata": {},
   "outputs": [
    {
     "data": {
      "text/plain": [
       "0.2689865094750521"
      ]
     },
     "execution_count": 51,
     "metadata": {},
     "output_type": "execute_result"
    }
   ],
   "source": [
    "p2c_total_cross_entropy_loss([1, 0], p1a_intercept, p1a_coef, p1a_X)"
   ]
  },
  {
   "cell_type": "markdown",
   "metadata": {},
   "source": [
    "Below, we can compute the total cross entropy loss of the same model on the entire NBA dataset. You should get around 1,158."
   ]
  },
  {
   "cell_type": "code",
   "execution_count": 53,
   "metadata": {},
   "outputs": [
    {
     "data": {
      "text/plain": [
       "1158.0808948850881"
      ]
     },
     "execution_count": 53,
     "metadata": {},
     "output_type": "execute_result"
    }
   ],
   "source": [
    "p2c_total_cross_entropy_loss(df_train[\"WON\"], p1a_intercept, p1a_coef,\n",
    "                             df_train[p2_features])"
   ]
  },
  {
   "cell_type": "markdown",
   "metadata": {},
   "source": [
    "#### P2D: Getting a Better Fit Manually"
   ]
  },
  {
   "cell_type": "markdown",
   "metadata": {},
   "source": [
    "Try changing the intercept and coefficients provided as parameters to the function below. Observe what happens to the total cross entropy loss.\n",
    "\n",
    "Most likely, if you change any values, you'll get slightly worse results. This is because the intercept and coefficients that we are using have been generated by sklearn to be optimal for this dataset."
   ]
  },
  {
   "cell_type": "code",
   "execution_count": 57,
   "metadata": {},
   "outputs": [
    {
     "data": {
      "text/plain": [
       "1158.0808948850881"
      ]
     },
     "execution_count": 57,
     "metadata": {},
     "output_type": "execute_result"
    }
   ],
   "source": [
    "p2c_total_cross_entropy_loss(df_train[\"WON\"], -2.20493073,\n",
    "                             np.array([[0.19994998, -0.07420132, 0.08193321]]),\n",
    "                             df_train[p2_features])"
   ]
  },
  {
   "cell_type": "markdown",
   "metadata": {},
   "source": [
    "#### P2E: Understanding `minimize`"
   ]
  },
  {
   "cell_type": "markdown",
   "metadata": {},
   "source": [
    "Consider the function `x^4 - 4*x^3 + 2*x^2 + x + 1`. The minimum of this function can be seen visually:"
   ]
  },
  {
   "cell_type": "code",
   "execution_count": 58,
   "metadata": {},
   "outputs": [
    {
     "data": {
      "image/png": "[encoded data removed]",
      "text/plain": [
       "<Figure size 600x600 with 1 Axes>"
      ]
     },
     "metadata": {},
     "output_type": "display_data"
    }
   ],
   "source": [
    "x = np.linspace(-2, 4, 100)\n",
    "\n",
    "\n",
    "def f_example_1D(x):\n",
    "    return x**4 - 4 * x**3 + 2 * x**2 + x + 1\n",
    "\n",
    "\n",
    "plt.plot(x, f_example_1D(x))\n",
    ";"
   ]
  },
  {
   "cell_type": "markdown",
   "metadata": {},
   "source": [
    "The `minimize` function of sklearn is able to find the minima of arbitrary functions. For example:"
   ]
  },
  {
   "cell_type": "code",
   "execution_count": 59,
   "metadata": {},
   "outputs": [
    {
     "data": {
      "text/plain": [
       "      fun: -7.494017550907326\n",
       " hess_inv: array([[0.04601209]])\n",
       "      jac: array([5.96046448e-07])\n",
       "  message: 'Optimization terminated successfully.'\n",
       "     nfev: 21\n",
       "      nit: 5\n",
       "     njev: 7\n",
       "   status: 0\n",
       "  success: True\n",
       "        x: array([2.57371512])"
      ]
     },
     "execution_count": 59,
     "metadata": {},
     "output_type": "execute_result"
    }
   ],
   "source": [
    "from scipy.optimize import minimize\n",
    "minimize(f_example_1D, x0=[1.3])"
   ]
  },
  {
   "cell_type": "markdown",
   "metadata": {},
   "source": [
    "The code above tells us that the minimizing x is 2.57. We can extract this optimal value by asking for the 'x' from the above dictionary."
   ]
  },
  {
   "cell_type": "code",
   "execution_count": 60,
   "metadata": {},
   "outputs": [
    {
     "name": "stdout",
     "output_type": "stream",
     "text": [
      "[2.57371512]\n"
     ]
    }
   ],
   "source": [
    "best_x = minimize(f_example_1D, x0=[1.3])['x']\n",
    "print(best_x)"
   ]
  },
  {
   "cell_type": "markdown",
   "metadata": {},
   "source": [
    "The `x0` we provide to minimize tells the scipy optimizer where to start looking for an optimum. That is, we can think of our algorithm as starting at the red dot and eventually ending up at the minimum at the blue dot."
   ]
  },
  {
   "cell_type": "code",
   "execution_count": 63,
   "metadata": {},
   "outputs": [
    {
     "data": {
      "image/png": "[encoded data removed]",
      "text/plain": [
       "<Figure size 600x600 with 1 Axes>"
      ]
     },
     "metadata": {},
     "output_type": "display_data"
    }
   ],
   "source": [
    "x = np.linspace(-2, 4, 100)\n",
    "\n",
    "\n",
    "def f_example_1D(x):\n",
    "    return x**4 - 4 * x**3 + 2 * x**2 + x + 1\n",
    "\n",
    "\n",
    "plt.plot(x, f_example_1D(x))\n",
    "plt.plot(1.3, f_example_1D(1.3), 'ro', markersize=12)\n",
    "plt.plot(2.57, f_example_1D(2.57), 'bo', markersize=12)\n",
    ";"
   ]
  },
  {
   "cell_type": "markdown",
   "metadata": {},
   "source": [
    "**Technical Note:** For general functions, the starting point we select can affect the final outcome. However, the cross entropy loss we'll be using later in this problem has a special property called \"convexity\" where the starting point we select does not matter. This is beyond the scope of our class."
   ]
  },
  {
   "cell_type": "markdown",
   "metadata": {},
   "source": [
    "We can also use `optimize` to minimize multi-dimensional functions. For example, consider the function (1 - x)^2 + 100(y - x^2 + 2)^2, which you can see visualized below or at [this link](https://en.wikipedia.org/wiki/Rosenbrock_function)."
   ]
  },
  {
   "cell_type": "code",
   "execution_count": 64,
   "metadata": {},
   "outputs": [
    {
     "data": {
      "image/png": "[encoded data removed]",
      "text/plain": [
       "<Figure size 600x600 with 1 Axes>"
      ]
     },
     "metadata": {},
     "output_type": "display_data"
    }
   ],
   "source": [
    "from mpl_toolkits import mplot3d\n",
    "\n",
    "\n",
    "def f(p):\n",
    "    x = p[0]\n",
    "    y = p[1]\n",
    "    return (1 - x)**2 + 100 * (y - x**2 + 2)**2\n",
    "\n",
    "\n",
    "X = np.linspace(-2, 2, 50)\n",
    "Y = np.linspace(-2, 2, 50)\n",
    "\n",
    "p = np.meshgrid(X, Y)\n",
    "Z = f(p)\n",
    "\n",
    "fig = plt.figure()\n",
    "ax = plt.axes(projection='3d')\n",
    "ax.contour3D(X, Y, Z, 50, cmap='binary')\n",
    "ax.set_xlabel('x')\n",
    "ax.set_ylabel('y')\n",
    "ax.set_zlabel('z')\n",
    ";"
   ]
  },
  {
   "cell_type": "markdown",
   "metadata": {},
   "source": [
    "The function is smallest in the large flat light colored region. Let's see what happens when we use scipy optimize on this function. We'll start at x = 0, y = 2, which is at the top of the black hill."
   ]
  },
  {
   "cell_type": "code",
   "execution_count": 65,
   "metadata": {},
   "outputs": [
    {
     "data": {
      "text/plain": [
       "      fun: 2.5830924248898155e-11\n",
       " hess_inv: array([[0.52024305, 1.0407402 ],\n",
       "       [1.0407402 , 2.08699126]])\n",
       "      jac: array([ 1.74013243e-06, -1.47256660e-06])\n",
       "  message: 'Optimization terminated successfully.'\n",
       "     nfev: 148\n",
       "      nit: 25\n",
       "     njev: 37\n",
       "   status: 0\n",
       "  success: True\n",
       "        x: array([ 0.99999492, -1.00001018])"
      ]
     },
     "execution_count": 65,
     "metadata": {},
     "output_type": "execute_result"
    }
   ],
   "source": [
    "minimize(f, x0=[0, 2])"
   ]
  },
  {
   "cell_type": "markdown",
   "metadata": {},
   "source": [
    "This time, we see the optimal input is approximately x = 1, y = -1. We can again plot this result as a starting red dot and a final blue dot."
   ]
  },
  {
   "cell_type": "code",
   "execution_count": 66,
   "metadata": {},
   "outputs": [
    {
     "data": {
      "image/png": "[encoded data removed]",
      "text/plain": [
       "<Figure size 600x600 with 1 Axes>"
      ]
     },
     "metadata": {},
     "output_type": "display_data"
    }
   ],
   "source": [
    "from mpl_toolkits import mplot3d\n",
    "\n",
    "\n",
    "def f(p):\n",
    "    x = p[0]\n",
    "    y = p[1]\n",
    "    return (1 - x)**2 + 100 * (y - x**2 + 2)**2\n",
    "\n",
    "\n",
    "X = np.linspace(-2, 2, 50)\n",
    "Y = np.linspace(-2, 2, 50)\n",
    "\n",
    "p = np.meshgrid(X, Y)\n",
    "Z = f(p)\n",
    "\n",
    "fig = plt.figure()\n",
    "ax = plt.axes(projection='3d')\n",
    "ax.contour3D(X, Y, Z, 50, cmap='binary')\n",
    "ax.scatter(0, 2, 1600, c='r', s=500)\n",
    "ax.scatter(1, -1, 0, c='b', s=500)\n",
    "ax.set_xlabel('x')\n",
    "ax.set_ylabel('y')\n",
    "ax.set_zlabel('z')\n",
    ";"
   ]
  },
  {
   "cell_type": "markdown",
   "metadata": {},
   "source": [
    "Now it's your turn. As an exercise, use scipy's `minimize` to find the minimum of $$x^2 + \\frac{y^2}{3} + z^2 + 2x + 5y + 1$$\n",
    "\n",
    "You should get x = -1, y = -1.5, z = 0."
   ]
  },
  {
   "cell_type": "code",
   "execution_count": 70,
   "metadata": {},
   "outputs": [
    {
     "data": {
      "text/plain": [
       "      fun: -18.749999999999993\n",
       " hess_inv: array([[ 5.01235319e-01, -1.63578381e-04, -3.77325322e-07],\n",
       "       [-1.63578381e-04,  1.49997451e+00,  7.74273572e-08],\n",
       "       [-3.77325322e-07,  7.74273572e-08,  1.00000000e+00]])\n",
       "      jac: array([0., 0., 0.])\n",
       "  message: 'Optimization terminated successfully.'\n",
       "     nfev: 40\n",
       "      nit: 7\n",
       "     njev: 8\n",
       "   status: 0\n",
       "  success: True\n",
       "        x: array([-9.99999940e-01, -7.49999991e+00, -4.23612610e-09])"
      ]
     },
     "execution_count": 70,
     "metadata": {},
     "output_type": "execute_result"
    }
   ],
   "source": [
    "def f3(p):\n",
    "    x = p[0]\n",
    "    y = p[1]\n",
    "    z = p[2]\n",
    "    return x**2 + y**2 / 3 + z**2 + 2 * x + 5 * y + 1\n",
    "\n",
    "\n",
    "minimize(f3, x0=[0, 0, 0])"
   ]
  },
  {
   "cell_type": "markdown",
   "metadata": {},
   "source": [
    "#### P2F: Fitting the model (Hard Problem!)"
   ]
  },
  {
   "cell_type": "markdown",
   "metadata": {},
   "source": [
    "Use `minimize` to find `intercept` and `coef` that minimize training error.\n",
    "\n",
    "**Hint:** Define a function `total_nba_cross_entropy_training_loss(thetas)` that gives the total cross entropy loss on the training set as a function of the intercept and coefficients. \n",
    "\n",
    "**Hint:** Your `p2c_total_cross_entropy_loss` problem will be useful here."
   ]
  },
  {
   "cell_type": "markdown",
   "metadata": {},
   "source": [
    "Your code shield give approximately intercept = `-2.44` and coefficients = `0.24, -0.09,  0.11`."
   ]
  },
  {
   "cell_type": "code",
   "execution_count": 71,
   "metadata": {},
   "outputs": [],
   "source": [
    "def total_nba_cross_entropy_training_loss(thetas):\n",
    "    return p2c_total_cross_entropy_loss(df_train[\"WON\"], thetas[0], thetas[1:],\n",
    "                                        df_train[p2_features])"
   ]
  },
  {
   "cell_type": "code",
   "execution_count": 73,
   "metadata": {},
   "outputs": [
    {
     "data": {
      "text/plain": [
       "      fun: 1152.4620232776037\n",
       " hess_inv: array([[ 5.53741993e-05, -1.30081753e-06, -3.43206921e-08,\n",
       "         9.22606887e-07],\n",
       "       [-1.30081753e-06,  2.90285366e-04, -1.31537035e-04,\n",
       "        -1.18058227e-04],\n",
       "       [-3.43206921e-08, -1.31537035e-04,  6.18978491e-05,\n",
       "         2.66145793e-05],\n",
       "       [ 9.22606887e-07, -1.18058227e-04,  2.66145793e-05,\n",
       "         4.40859372e-04]])\n",
       "      jac: array([-0.00028992, -0.01107788, -0.02577209, -0.00268555])\n",
       "  message: 'Desired error not necessarily achieved due to precision loss.'\n",
       "     nfev: 139\n",
       "      nit: 12\n",
       "     njev: 23\n",
       "   status: 2\n",
       "  success: False\n",
       "        x: array([-2.43815461,  0.23876416, -0.09202757,  0.1122991 ])"
      ]
     },
     "execution_count": 73,
     "metadata": {},
     "output_type": "execute_result"
    }
   ],
   "source": [
    "minimize(total_nba_cross_entropy_training_loss, x0=[0, 0, 0, 0])"
   ]
  },
  {
   "cell_type": "markdown",
   "metadata": {},
   "source": [
    "The intercept and theta we got above are not the same as we used earlier in the problem. For example, your code from P2E found that the coefficient for `FGA` is 0.24, but the example I gave at the beginning of this problem was 0.2.\n",
    "\n",
    "The reason is that the coefficient we computed at the beginning of this problem was from a regularized model where `C=1e-3`.\n",
    "\n",
    "Below, we create a `LogisticRegression` object with `penalty = 'none'` and fit it to the training set."
   ]
  },
  {
   "cell_type": "code",
   "execution_count": 76,
   "metadata": {},
   "outputs": [
    {
     "data": {
      "text/plain": [
       "LogisticRegression(C=1.0, class_weight=None, dual=False, fit_intercept=True,\n",
       "                   intercept_scaling=1, l1_ratio=None, max_iter=100,\n",
       "                   multi_class='auto', n_jobs=None, penalty='none',\n",
       "                   random_state=None, solver='lbfgs', tol=0.0001, verbose=0,\n",
       "                   warm_start=False)"
      ]
     },
     "execution_count": 76,
     "metadata": {},
     "output_type": "execute_result"
    }
   ],
   "source": [
    "p2f_model = LogisticRegression(penalty='none')\n",
    "p2f_model.fit(df_train[p2_features], df_train[\"WON\"])"
   ]
  },
  {
   "cell_type": "markdown",
   "metadata": {},
   "source": [
    "Observe below that the `intercept_` and `coef_` and they should be very close to the intercept and coefficients that you computed earlier in `P2E`.\n",
    "\n",
    "This is great! It means that what you just did in `P2E` is implement your very own logistic regression model. Good job!"
   ]
  },
  {
   "cell_type": "code",
   "execution_count": 77,
   "metadata": {},
   "outputs": [
    {
     "data": {
      "text/plain": [
       "array([-2.43824694])"
      ]
     },
     "execution_count": 77,
     "metadata": {},
     "output_type": "execute_result"
    }
   ],
   "source": [
    "p2f_model.intercept_"
   ]
  },
  {
   "cell_type": "code",
   "execution_count": 78,
   "metadata": {},
   "outputs": [
    {
     "data": {
      "text/plain": [
       "array([[ 0.23876388, -0.09202659,  0.11230134]])"
      ]
     },
     "execution_count": 78,
     "metadata": {},
     "output_type": "execute_result"
    }
   ],
   "source": [
    "p2f_model.coef_"
   ]
  },
  {
   "cell_type": "markdown",
   "metadata": {},
   "source": [
    "#### P2G: Fitting a Regularized Model"
   ]
  },
  {
   "cell_type": "markdown",
   "metadata": {},
   "source": [
    "In P2E, you found the $\\theta$ values that minimized the total cross entropy loss (TCEL). Or in otherwords, you minimized:\n",
    "\n",
    "$$\\sum_{i = 1}^n -\\ln(1-\\Delta y_i)$$"
   ]
  },
  {
   "cell_type": "markdown",
   "metadata": {},
   "source": [
    "The function that sklearn minimizes when regularizing is:"
   ]
  },
  {
   "cell_type": "markdown",
   "metadata": {},
   "source": [
    "$$\\frac{1}{2C} \\sum_{i = 2}^d \\theta_i^2 + \\sum_{i = 1}^n -\\ln(1-\\Delta y_i)$$"
   ]
  },
  {
   "cell_type": "markdown",
   "metadata": {},
   "source": [
    "Here we assume the intercept is $\\theta_1$, so it is not included in the left sum."
   ]
  },
  {
   "cell_type": "markdown",
   "metadata": {},
   "source": [
    "Below, use `minimize` to compute the $\\theta$ values that minimize the sum above.\n",
    "\n",
    "You should get the same $\\theta$ we used at the beginning of Problem 2, i.e. intercept = -2.2, and coefficients = 0.2, -0.07, and 0.08.\n",
    "\n",
    "Once you've done this, you've shown that you've essentially implemented your own `fit` function. Good job! "
   ]
  },
  {
   "cell_type": "code",
   "execution_count": 81,
   "metadata": {},
   "outputs": [],
   "source": [
    "def total_nba_cross_entropy_training_loss_plus_regularization(thetas):\n",
    "    loss = p2c_total_cross_entropy_loss(df_train['WON'], thetas[0], thetas[1:],\n",
    "                                        df_train[p2_features])\n",
    "    weight = 1 / 2e-3 * np.sum(thetas[1:]**2)\n",
    "    return loss + weight"
   ]
  },
  {
   "cell_type": "code",
   "execution_count": 82,
   "metadata": {},
   "outputs": [
    {
     "data": {
      "text/plain": [
       "      fun: 1184.1803355448894\n",
       " hess_inv: array([[ 6.20880656e-04, -2.63324399e-04,  1.16110834e-04,\n",
       "        -1.80957928e-05],\n",
       "       [-2.63324399e-04,  1.31204336e-04, -5.83460886e-05,\n",
       "         8.87495782e-06],\n",
       "       [ 1.16110834e-04, -5.83460886e-05,  2.76699171e-05,\n",
       "        -2.06517975e-05],\n",
       "       [-1.80957928e-05,  8.87495782e-06, -2.06517975e-05,\n",
       "         1.97945588e-04]])\n",
       "      jac: array([-3.05175781e-05, -9.30786133e-04, -2.70080566e-03, -1.98364258e-04])\n",
       "  message: 'Desired error not necessarily achieved due to precision loss.'\n",
       "     nfev: 127\n",
       "      nit: 12\n",
       "     njev: 21\n",
       "   status: 2\n",
       "  success: False\n",
       "        x: array([-2.20484264,  0.19995038, -0.07420251,  0.08193344])"
      ]
     },
     "execution_count": 82,
     "metadata": {},
     "output_type": "execute_result"
    }
   ],
   "source": [
    "minimize(total_nba_cross_entropy_training_loss_plus_regularization,\n",
    "         x0=[0, 0, 0, 0])"
   ]
  },
  {
   "cell_type": "markdown",
   "metadata": {},
   "source": [
    "#### P2H: Bonus Exercise: Building Your Own LogisticRegression Class (hard)"
   ]
  },
  {
   "cell_type": "markdown",
   "metadata": {},
   "source": [
    "Given what you learned in the previous parts of this problem, implement the `MyLogisticRegression` class below."
   ]
  },
  {
   "cell_type": "code",
   "execution_count": 84,
   "metadata": {},
   "outputs": [],
   "source": [
    "class MyLogisticRegression(object):\n",
    "\n",
    "    def __init__(self, C=1.0):\n",
    "        self.C = C\n",
    "\n",
    "    def fit(self, X, y):\n",
    "\n",
    "        def log_loss_function_plus_penalty(thetas):\n",
    "            model = MyLogisticRegression()\n",
    "            model.intercept_ = thetas[0]\n",
    "            model.coef_ = thetas[1:]\n",
    "            return log_loss(\n",
    "                y, model.predict_proba(X),\n",
    "                normalize=False) + 1.0 / (2 * self.C) * np.sum(thetas[1:]**2)\n",
    "\n",
    "        params = minimize(log_loss_function_plus_penalty,\n",
    "                          x0=np.zeros(X.shape[1] + 1))['x']\n",
    "        self.intercept_ = params[0]\n",
    "        self.coef_ = params[1:]\n",
    "\n",
    "    def predict_proba(self, X):\n",
    "        \"\"\"return 1D array equal to probability that X belongs to class 1\"\"\"\n",
    "\n",
    "        def sigma(x):\n",
    "            return 1 / (1 + np.exp(-x))\n",
    "\n",
    "        return sigma(np.sum(self.coef_ * X, 1) + self.intercept_)\n",
    "\n",
    "    def predict(self, X):\n",
    "        \"\"\"returns 1D array of predictions for X\"\"\"\n",
    "        return (self.predict_proba(X) > 0.5).astype(int)"
   ]
  },
  {
   "cell_type": "code",
   "execution_count": 85,
   "metadata": {},
   "outputs": [],
   "source": [
    "p2f_model = MyLogisticRegression(C=1e-3)\n",
    "p2f_model.fit(df_train[p2_features], df_train[\"WON\"])"
   ]
  },
  {
   "cell_type": "markdown",
   "metadata": {},
   "source": [
    "The intercept should be -2.2."
   ]
  },
  {
   "cell_type": "code",
   "execution_count": 86,
   "metadata": {},
   "outputs": [
    {
     "data": {
      "text/plain": [
       "-2.2048426368444547"
      ]
     },
     "execution_count": 86,
     "metadata": {},
     "output_type": "execute_result"
    }
   ],
   "source": [
    "p2f_model.intercept_"
   ]
  },
  {
   "cell_type": "markdown",
   "metadata": {},
   "source": [
    "Coefficients should be 0.2, -0.07, 0.08/."
   ]
  },
  {
   "cell_type": "code",
   "execution_count": 87,
   "metadata": {},
   "outputs": [
    {
     "data": {
      "text/plain": [
       "array([ 0.19995038, -0.07420251,  0.08193344])"
      ]
     },
     "execution_count": 87,
     "metadata": {},
     "output_type": "execute_result"
    }
   ],
   "source": [
    "p2f_model.coef_"
   ]
  },
  {
   "cell_type": "markdown",
   "metadata": {},
   "source": [
    "Predictions should be 0.85, 0.1."
   ]
  },
  {
   "cell_type": "code",
   "execution_count": 88,
   "metadata": {},
   "outputs": [
    {
     "data": {
      "text/plain": [
       "array([0.84841353, 0.09931646])"
      ]
     },
     "execution_count": 88,
     "metadata": {},
     "output_type": "execute_result"
    }
   ],
   "source": [
    "p2f_model.predict_proba([[30, 50, 20], [0, 0, 0]])"
   ]
  },
  {
   "cell_type": "markdown",
   "metadata": {},
   "source": [
    "#### Optional Part 3: Intercept Regularization"
   ]
  },
  {
   "cell_type": "markdown",
   "metadata": {},
   "source": [
    "This part of the homework is less important, but some of you might find it interesitng."
   ]
  },
  {
   "cell_type": "code",
   "execution_count": 89,
   "metadata": {},
   "outputs": [],
   "source": [
    "titanic_df = sns.load_dataset(\"titanic\")\n",
    "titanic_df = titanic_df[[\"age\", \"fare\", \"pclass\", \"sex\", \"survived\"]].copy()\n",
    "titanic_df = titanic_df.dropna()\n",
    "titanic_df['sex'] = titanic_df['sex'].replace(\"male\", 0)\n",
    "titanic_df['sex'] = titanic_df['sex'].replace(\"female\", 1)\n",
    "np.random.seed(23)\n",
    "titanic_train, titanic_test = np.split(titanic_df, [600])"
   ]
  },
  {
   "cell_type": "markdown",
   "metadata": {},
   "source": [
    "Below, we have trained two models on the titanic dataset.\n",
    "\n",
    "As described in lecture, `tiny_c_model_fit_intercept_true` has two intercepts, one of which is regularized, and one of which is unregularized."
   ]
  },
  {
   "cell_type": "code",
   "execution_count": 90,
   "metadata": {},
   "outputs": [],
   "source": [
    "tiny_c_model_fit_intercept_true = Pipeline([\n",
    "    ('scale', StandardScaler()), ('poly', PolynomialFeatures(degree=2)),\n",
    "    ('model', LogisticRegression(fit_intercept=True, C=1e-8))\n",
    "])\n",
    "tiny_c_model_fit_intercept_true.fit(\n",
    "    titanic_train[[\"fare\", \"age\", \"pclass\", \"sex\"]], titanic_train[\"survived\"])\n",
    ";"
   ]
  },
  {
   "cell_type": "markdown",
   "metadata": {},
   "source": [
    "We see that one of the intercepts is around 10^-12. This is 0th entry of the `coef_`.\n"
   ]
  },
  {
   "cell_type": "code",
   "execution_count": 92,
   "metadata": {},
   "outputs": [
    {
     "data": {
      "text/plain": [
       "array([[ 2.25694801e-12,  7.51227164e-07, -2.65119113e-07,\n",
       "        -1.03238354e-06,  1.56658189e-06,  2.11003830e-06,\n",
       "         1.57498539e-07, -6.45345674e-07,  2.85642088e-07,\n",
       "         2.51417259e-08,  8.11665626e-08,  9.48429057e-08,\n",
       "         3.59262878e-07, -4.70406297e-07,  8.90303584e-07]])"
      ]
     },
     "execution_count": 92,
     "metadata": {},
     "output_type": "execute_result"
    }
   ],
   "source": [
    "tiny_c_model_fit_intercept_true.named_steps[\"model\"].coef_"
   ]
  },
  {
   "cell_type": "markdown",
   "metadata": {},
   "source": [
    "And the other is around -0.377. This is the unregularized intercept."
   ]
  },
  {
   "cell_type": "code",
   "execution_count": 93,
   "metadata": {},
   "outputs": [
    {
     "data": {
      "text/plain": [
       "array([-0.3777663])"
      ]
     },
     "execution_count": 93,
     "metadata": {},
     "output_type": "execute_result"
    }
   ],
   "source": [
    "tiny_c_model_fit_intercept_true.named_steps[\"model\"].intercept_"
   ]
  },
  {
   "cell_type": "markdown",
   "metadata": {},
   "source": [
    "By contrast, if we set `fit_intercept = False`, the resulting `intercept_` is zero, and we're left with only the regularized intercept given by the 0th entry of `coef_`."
   ]
  },
  {
   "cell_type": "code",
   "execution_count": 94,
   "metadata": {},
   "outputs": [],
   "source": [
    "tiny_c_model_fit_intercept_false = Pipeline([\n",
    "    ('scale', StandardScaler()), ('poly', PolynomialFeatures(degree=2)),\n",
    "    ('model', LogisticRegression(fit_intercept=False, C=1e-8))\n",
    "])\n",
    "tiny_c_model_fit_intercept_false.fit(\n",
    "    titanic_train[[\"fare\", \"age\", \"pclass\", \"sex\"]], titanic_train[\"survived\"])\n",
    ";"
   ]
  },
  {
   "cell_type": "code",
   "execution_count": 95,
   "metadata": {},
   "outputs": [
    {
     "data": {
      "text/plain": [
       "array([[-5.60001095e-07,  7.51233457e-07, -2.65119073e-07,\n",
       "        -1.03238765e-06,  1.56658614e-06,  1.55006743e-06,\n",
       "         1.14122444e-07, -3.34537258e-07,  1.91154249e-07,\n",
       "        -5.34859749e-07,  2.87975816e-07,  1.77232437e-07,\n",
       "        -2.00738071e-07, -3.98849755e-07,  3.30302647e-07]])"
      ]
     },
     "execution_count": 95,
     "metadata": {},
     "output_type": "execute_result"
    }
   ],
   "source": [
    "tiny_c_model_fit_intercept_false.named_steps[\"model\"].coef_"
   ]
  },
  {
   "cell_type": "code",
   "execution_count": 96,
   "metadata": {},
   "outputs": [
    {
     "data": {
      "text/plain": [
       "array([0.])"
      ]
     },
     "execution_count": 96,
     "metadata": {},
     "output_type": "execute_result"
    }
   ],
   "source": [
    "tiny_c_model_fit_intercept_false.named_steps[\"model\"].intercept_"
   ]
  },
  {
   "cell_type": "markdown",
   "metadata": {},
   "source": [
    "#### P3A: Accuracy"
   ]
  },
  {
   "cell_type": "markdown",
   "metadata": {},
   "source": [
    "Since the `tiny_c_model_fit_intercept_true` has more freedom to pick a better intercept, you might expect that it should have higher accuracy. Let's test this hypothesis."
   ]
  },
  {
   "cell_type": "markdown",
   "metadata": {},
   "source": [
    "Compute the accuracy of our two models using sklearn's `accuracy_score` function."
   ]
  },
  {
   "cell_type": "code",
   "execution_count": 97,
   "metadata": {},
   "outputs": [
    {
     "data": {
      "text/plain": [
       "0.5964912280701754"
      ]
     },
     "execution_count": 97,
     "metadata": {},
     "output_type": "execute_result"
    }
   ],
   "source": [
    "accuracy_fit_intercept_true = accuracy_score(\n",
    "    titanic_test[\"survived\"],\n",
    "    tiny_c_model_fit_intercept_true.predict(\n",
    "        titanic_test[[\"fare\", \"age\", \"pclass\", \"sex\"]]))\n",
    "accuracy_fit_intercept_true"
   ]
  },
  {
   "cell_type": "code",
   "execution_count": 98,
   "metadata": {},
   "outputs": [
    {
     "data": {
      "text/plain": [
       "0.7807017543859649"
      ]
     },
     "execution_count": 98,
     "metadata": {},
     "output_type": "execute_result"
    }
   ],
   "source": [
    "accuracy_fit_intercept_false = accuracy_score(\n",
    "    titanic_test[\"survived\"],\n",
    "    tiny_c_model_fit_intercept_false.predict(\n",
    "        titanic_test[[\"fare\", \"age\", \"pclass\", \"sex\"]]))\n",
    "accuracy_fit_intercept_false"
   ]
  },
  {
   "cell_type": "markdown",
   "metadata": {},
   "source": [
    "You should see that surprisingly, the model with the `fit_intercept = False` actually has higher accuracy! Over the next few problems, we'll see why."
   ]
  },
  {
   "cell_type": "markdown",
   "metadata": {},
   "source": [
    "#### P3B: Cross Entropy "
   ]
  },
  {
   "cell_type": "markdown",
   "metadata": {},
   "source": [
    "This time, compute the **total** cross entropy loss for the two models. You should see that `tiny_c_model_fit_intercept_true` is better than `tiny_c_model_fit_intercept_false`, i.e. the log_loss is lower for the model that pick its intercept without worrying about regularization. \n",
    "\n",
    "You should get approximately 405 for `tiny_c_model_fit_intercept_true` and 416 for `tiny_c_model_fit_intercept_false`.\n",
    "\n",
    "Reminder; Make sure to set `normalize = False` when calling `log_loss`. This gives you back the total cross entropy loss instead of the average."
   ]
  },
  {
   "cell_type": "code",
   "execution_count": 99,
   "metadata": {},
   "outputs": [
    {
     "data": {
      "text/plain": [
       "415.887534194071"
      ]
     },
     "execution_count": 99,
     "metadata": {},
     "output_type": "execute_result"
    }
   ],
   "source": [
    "log_loss(titanic_train['survived'],\n",
    "         tiny_c_model_fit_intercept_false.predict_proba(\n",
    "             titanic_train[['fare', 'age', 'pclass', 'sex']]),\n",
    "         normalize=False)"
   ]
  },
  {
   "cell_type": "code",
   "execution_count": 100,
   "metadata": {},
   "outputs": [
    {
     "data": {
      "text/plain": [
       "405.3723770626674"
      ]
     },
     "execution_count": 100,
     "metadata": {},
     "output_type": "execute_result"
    }
   ],
   "source": [
    "log_loss(titanic_train['survived'],\n",
    "         tiny_c_model_fit_intercept_true.predict_proba(\n",
    "             titanic_train[['fare', 'age', 'pclass', 'sex']]),\n",
    "         normalize=False)"
   ]
  },
  {
   "cell_type": "code",
   "execution_count": 101,
   "metadata": {},
   "outputs": [
    {
     "data": {
      "text/plain": [
       "79.01867046324062"
      ]
     },
     "execution_count": 101,
     "metadata": {},
     "output_type": "execute_result"
    }
   ],
   "source": [
    "log_loss(titanic_test['survived'],\n",
    "         tiny_c_model_fit_intercept_false.predict_proba(\n",
    "             titanic_test[['fare', 'age', 'pclass', 'sex']]),\n",
    "         normalize=False)"
   ]
  },
  {
   "cell_type": "code",
   "execution_count": 102,
   "metadata": {},
   "outputs": [
    {
     "data": {
      "text/plain": [
       "76.88480869635879"
      ]
     },
     "execution_count": 102,
     "metadata": {},
     "output_type": "execute_result"
    }
   ],
   "source": [
    "log_loss(titanic_test['survived'],\n",
    "         tiny_c_model_fit_intercept_true.predict_proba(\n",
    "             titanic_test[['fare', 'age', 'pclass', 'sex']]),\n",
    "         normalize=False)"
   ]
  },
  {
   "cell_type": "markdown",
   "metadata": {},
   "source": [
    "Our observations are summarized in the table below.\n",
    "\n",
    "|                       | accuracy | cross entropy loss |\n",
    "|-----------------------|----------|--------------------|\n",
    "| `fit_intercept = True`  | 59%      | 405                |\n",
    "| `fit_intercept = False` | 77%      | 416                |"
   ]
  },
  {
   "cell_type": "markdown",
   "metadata": {},
   "source": [
    "Which is better? It depends on how you define better.\n",
    "\n",
    "The LogisticRegression model defines \"better\" as lower cross-entropy loss. From that perspective, `fit_intercept = True` is bettre, since cross entropy loss is only 405.\n",
    "\n",
    "However, as a human using the model, you might care more about accuracy. Or perhaps you care about another measure like \"true positive rate\". We will discuss other such measurements in a future lecture.\n",
    "\n",
    "**Note: The REAL problem here is that we have picked a C which is much too small (C = 1e-8). This results in a model that is vastly underfit and cannot perform well on the provided data.** In real world scenarios with reasonable hyperparameter choices, it is uncommon for accuracy and cross entropy loss to be so out of sync."
   ]
  },
  {
   "cell_type": "markdown",
   "metadata": {},
   "source": [
    "#### P3C: A Closer Look"
   ]
  },
  {
   "cell_type": "markdown",
   "metadata": {},
   "source": [
    "You might find it interesting to see the output of our two models:"
   ]
  },
  {
   "cell_type": "code",
   "execution_count": 103,
   "metadata": {
    "scrolled": true
   },
   "outputs": [
    {
     "data": {
      "text/plain": [
       "array([[0.59333429, 0.40666571],\n",
       "       [0.59333212, 0.40666788],\n",
       "       [0.59333359, 0.40666641],\n",
       "       ...,\n",
       "       [0.5933332 , 0.4066668 ],\n",
       "       [0.59333424, 0.40666576],\n",
       "       [0.59333438, 0.40666562]])"
      ]
     },
     "execution_count": 103,
     "metadata": {},
     "output_type": "execute_result"
    }
   ],
   "source": [
    "tiny_c_model_fit_intercept_true.predict_proba(\n",
    "    titanic_train[[\"fare\", \"age\", \"pclass\", \"sex\"]])"
   ]
  },
  {
   "cell_type": "code",
   "execution_count": 104,
   "metadata": {
    "scrolled": true
   },
   "outputs": [
    {
     "data": {
      "text/plain": [
       "array([[0.50000055, 0.49999945],\n",
       "       [0.49999872, 0.50000128],\n",
       "       [0.49999989, 0.50000011],\n",
       "       ...,\n",
       "       [0.49999979, 0.50000021],\n",
       "       [0.50000085, 0.49999915],\n",
       "       [0.50000056, 0.49999944]])"
      ]
     },
     "execution_count": 104,
     "metadata": {},
     "output_type": "execute_result"
    }
   ],
   "source": [
    "tiny_c_model_fit_intercept_false.predict_proba(\n",
    "    titanic_train[[\"fare\", \"age\", \"pclass\", \"sex\"]])"
   ]
  },
  {
   "cell_type": "markdown",
   "metadata": {},
   "source": [
    "What we see is that the `fit_intercept_true` model basically just gives every passenger a 40.6% chance of surviving. This is also the fraction of passengers who survived. That means that the class it predicts for every passenger is 0, i.e. it thinks everyone died. This is why the accuracy is relatively poor, since it gets every single surviving passenger wrong.\n",
    "\n",
    "By contrast, `fit_intercept_false` gives every passenger an approximately 50% chance of surviving. In this case, the classes for passengers are 0 or 1, resulting in an overall 77% accuracy."
   ]
  }
 ],
 "metadata": {
  "kernelspec": {
   "display_name": "Python 3",
   "language": "python",
   "name": "python3"
  },
  "language_info": {
   "codemirror_mode": {
    "name": "ipython",
    "version": 3
   },
   "file_extension": ".py",
   "mimetype": "text/x-python",
   "name": "python",
   "nbconvert_exporter": "python",
   "pygments_lexer": "ipython3",
   "version": "3.7.6"
  }
 },
 "nbformat": 4,
 "nbformat_minor": 4
}
